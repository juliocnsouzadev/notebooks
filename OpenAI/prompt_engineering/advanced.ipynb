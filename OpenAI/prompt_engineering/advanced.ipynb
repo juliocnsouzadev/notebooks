{
 "cells": [
  {
   "metadata": {},
   "cell_type": "markdown",
   "source": "# Advances Prompt Engineering Strategies",
   "id": "fc165702b7ab9f31"
  },
  {
   "metadata": {},
   "cell_type": "markdown",
   "source": "### Loading OpenAI API Key",
   "id": "ca08f45d82470075"
  },
  {
   "metadata": {
    "ExecuteTime": {
     "end_time": "2025-05-15T10:25:52.493648Z",
     "start_time": "2025-05-15T10:25:52.472143Z"
    }
   },
   "cell_type": "code",
   "source": [
    "from dotenv import load_dotenv\n",
    "import os\n",
    "\n",
    "# Load the .env file\n",
    "load_dotenv(dotenv_path='../.env')  # Specify the path to your .env file\n",
    "\n",
    "# Access the environment variable\n",
    "api_key = os.getenv('OPENAI_API_KEY')\n",
    "\n",
    "# Check if the variable is loaded\n",
    "if api_key or api_key == \"\":\n",
    "    print(\"API key loaded successfully.\")\n",
    "else:\n",
    "    print(\"Failed to load API key.\")"
   ],
   "id": "66ce8811ddd1e95d",
   "outputs": [
    {
     "name": "stdout",
     "output_type": "stream",
     "text": [
      "API key loaded successfully.\n"
     ]
    }
   ],
   "execution_count": 2
  },
  {
   "metadata": {},
   "cell_type": "markdown",
   "source": "## Initializing OpenAI API",
   "id": "33577368cd1e911c"
  },
  {
   "metadata": {
    "ExecuteTime": {
     "end_time": "2025-05-15T10:25:55.442965Z",
     "start_time": "2025-05-15T10:25:54.403721Z"
    }
   },
   "cell_type": "code",
   "source": [
    "from openai import OpenAI\n",
    "\n",
    "client = OpenAI(api_key=api_key)"
   ],
   "id": "a88d5435788ec5c4",
   "outputs": [],
   "execution_count": 3
  },
  {
   "metadata": {},
   "cell_type": "markdown",
   "source": "## Auxiliary Functions",
   "id": "efdef7efd01c7fde"
  },
  {
   "metadata": {},
   "cell_type": "markdown",
   "source": "### Function to get the model response",
   "id": "b5da583d61dbb378"
  },
  {
   "metadata": {
    "ExecuteTime": {
     "end_time": "2025-05-15T11:01:32.374274Z",
     "start_time": "2025-05-15T11:01:32.363301Z"
    }
   },
   "cell_type": "code",
   "source": [
    "class Message:\n",
    "    def __init__(self, role, content):\n",
    "        self.role = role\n",
    "        self.content = content\n",
    "\n",
    "def get_response(messages:list[Message], model=\"gpt-3.5-turbo\", temperature=0.7):\n",
    "    \"\"\"\n",
    "    Get a response from the OpenAI API.\n",
    "\n",
    "    Parameters:\n",
    "    - prompt (str): The input prompt for the model.\n",
    "    - model (str): The model to use. Default is \"gpt-3.5-turbo\".\n",
    "    - temperature (float): Sampling temperature. Default is 0.7.\n",
    "\n",
    "    Returns:\n",
    "    - str: The model's response.\n",
    "    \"\"\"\n",
    "    model_response = client.chat.completions.create(\n",
    "        model=model,\n",
    "        messages=[message.__dict__ for message in messages],\n",
    "        temperature=temperature\n",
    "    )\n",
    "\n",
    "    # Access the content of the first choice\n",
    "    return model_response.choices[0].message.content"
   ],
   "id": "8499d442df3e4d5a",
   "outputs": [],
   "execution_count": 20
  },
  {
   "metadata": {},
   "cell_type": "markdown",
   "source": "# Shots",
   "id": "e464641784492888"
  },
  {
   "metadata": {},
   "cell_type": "markdown",
   "source": "## Zero-Shot, One-Shot, and Few-Shot Prompts",
   "id": "2435119f982a2568"
  },
  {
   "metadata": {},
   "cell_type": "markdown",
   "source": "### Function to generate a prompt for extracting odd numbers",
   "id": "171af5d8fbe84863"
  },
  {
   "metadata": {
    "ExecuteTime": {
     "end_time": "2025-05-15T11:01:36.152640Z",
     "start_time": "2025-05-15T11:01:36.140638Z"
    }
   },
   "cell_type": "code",
   "source": [
    "def get_extract_odd_numbers_prompt(input_data:set[int], examples:int=0):\n",
    "    \"\"\"\n",
    "    Generate a prompt for the OpenAI API to extract odd numbers from a set of integers.\n",
    "    :param input_data: A set of integers.\n",
    "    :param examples: Number of examples to include in the prompt.\n",
    "    :return: A string containing the prompt.\n",
    "    \"\"\"\n",
    "    def get_question(question_data:set[int]):\n",
    "        return f\"Q: What are the odd numbers in the given set of integers {question_data}?\"\n",
    "    extract_odds_prompt = f\"{get_question(input_data)}. A: \"\n",
    "    if examples > 0:\n",
    "        shots = \"\"\n",
    "        for i_exp in range(examples):\n",
    "            example_data = set(range(i_exp * 2 + 1, i_exp * 2 + 3))\n",
    "            odds = set(filter(lambda x: x % 2 != 0, example_data))\n",
    "            shots += f\"{get_question(example_data)}. A: {odds}\\n\"\n",
    "        return shots + extract_odds_prompt\n",
    "    return f\"\"\"{extract_odds_prompt}\"\"\"\n",
    "\n"
   ],
   "id": "a43aebb3b02275c9",
   "outputs": [],
   "execution_count": 21
  },
  {
   "metadata": {
    "ExecuteTime": {
     "end_time": "2025-05-15T11:01:36.967135Z",
     "start_time": "2025-05-15T11:01:36.957069Z"
    }
   },
   "cell_type": "code",
   "source": [
    "# Example usage (only prompt)\n",
    "data = {1, 2, 3, 4, 5, 6, 7, 8, 9}\n",
    "\n",
    "for i in range(1, 4):\n",
    "    prompt = get_extract_odd_numbers_prompt(data, examples=i)\n",
    "    print(f\"- Prompt with {i} example(s):\\n{prompt}\")\n",
    "    print(\"-\" * 50)"
   ],
   "id": "3eba159b5b00315d",
   "outputs": [
    {
     "name": "stdout",
     "output_type": "stream",
     "text": [
      "- Prompt with 1 example(s):\n",
      "Q: What are the odd numbers in the given set of integers {1, 2}?. A: {1}\n",
      "Q: What are the odd numbers in the given set of integers {1, 2, 3, 4, 5, 6, 7, 8, 9}?. A: \n",
      "--------------------------------------------------\n",
      "- Prompt with 2 example(s):\n",
      "Q: What are the odd numbers in the given set of integers {1, 2}?. A: {1}\n",
      "Q: What are the odd numbers in the given set of integers {3, 4}?. A: {3}\n",
      "Q: What are the odd numbers in the given set of integers {1, 2, 3, 4, 5, 6, 7, 8, 9}?. A: \n",
      "--------------------------------------------------\n",
      "- Prompt with 3 example(s):\n",
      "Q: What are the odd numbers in the given set of integers {1, 2}?. A: {1}\n",
      "Q: What are the odd numbers in the given set of integers {3, 4}?. A: {3}\n",
      "Q: What are the odd numbers in the given set of integers {5, 6}?. A: {5}\n",
      "Q: What are the odd numbers in the given set of integers {1, 2, 3, 4, 5, 6, 7, 8, 9}?. A: \n",
      "--------------------------------------------------\n"
     ]
    }
   ],
   "execution_count": 22
  },
  {
   "metadata": {
    "ExecuteTime": {
     "end_time": "2025-05-15T11:02:25.409065Z",
     "start_time": "2025-05-15T11:02:24.150631Z"
    }
   },
   "cell_type": "code",
   "source": [
    "# Example usage (with response)\n",
    "data = {3, 5, 11, 12, 16}\n",
    "zero_shot_prompt = get_extract_odd_numbers_prompt(data)\n",
    "response = get_response(messages=[Message(role=\"user\", content=zero_shot_prompt)])\n",
    "print(f\"\\nPrompt zero shot:\\n{zero_shot_prompt}\")\n",
    "print(f\"\\nResponse zero shot:\\n{response}\")\n",
    "print(\"-\" * 50)\n",
    "\n",
    "one_shot_prompt = get_extract_odd_numbers_prompt(data, examples=1)\n",
    "response = get_response(messages=[Message(role=\"user\", content=one_shot_prompt)])\n",
    "print(f\"\\nPrompt one shot:\\n{one_shot_prompt}\")\n",
    "print(f\"\\nResponse one shot:\\n{response}\")\n",
    "print(\"-\" * 50)\n",
    "\n",
    "few_shot_prompt = get_extract_odd_numbers_prompt(data, examples=2)\n",
    "response = get_response(messages=[Message(role=\"user\", content=few_shot_prompt)])\n",
    "print(f\"\\nPrompt few shot:\\n{few_shot_prompt}\")\n",
    "print(f\"\\nResponse few shot:\\n{response}\")\n",
    "print(\"-\" * 50)"
   ],
   "id": "26c576a6606614c6",
   "outputs": [
    {
     "name": "stdout",
     "output_type": "stream",
     "text": [
      "\n",
      "Prompt zero shot:\n",
      "Q: What are the odd numbers in the given set of integers {16, 3, 5, 11, 12}?. A: \n",
      "\n",
      "Response zero shot:\n",
      "3, 5, 11\n",
      "--------------------------------------------------\n",
      "\n",
      "Prompt one shot:\n",
      "Q: What are the odd numbers in the given set of integers {1, 2}?. A: {1}\n",
      "Q: What are the odd numbers in the given set of integers {16, 3, 5, 11, 12}?. A: \n",
      "\n",
      "Response one shot:\n",
      "{3, 5, 11}\n",
      "--------------------------------------------------\n",
      "\n",
      "Prompt few shot:\n",
      "Q: What are the odd numbers in the given set of integers {1, 2}?. A: {1}\n",
      "Q: What are the odd numbers in the given set of integers {3, 4}?. A: {3}\n",
      "Q: What are the odd numbers in the given set of integers {16, 3, 5, 11, 12}?. A: \n",
      "\n",
      "Response few shot:\n",
      "{3, 5, 11}\n",
      "--------------------------------------------------\n"
     ]
    }
   ],
   "execution_count": 23
  },
  {
   "metadata": {},
   "cell_type": "markdown",
   "source": "### Sentiment analysis with few-shot prompting",
   "id": "492e0070c8378103"
  },
  {
   "metadata": {},
   "cell_type": "markdown",
   "source": "#### Function to generate messages for sentiment analysis",
   "id": "e98657588375afee"
  },
  {
   "metadata": {
    "ExecuteTime": {
     "end_time": "2025-05-15T11:31:11.185733Z",
     "start_time": "2025-05-15T11:31:11.172735Z"
    }
   },
   "cell_type": "code",
   "source": [
    "def get_sentiment_analysis_messages(input_text:str, examples:int=0):\n",
    "    \"\"\"\n",
    "    Generate messages for sentiment analysis.\n",
    "    :param input_text: The input text for sentiment analysis.\n",
    "    :param examples: Number of examples to include in the prompt.\n",
    "    :return: A list of messages for the OpenAI API.\n",
    "    \"\"\"\n",
    "    if examples > 6:\n",
    "        raise ValueError(\"The maximum number of examples is 6.\")\n",
    "\n",
    "    messages = []\n",
    "    if examples > 0:\n",
    "        sentiment_examples = [\n",
    "            {\"sentence\": \"I love programming!\", \"sentiment\": \"Positive\"},\n",
    "            {\"sentence\": \"I hate programming!\", \"sentiment\": \"Negative\"},\n",
    "            {\"sentence\": \"This is a great day\", \"sentiment\": \"Positive\"},\n",
    "            {\"sentence\": \"This is a bad day\", \"sentiment\": \"Negative\"},\n",
    "            {\"sentence\": \"I am very happy.\", \"sentiment\": \"Positive\"},\n",
    "            {\"sentence\": \"I am very sad.\", \"sentiment\": \"Negative\"}\n",
    "        ]\n",
    "        for i_exp in range(examples):\n",
    "            # Example data, question as user\n",
    "            msg = Message(role=\"user\", content=sentiment_examples[i_exp].get(\"sentence\"))\n",
    "            messages.append(msg)\n",
    "            # Example data, answer as assistant\n",
    "            msg = Message(role=\"assistant\", content=sentiment_examples[i_exp].get(\"sentiment\"))\n",
    "            messages.append(msg)\n",
    "\n",
    "    question_msg = Message(role=\"user\", content=input_text)\n",
    "    messages.append(question_msg)\n",
    "    return messages"
   ],
   "id": "a20f83f8ef62bb99",
   "outputs": [],
   "execution_count": 34
  },
  {
   "metadata": {
    "ExecuteTime": {
     "end_time": "2025-05-15T11:31:11.768204Z",
     "start_time": "2025-05-15T11:31:11.757202Z"
    }
   },
   "cell_type": "code",
   "source": [
    "# Example usage (only prompt)\n",
    "text = \"I love programming!\"\n",
    "for i in range(1, 5):\n",
    "    msgs = get_sentiment_analysis_messages(text, examples=i)\n",
    "    print(f\"\\nMsgs with {i} example(s):\\n{[msg.__dict__ for msg in msgs]}\")\n",
    "    print(\"-\" * 50)"
   ],
   "id": "af02a96e336267df",
   "outputs": [
    {
     "name": "stdout",
     "output_type": "stream",
     "text": [
      "\n",
      "Msgs with 1 example(s):\n",
      "[{'role': 'user', 'content': 'I love programming!'}, {'role': 'assistant', 'content': 'Positive'}, {'role': 'user', 'content': 'I love programming!'}]\n",
      "--------------------------------------------------\n",
      "\n",
      "Msgs with 2 example(s):\n",
      "[{'role': 'user', 'content': 'I love programming!'}, {'role': 'assistant', 'content': 'Positive'}, {'role': 'user', 'content': 'I hate programming!'}, {'role': 'assistant', 'content': 'Negative'}, {'role': 'user', 'content': 'I love programming!'}]\n",
      "--------------------------------------------------\n",
      "\n",
      "Msgs with 3 example(s):\n",
      "[{'role': 'user', 'content': 'I love programming!'}, {'role': 'assistant', 'content': 'Positive'}, {'role': 'user', 'content': 'I hate programming!'}, {'role': 'assistant', 'content': 'Negative'}, {'role': 'user', 'content': 'This is a great day'}, {'role': 'assistant', 'content': 'Positive'}, {'role': 'user', 'content': 'I love programming!'}]\n",
      "--------------------------------------------------\n",
      "\n",
      "Msgs with 4 example(s):\n",
      "[{'role': 'user', 'content': 'I love programming!'}, {'role': 'assistant', 'content': 'Positive'}, {'role': 'user', 'content': 'I hate programming!'}, {'role': 'assistant', 'content': 'Negative'}, {'role': 'user', 'content': 'This is a great day'}, {'role': 'assistant', 'content': 'Positive'}, {'role': 'user', 'content': 'This is a bad day'}, {'role': 'assistant', 'content': 'Negative'}, {'role': 'user', 'content': 'I love programming!'}]\n",
      "--------------------------------------------------\n"
     ]
    }
   ],
   "execution_count": 35
  },
  {
   "metadata": {
    "ExecuteTime": {
     "end_time": "2025-05-15T11:33:54.097144Z",
     "start_time": "2025-05-15T11:33:52.854788Z"
    }
   },
   "cell_type": "code",
   "source": [
    "# Example usage (with response)\n",
    "temp = 0.7\n",
    "text = \"The price of the product is really fair given its features\"\n",
    "zero_shot_msgs = get_sentiment_analysis_messages(text)\n",
    "response = get_response(messages=zero_shot_msgs, temperature=temp)\n",
    "print(f\"\\nResponse zero shot:\\n{response}\")\n",
    "for zero_shot_msgs in zero_shot_msgs:\n",
    "    print(f\"- {zero_shot_msgs.__dict__}\")\n",
    "print(\"-\" * 50)\n",
    "\n",
    "one_shot_msgs = get_sentiment_analysis_messages(text, examples=1)\n",
    "response = get_response(messages=one_shot_msgs, temperature=temp)\n",
    "print(f\"\\nResponse one shot:\\n{response}\")\n",
    "for one_shot_msgs in one_shot_msgs:\n",
    "    print(f\"- {one_shot_msgs.__dict__}\")\n",
    "print(\"-\" * 50)\n",
    "\n",
    "few_shot_msgs = get_sentiment_analysis_messages(text, examples=2)\n",
    "response = get_response(messages=few_shot_msgs, temperature=temp)\n",
    "print(f\"\\nResponse few shot:\\n{response}\")\n",
    "for few_shot_msgs in few_shot_msgs:\n",
    "    print(f\"- {few_shot_msgs.__dict__}\")\n",
    "print(\"-\" * 50)"
   ],
   "id": "6b142d3be36181a9",
   "outputs": [
    {
     "name": "stdout",
     "output_type": "stream",
     "text": [
      "\n",
      "Response zero shot:\n",
      " and quality. I believe it offers great value for the money.\n",
      "- {'role': 'user', 'content': 'The price of the product is really fair given its features'}\n",
      "--------------------------------------------------\n",
      "\n",
      "Response one shot:\n",
      "Positive\n",
      "- {'role': 'user', 'content': 'I love programming!'}\n",
      "- {'role': 'assistant', 'content': 'Positive'}\n",
      "- {'role': 'user', 'content': 'The price of the product is really fair given its features'}\n",
      "--------------------------------------------------\n",
      "\n",
      "Response few shot:\n",
      "Positive\n",
      "- {'role': 'user', 'content': 'I love programming!'}\n",
      "- {'role': 'assistant', 'content': 'Positive'}\n",
      "- {'role': 'user', 'content': 'I hate programming!'}\n",
      "- {'role': 'assistant', 'content': 'Negative'}\n",
      "- {'role': 'user', 'content': 'The price of the product is really fair given its features'}\n",
      "--------------------------------------------------\n"
     ]
    }
   ],
   "execution_count": 37
  },
  {
   "metadata": {},
   "cell_type": "markdown",
   "source": "# Steps",
   "id": "e3d2156b8f7d394f"
  },
  {
   "metadata": {},
   "cell_type": "markdown",
   "source": "## Single Step vs Multi-Step Prompts",
   "id": "1f842eedfe6ad9"
  },
  {
   "metadata": {},
   "cell_type": "markdown",
   "source": "### Single Step Prompt",
   "id": "3ede65b5edc40539"
  },
  {
   "metadata": {
    "ExecuteTime": {
     "end_time": "2025-05-16T11:56:04.150355Z",
     "start_time": "2025-05-16T11:56:00.821014Z"
    }
   },
   "cell_type": "code",
   "source": [
    "single_prompt = \"\"\"Make a plan for a beach vacation.\"\"\"\n",
    "response = get_response(messages=[Message(role=\"user\", content=single_prompt)])\n",
    "print(f\"\\nSingle-Step Prompt:\\n{single_prompt}\")\n",
    "print(f\"\\nResponse:\\n{response}\")"
   ],
   "id": "58873f918391135",
   "outputs": [
    {
     "name": "stdout",
     "output_type": "stream",
     "text": [
      "\n",
      "Single-Step Prompt:\n",
      "Make a plan for a beach vacation.\n",
      "\n",
      "Response:\n",
      "1. Choose a destination: Research different beach destinations and choose one that fits your preferences, budget, and travel time.\n",
      "\n",
      "2. Book accommodations: Find a beachfront hotel, resort, or vacation rental that suits your needs and book your accommodations in advance to secure the best rates.\n",
      "\n",
      "3. Plan transportation: Arrange for flights, car rentals, or other transportation to get to your beach destination. Consider renting a car if you plan to explore the area during your vacation.\n",
      "\n",
      "4. Pack essentials: Make a packing list of essentials such as sunscreen, beach towels, swimsuits, hats, sunglasses, and beach toys. Don't forget to pack any medications, toiletries, and other personal items you may need.\n",
      "\n",
      "5. Plan activities: Research and plan activities to do during your beach vacation, such as water sports, boat tours, beach picnics, hiking, or sightseeing. Make reservations for any activities or tours in advance to ensure availability.\n",
      "\n",
      "6. Check the weather forecast: Keep an eye on the weather forecast for your destination and pack accordingly. Bring rain gear or extra layers if needed.\n",
      "\n",
      "7. Create a budget: Set a budget for your beach vacation and plan your expenses accordingly. Consider costs for accommodations, transportation, food, activities, and souvenirs.\n",
      "\n",
      "8. Stay safe: Familiarize yourself with the local beach rules and safety guidelines, such as swimming conditions, rip currents, and sun protection. Follow all safety precautions to ensure a safe and enjoyable vacation.\n",
      "\n",
      "9. Relax and enjoy: Once you arrive at your beach destination, relax, unwind, and enjoy the sun, sand, and sea. Take time to disconnect from work and everyday stress and make the most of your beach vacation.\n"
     ]
    }
   ],
   "execution_count": 39
  },
  {
   "metadata": {},
   "cell_type": "markdown",
   "source": "### Multi-Step Prompt",
   "id": "566765c34c04685"
  },
  {
   "metadata": {
    "ExecuteTime": {
     "end_time": "2025-05-16T11:56:16.254859Z",
     "start_time": "2025-05-16T11:56:12.911850Z"
    }
   },
   "cell_type": "code",
   "source": [
    "single_prompt = \"\"\"Make a plan for a beach vacation as follows:\n",
    "Step 1: List four potential locations.\n",
    "Step 2: For each location, provide accommodation options.\n",
    "Step 3: For each location, suggest activities.\n",
    "Step 4: For each location, evaluate the pros and cons.\n",
    "\"\"\"\n",
    "response = get_response(messages=[Message(role=\"user\", content=single_prompt)])\n",
    "print(f\"\\nMulti-Step Prompt:\\n{single_prompt}\")\n",
    "print(f\"\\nResponse:\\n{response}\")"
   ],
   "id": "64318dbe0f168027",
   "outputs": [
    {
     "name": "stdout",
     "output_type": "stream",
     "text": [
      "\n",
      "Multi-Step Prompt:\n",
      "Make a plan for a beach vacation as follows:\n",
      "Step 1: List four potential locations.\n",
      "Step 2: For each location, provide accommodation options.\n",
      "Step 3: For each location, suggest activities.\n",
      "Step 4: For each location, evaluate the pros and cons.\n",
      "\n",
      "\n",
      "Response:\n",
      "Step 1: \n",
      "1. Maui, Hawaii\n",
      "2. Cancun, Mexico\n",
      "3. Myrtle Beach, South Carolina\n",
      "4. Bali, Indonesia\n",
      "\n",
      "Step 2:\n",
      "\n",
      "Maui, Hawaii:\n",
      "- Resort hotels\n",
      "- Vacation rentals\n",
      "- Beachfront condos\n",
      "\n",
      "Cancun, Mexico:\n",
      "- All-inclusive resorts\n",
      "- Boutique hotels\n",
      "- Airbnb rentals\n",
      "\n",
      "Myrtle Beach, South Carolina:\n",
      "- Oceanfront hotels\n",
      "- Beach houses\n",
      "- Campgrounds\n",
      "\n",
      "Bali, Indonesia:\n",
      "- Luxury resorts\n",
      "- Villas\n",
      "- Eco-friendly lodges\n",
      "\n",
      "Step 3:\n",
      "\n",
      "Maui, Hawaii:\n",
      "- Snorkeling\n",
      "- Surfing\n",
      "- Hiking in Haleakalā National Park\n",
      "- Luau\n",
      "\n",
      "Cancun, Mexico:\n",
      "- Visiting Mayan ruins\n",
      "- Water sports\n",
      "- Swimming with dolphins\n",
      "- Nightlife in the Hotel Zone\n",
      "\n",
      "Myrtle Beach, South Carolina:\n",
      "- Golfing\n",
      "- Fishing\n",
      "- Shopping at Broadway at the Beach\n",
      "- Water parks\n",
      "\n",
      "Bali, Indonesia:\n",
      "- Yoga retreats\n",
      "- Temple visits\n",
      "- Rice terraces\n",
      "- Waterfall hikes\n",
      "\n",
      "Step 4:\n",
      "\n",
      "Maui, Hawaii:\n",
      "Pros - Stunning beaches, diverse activities, beautiful scenery\n",
      "Cons - Expensive, crowded during peak seasons\n",
      "\n",
      "Cancun, Mexico:\n",
      "Pros - Affordable, vibrant nightlife, historical sites\n",
      "Cons - Touristy, can be crowded\n",
      "\n",
      "Myrtle Beach, South Carolina:\n",
      "Pros - Family-friendly, budget-friendly options, variety of activities\n",
      "Cons - Crowded during summer, commercialized\n",
      "\n",
      "Bali, Indonesia:\n",
      "Pros - Unique culture, affordable accommodations, beautiful landscapes\n",
      "Cons - Long flight from most locations, potential language barrier\n"
     ]
    }
   ],
   "execution_count": 40
  },
  {
   "metadata": {
    "ExecuteTime": {
     "end_time": "2025-05-16T12:04:06.107066Z",
     "start_time": "2025-05-16T12:04:04.648803Z"
    }
   },
   "cell_type": "code",
   "source": [
    "code = '''\n",
    "def calculate_rectangle_area(length, width):\n",
    "    area = length * width\n",
    "    return area\n",
    "'''\n",
    "\n",
    "prompt = f\"\"\"\n",
    "Analyze the function delimited by triple backticks and determine if it is correct as follows:\n",
    "Step 1: Correct syntax\n",
    "Step 2: Receiving two inputs\n",
    "Step 3: Returning one output\n",
    "```{code}```\n",
    "\"\"\"\n",
    "\n",
    "response = get_response(messages=[Message(role=\"user\", content=prompt)])\n",
    "print(f\"\\nMulti-Step Prompt:\\n{prompt}\")\n",
    "print(f\"\\nResponse:\\n{response}\")"
   ],
   "id": "9524acd47f5a0b5f",
   "outputs": [
    {
     "name": "stdout",
     "output_type": "stream",
     "text": [
      "\n",
      "Multi-Step Prompt:\n",
      "\n",
      "Analyze the function delimited by triple backticks and determine if it is correct as follows:\n",
      "Step 1: Correct syntax\n",
      "Step 2: Receiving two inputs\n",
      "Step 3: Returning one output\n",
      "```\n",
      "def calculate_rectangle_area(length, width):\n",
      "    area = length * width\n",
      "    return area\n",
      "```\n",
      "\n",
      "\n",
      "Response:\n",
      "Step 1: The syntax of the function is correct. \n",
      "Step 2: The function is receiving two inputs: 'length' and 'width'. \n",
      "Step 3: The function is correctly returning one output which is the calculated area of the rectangle formed by multiplying the length and width. \n",
      "\n",
      "Therefore, the function is correct in terms of syntax, inputs, and output.\n"
     ]
    }
   ],
   "execution_count": 43
  },
  {
   "metadata": {},
   "cell_type": "code",
   "outputs": [],
   "execution_count": null,
   "source": "",
   "id": "f6b9a2080a932087"
  }
 ],
 "metadata": {
  "kernelspec": {
   "display_name": "Python 3",
   "language": "python",
   "name": "python3"
  },
  "language_info": {
   "codemirror_mode": {
    "name": "ipython",
    "version": 2
   },
   "file_extension": ".py",
   "mimetype": "text/x-python",
   "name": "python",
   "nbconvert_exporter": "python",
   "pygments_lexer": "ipython2",
   "version": "2.7.6"
  }
 },
 "nbformat": 4,
 "nbformat_minor": 5
}
