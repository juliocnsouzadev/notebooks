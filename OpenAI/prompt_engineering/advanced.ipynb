{
 "cells": [
  {
   "metadata": {},
   "cell_type": "markdown",
   "source": "# Advances Prompt Engineering Strategies",
   "id": "a56d264b24d017bb"
  },
  {
   "metadata": {},
   "cell_type": "markdown",
   "source": "### Loading OpenAI API Key",
   "id": "2443ebe82994578b"
  },
  {
   "metadata": {
    "ExecuteTime": {
     "end_time": "2025-06-08T09:50:46.151384Z",
     "start_time": "2025-06-08T09:50:46.020698Z"
    }
   },
   "cell_type": "code",
   "source": [
    "from dotenv import load_dotenv\n",
    "import os\n",
    "\n",
    "# Load the .env file\n",
    "load_dotenv(dotenv_path='../../.env')  # Specify the path to your .env file\n",
    "\n",
    "# Access the environment variable\n",
    "api_key = os.getenv('OPENAI_API_KEY')\n",
    "\n",
    "# Check if the variable is loaded\n",
    "if api_key or api_key == \"\":\n",
    "    print(\"API key loaded successfully.\")\n",
    "else:\n",
    "    print(\"Failed to load API key.\")"
   ],
   "id": "1687d4cc23c58518",
   "outputs": [
    {
     "name": "stdout",
     "output_type": "stream",
     "text": [
      "API key loaded successfully.\n"
     ]
    }
   ],
   "execution_count": 6
  },
  {
   "metadata": {},
   "cell_type": "markdown",
   "source": "## Initializing OpenAI API",
   "id": "a983dd262a2e0243"
  },
  {
   "metadata": {
    "ExecuteTime": {
     "end_time": "2025-06-08T09:50:48.885639Z",
     "start_time": "2025-06-08T09:50:46.205942Z"
    }
   },
   "cell_type": "code",
   "source": [
    "from openai import OpenAI\n",
    "\n",
    "client = OpenAI(api_key=api_key)"
   ],
   "id": "c78451f0857525b7",
   "outputs": [],
   "execution_count": 7
  },
  {
   "metadata": {},
   "cell_type": "markdown",
   "source": "## Auxiliary Functions",
   "id": "5f03cac9c5ba5c83"
  },
  {
   "metadata": {},
   "cell_type": "markdown",
   "source": "### Function to get the model response",
   "id": "86607d47058d2a05"
  },
  {
   "metadata": {
    "ExecuteTime": {
     "end_time": "2025-06-08T09:50:48.918786Z",
     "start_time": "2025-06-08T09:50:48.905786Z"
    }
   },
   "cell_type": "code",
   "source": [
    "class Message:\n",
    "    def __init__(self, role, content):\n",
    "        self.role = role\n",
    "        self.content = content\n",
    "\n",
    "def get_response(messages:list[Message], model=\"gpt-3.5-turbo\", temperature=0.7):\n",
    "    \"\"\"\n",
    "    Get a response from the OpenAI API.\n",
    "\n",
    "    Parameters:\n",
    "    - prompt (str): The input prompt for the model.\n",
    "    - model (str): The model to use. Default is \"gpt-3.5-turbo\".\n",
    "    - temperature (float): Sampling temperature. Default is 0.7.\n",
    "\n",
    "    Returns:\n",
    "    - str: The model's response.\n",
    "    \"\"\"\n",
    "    model_response = client.chat.completions.create(\n",
    "        model=model,\n",
    "        messages=[message.__dict__ for message in messages],\n",
    "        temperature=temperature\n",
    "    )\n",
    "\n",
    "    # Access the content of the first choice\n",
    "    return model_response.choices[0].message.content"
   ],
   "id": "ef0ae60e6c6506da",
   "outputs": [],
   "execution_count": 8
  },
  {
   "metadata": {},
   "cell_type": "markdown",
   "source": "# Shots",
   "id": "6ee5ffd3fc33801f"
  },
  {
   "metadata": {},
   "cell_type": "markdown",
   "source": "## Zero-Shot, One-Shot, and Few-Shot Prompts",
   "id": "3844dfb570e3ce93"
  },
  {
   "metadata": {},
   "cell_type": "markdown",
   "source": "### Function to generate a prompt for extracting odd numbers",
   "id": "afc3d98919d86fdd"
  },
  {
   "metadata": {
    "ExecuteTime": {
     "end_time": "2025-06-08T09:50:49.118778Z",
     "start_time": "2025-06-08T09:50:49.103755Z"
    }
   },
   "cell_type": "code",
   "source": [
    "def get_extract_odd_numbers_prompt(input_data:set[int], examples:int=0):\n",
    "    \"\"\"\n",
    "    Generate a prompt for the OpenAI API to extract odd numbers from a set of integers.\n",
    "    :param input_data: A set of integers.\n",
    "    :param examples: Number of examples to include in the prompt.\n",
    "    :return: A string containing the prompt.\n",
    "    \"\"\"\n",
    "    def get_question(question_data:set[int]):\n",
    "        return f\"Q: What are the odd numbers in the given set of integers {question_data}?\"\n",
    "    extract_odds_prompt = f\"{get_question(input_data)}. A: \"\n",
    "    if examples > 0:\n",
    "        shots = \"\"\n",
    "        for i_exp in range(examples):\n",
    "            example_data = set(range(i_exp * 2 + 1, i_exp * 2 + 3))\n",
    "            odds = set(filter(lambda x: x % 2 != 0, example_data))\n",
    "            shots += f\"{get_question(example_data)}. A: {odds}\\n\"\n",
    "        return shots + extract_odds_prompt\n",
    "    return f\"\"\"{extract_odds_prompt}\"\"\"\n",
    "\n"
   ],
   "id": "db9577856fbe1040",
   "outputs": [],
   "execution_count": 9
  },
  {
   "metadata": {
    "ExecuteTime": {
     "end_time": "2025-06-08T09:50:49.168756Z",
     "start_time": "2025-06-08T09:50:49.155732Z"
    }
   },
   "cell_type": "code",
   "source": [
    "# Example usage (only prompt)\n",
    "data = {1, 2, 3, 4, 5, 6, 7, 8, 9}\n",
    "\n",
    "for i in range(1, 4):\n",
    "    prompt = get_extract_odd_numbers_prompt(data, examples=i)\n",
    "    print(f\"- Prompt with {i} example(s):\\n{prompt}\")\n",
    "    print(\"-\" * 50)"
   ],
   "id": "4304c3399bd64b72",
   "outputs": [
    {
     "name": "stdout",
     "output_type": "stream",
     "text": [
      "- Prompt with 1 example(s):\n",
      "Q: What are the odd numbers in the given set of integers {1, 2}?. A: {1}\n",
      "Q: What are the odd numbers in the given set of integers {1, 2, 3, 4, 5, 6, 7, 8, 9}?. A: \n",
      "--------------------------------------------------\n",
      "- Prompt with 2 example(s):\n",
      "Q: What are the odd numbers in the given set of integers {1, 2}?. A: {1}\n",
      "Q: What are the odd numbers in the given set of integers {3, 4}?. A: {3}\n",
      "Q: What are the odd numbers in the given set of integers {1, 2, 3, 4, 5, 6, 7, 8, 9}?. A: \n",
      "--------------------------------------------------\n",
      "- Prompt with 3 example(s):\n",
      "Q: What are the odd numbers in the given set of integers {1, 2}?. A: {1}\n",
      "Q: What are the odd numbers in the given set of integers {3, 4}?. A: {3}\n",
      "Q: What are the odd numbers in the given set of integers {5, 6}?. A: {5}\n",
      "Q: What are the odd numbers in the given set of integers {1, 2, 3, 4, 5, 6, 7, 8, 9}?. A: \n",
      "--------------------------------------------------\n"
     ]
    }
   ],
   "execution_count": 10
  },
  {
   "metadata": {
    "ExecuteTime": {
     "end_time": "2025-06-08T09:50:51.870789Z",
     "start_time": "2025-06-08T09:50:49.240850Z"
    }
   },
   "cell_type": "code",
   "source": [
    "# Example usage (with response)\n",
    "data = {3, 5, 11, 12, 16}\n",
    "zero_shot_prompt = get_extract_odd_numbers_prompt(data)\n",
    "response = get_response(messages=[Message(role=\"user\", content=zero_shot_prompt)])\n",
    "print(f\"\\nPrompt zero shot:\\n{zero_shot_prompt}\")\n",
    "print(f\"\\nResponse zero shot:\\n{response}\")\n",
    "print(\"-\" * 50)\n",
    "\n",
    "one_shot_prompt = get_extract_odd_numbers_prompt(data, examples=1)\n",
    "response = get_response(messages=[Message(role=\"user\", content=one_shot_prompt)])\n",
    "print(f\"\\nPrompt one shot:\\n{one_shot_prompt}\")\n",
    "print(f\"\\nResponse one shot:\\n{response}\")\n",
    "print(\"-\" * 50)\n",
    "\n",
    "few_shot_prompt = get_extract_odd_numbers_prompt(data, examples=2)\n",
    "response = get_response(messages=[Message(role=\"user\", content=few_shot_prompt)])\n",
    "print(f\"\\nPrompt few shot:\\n{few_shot_prompt}\")\n",
    "print(f\"\\nResponse few shot:\\n{response}\")\n",
    "print(\"-\" * 50)"
   ],
   "id": "5f46ac0caa4f6da3",
   "outputs": [
    {
     "name": "stdout",
     "output_type": "stream",
     "text": [
      "\n",
      "Prompt zero shot:\n",
      "Q: What are the odd numbers in the given set of integers {16, 3, 5, 11, 12}?. A: \n",
      "\n",
      "Response zero shot:\n",
      "3, 5, 11\n",
      "--------------------------------------------------\n",
      "\n",
      "Prompt one shot:\n",
      "Q: What are the odd numbers in the given set of integers {1, 2}?. A: {1}\n",
      "Q: What are the odd numbers in the given set of integers {16, 3, 5, 11, 12}?. A: \n",
      "\n",
      "Response one shot:\n",
      "{3, 5, 11}\n",
      "--------------------------------------------------\n",
      "\n",
      "Prompt few shot:\n",
      "Q: What are the odd numbers in the given set of integers {1, 2}?. A: {1}\n",
      "Q: What are the odd numbers in the given set of integers {3, 4}?. A: {3}\n",
      "Q: What are the odd numbers in the given set of integers {16, 3, 5, 11, 12}?. A: \n",
      "\n",
      "Response few shot:\n",
      "{3, 5, 11}\n",
      "--------------------------------------------------\n"
     ]
    }
   ],
   "execution_count": 11
  },
  {
   "metadata": {},
   "cell_type": "markdown",
   "source": "### Sentiment analysis with few-shot prompting",
   "id": "28f2b1554be3d3da"
  },
  {
   "metadata": {},
   "cell_type": "markdown",
   "source": "#### Function to generate messages for sentiment analysis",
   "id": "4ffd0482bada6325"
  },
  {
   "metadata": {
    "ExecuteTime": {
     "end_time": "2025-06-08T09:50:51.919602Z",
     "start_time": "2025-06-08T09:50:51.906609Z"
    }
   },
   "cell_type": "code",
   "source": [
    "def get_sentiment_analysis_messages(input_text:str, examples:int=0):\n",
    "    \"\"\"\n",
    "    Generate messages for sentiment analysis.\n",
    "    :param input_text: The input text for sentiment analysis.\n",
    "    :param examples: Number of examples to include in the prompt.\n",
    "    :return: A list of messages for the OpenAI API.\n",
    "    \"\"\"\n",
    "    if examples > 6:\n",
    "        raise ValueError(\"The maximum number of examples is 6.\")\n",
    "\n",
    "    messages = []\n",
    "    if examples > 0:\n",
    "        sentiment_examples = [\n",
    "            {\"sentence\": \"I love programming!\", \"sentiment\": \"Positive\"},\n",
    "            {\"sentence\": \"I hate programming!\", \"sentiment\": \"Negative\"},\n",
    "            {\"sentence\": \"This is a great day\", \"sentiment\": \"Positive\"},\n",
    "            {\"sentence\": \"This is a bad day\", \"sentiment\": \"Negative\"},\n",
    "            {\"sentence\": \"I am very happy.\", \"sentiment\": \"Positive\"},\n",
    "            {\"sentence\": \"I am very sad.\", \"sentiment\": \"Negative\"}\n",
    "        ]\n",
    "        for i_exp in range(examples):\n",
    "            # Example data, question as user\n",
    "            msg = Message(role=\"user\", content=sentiment_examples[i_exp].get(\"sentence\"))\n",
    "            messages.append(msg)\n",
    "            # Example data, answer as assistant\n",
    "            msg = Message(role=\"assistant\", content=sentiment_examples[i_exp].get(\"sentiment\"))\n",
    "            messages.append(msg)\n",
    "\n",
    "    question_msg = Message(role=\"user\", content=input_text)\n",
    "    messages.append(question_msg)\n",
    "    return messages"
   ],
   "id": "f521d29509506c74",
   "outputs": [],
   "execution_count": 12
  },
  {
   "metadata": {
    "ExecuteTime": {
     "end_time": "2025-06-08T09:50:51.969438Z",
     "start_time": "2025-06-08T09:50:51.955432Z"
    }
   },
   "cell_type": "code",
   "source": [
    "# Example usage (only prompt)\n",
    "text = \"I love programming!\"\n",
    "for i in range(1, 5):\n",
    "    msgs = get_sentiment_analysis_messages(text, examples=i)\n",
    "    print(f\"\\nMsgs with {i} example(s):\\n{[msg.__dict__ for msg in msgs]}\")\n",
    "    print(\"-\" * 50)"
   ],
   "id": "511e9ee851c0ffa9",
   "outputs": [
    {
     "name": "stdout",
     "output_type": "stream",
     "text": [
      "\n",
      "Msgs with 1 example(s):\n",
      "[{'role': 'user', 'content': 'I love programming!'}, {'role': 'assistant', 'content': 'Positive'}, {'role': 'user', 'content': 'I love programming!'}]\n",
      "--------------------------------------------------\n",
      "\n",
      "Msgs with 2 example(s):\n",
      "[{'role': 'user', 'content': 'I love programming!'}, {'role': 'assistant', 'content': 'Positive'}, {'role': 'user', 'content': 'I hate programming!'}, {'role': 'assistant', 'content': 'Negative'}, {'role': 'user', 'content': 'I love programming!'}]\n",
      "--------------------------------------------------\n",
      "\n",
      "Msgs with 3 example(s):\n",
      "[{'role': 'user', 'content': 'I love programming!'}, {'role': 'assistant', 'content': 'Positive'}, {'role': 'user', 'content': 'I hate programming!'}, {'role': 'assistant', 'content': 'Negative'}, {'role': 'user', 'content': 'This is a great day'}, {'role': 'assistant', 'content': 'Positive'}, {'role': 'user', 'content': 'I love programming!'}]\n",
      "--------------------------------------------------\n",
      "\n",
      "Msgs with 4 example(s):\n",
      "[{'role': 'user', 'content': 'I love programming!'}, {'role': 'assistant', 'content': 'Positive'}, {'role': 'user', 'content': 'I hate programming!'}, {'role': 'assistant', 'content': 'Negative'}, {'role': 'user', 'content': 'This is a great day'}, {'role': 'assistant', 'content': 'Positive'}, {'role': 'user', 'content': 'This is a bad day'}, {'role': 'assistant', 'content': 'Negative'}, {'role': 'user', 'content': 'I love programming!'}]\n",
      "--------------------------------------------------\n"
     ]
    }
   ],
   "execution_count": 13
  },
  {
   "metadata": {
    "ExecuteTime": {
     "end_time": "2025-06-08T09:50:53.602863Z",
     "start_time": "2025-06-08T09:50:52.024650Z"
    }
   },
   "cell_type": "code",
   "source": [
    "# Example usage (with response)\n",
    "temp = 0.7\n",
    "text = \"The price of the product is really fair given its features\"\n",
    "zero_shot_msgs = get_sentiment_analysis_messages(text)\n",
    "response = get_response(messages=zero_shot_msgs, temperature=temp)\n",
    "print(f\"\\nResponse zero shot:\\n{response}\")\n",
    "for zero_shot_msgs in zero_shot_msgs:\n",
    "    print(f\"- {zero_shot_msgs.__dict__}\")\n",
    "print(\"-\" * 50)\n",
    "\n",
    "one_shot_msgs = get_sentiment_analysis_messages(text, examples=1)\n",
    "response = get_response(messages=one_shot_msgs, temperature=temp)\n",
    "print(f\"\\nResponse one shot:\\n{response}\")\n",
    "for one_shot_msgs in one_shot_msgs:\n",
    "    print(f\"- {one_shot_msgs.__dict__}\")\n",
    "print(\"-\" * 50)\n",
    "\n",
    "few_shot_msgs = get_sentiment_analysis_messages(text, examples=2)\n",
    "response = get_response(messages=few_shot_msgs, temperature=temp)\n",
    "print(f\"\\nResponse few shot:\\n{response}\")\n",
    "for few_shot_msgs in few_shot_msgs:\n",
    "    print(f\"- {few_shot_msgs.__dict__}\")\n",
    "print(\"-\" * 50)"
   ],
   "id": "20c1660a05cb1af9",
   "outputs": [
    {
     "name": "stdout",
     "output_type": "stream",
     "text": [
      "\n",
      "Response zero shot:\n",
      " and quality. It offers good value for money and is competitive compared to similar products on the market. Overall, I am satisfied with the price and feel that it is justified for what I am getting in return.\n",
      "- {'role': 'user', 'content': 'The price of the product is really fair given its features'}\n",
      "--------------------------------------------------\n",
      "\n",
      "Response one shot:\n",
      "Positive\n",
      "- {'role': 'user', 'content': 'I love programming!'}\n",
      "- {'role': 'assistant', 'content': 'Positive'}\n",
      "- {'role': 'user', 'content': 'The price of the product is really fair given its features'}\n",
      "--------------------------------------------------\n",
      "\n",
      "Response few shot:\n",
      "Positive\n",
      "- {'role': 'user', 'content': 'I love programming!'}\n",
      "- {'role': 'assistant', 'content': 'Positive'}\n",
      "- {'role': 'user', 'content': 'I hate programming!'}\n",
      "- {'role': 'assistant', 'content': 'Negative'}\n",
      "- {'role': 'user', 'content': 'The price of the product is really fair given its features'}\n",
      "--------------------------------------------------\n"
     ]
    }
   ],
   "execution_count": 14
  },
  {
   "metadata": {},
   "cell_type": "markdown",
   "source": "# Steps",
   "id": "b9063b12be8f5a83"
  },
  {
   "metadata": {},
   "cell_type": "markdown",
   "source": "## Single Step vs Multi-Step Prompts",
   "id": "3072331aa6fbd76c"
  },
  {
   "metadata": {},
   "cell_type": "markdown",
   "source": "### Single Step Prompt",
   "id": "98654336e106ee57"
  },
  {
   "metadata": {
    "ExecuteTime": {
     "end_time": "2025-06-08T09:50:58.454492Z",
     "start_time": "2025-06-08T09:50:53.623906Z"
    }
   },
   "cell_type": "code",
   "source": [
    "single_prompt = \"\"\"Make a plan for a beach vacation.\"\"\"\n",
    "response = get_response(messages=[Message(role=\"user\", content=single_prompt)])\n",
    "print(f\"\\nSingle-Step Prompt:\\n{single_prompt}\")\n",
    "print(f\"\\nResponse:\\n{response}\")"
   ],
   "id": "727760a03c36900e",
   "outputs": [
    {
     "name": "stdout",
     "output_type": "stream",
     "text": [
      "\n",
      "Single-Step Prompt:\n",
      "Make a plan for a beach vacation.\n",
      "\n",
      "Response:\n",
      "1. Research and choose a destination: Decide on the beach destination you want to visit. Consider factors such as the type of beach (laid-back vs. party atmosphere), activities available, and budget.\n",
      "\n",
      "2. Book accommodations: Once you have chosen a destination, book your accommodations such as a beachfront hotel, vacation rental, or campground. Make sure to research the amenities and location of the property.\n",
      "\n",
      "3. Plan transportation: Determine how you will get to your beach destination, whether it's by car, plane, or other means of transportation. Consider renting a car if needed for exploring the area.\n",
      "\n",
      "4. Pack essentials: Make a packing list of essentials for your beach vacation, including swimsuits, sunscreen, beach towels, hats, sunglasses, and beach toys. Don't forget any necessary medications, toiletries, and beach reads.\n",
      "\n",
      "5. Plan activities: Research and plan activities for your beach vacation, such as water sports, snorkeling, hiking, or simply relaxing on the beach. Check for any local events or attractions happening during your stay.\n",
      "\n",
      "6. Create a budget: Set a budget for your beach vacation, including accommodations, transportation, activities, dining, and souvenirs. Stick to your budget to avoid overspending.\n",
      "\n",
      "7. Make reservations: If you plan on dining at specific restaurants or booking tours or excursions, make reservations in advance to secure your spot.\n",
      "\n",
      "8. Check the weather forecast: Keep an eye on the weather forecast for your beach destination to pack accordingly and plan activities around the weather.\n",
      "\n",
      "9. Inform others: Let family members or friends know about your beach vacation plans, including your itinerary and contact information in case of emergencies.\n",
      "\n",
      "10. Relax and enjoy: Once you have everything planned and packed, relax and enjoy your beach vacation. Take in the sun, sand, and sea, and create lasting memories.\n"
     ]
    }
   ],
   "execution_count": 15
  },
  {
   "metadata": {},
   "cell_type": "markdown",
   "source": "### Multi-Step Prompt",
   "id": "f92afae29c3dbd07"
  },
  {
   "metadata": {
    "ExecuteTime": {
     "end_time": "2025-06-08T09:51:00.684174Z",
     "start_time": "2025-06-08T09:50:58.486852Z"
    }
   },
   "cell_type": "code",
   "source": [
    "single_prompt = \"\"\"Make a plan for a beach vacation as follows:\n",
    "Step 1: List four potential locations.\n",
    "Step 2: For each location, provide accommodation options.\n",
    "Step 3: For each location, suggest activities.\n",
    "Step 4: For each location, evaluate the pros and cons.\n",
    "\"\"\"\n",
    "response = get_response(messages=[Message(role=\"user\", content=single_prompt)])\n",
    "print(f\"\\nMulti-Step Prompt:\\n{single_prompt}\")\n",
    "print(f\"\\nResponse:\\n{response}\")"
   ],
   "id": "1f8aa63f621d68bd",
   "outputs": [
    {
     "name": "stdout",
     "output_type": "stream",
     "text": [
      "\n",
      "Multi-Step Prompt:\n",
      "Make a plan for a beach vacation as follows:\n",
      "Step 1: List four potential locations.\n",
      "Step 2: For each location, provide accommodation options.\n",
      "Step 3: For each location, suggest activities.\n",
      "Step 4: For each location, evaluate the pros and cons.\n",
      "\n",
      "\n",
      "Response:\n",
      "Step 1: \n",
      "1. Destin, Florida\n",
      "2. Maui, Hawaii\n",
      "3. Myrtle Beach, South Carolina\n",
      "4. Cancun, Mexico\n",
      "\n",
      "Step 2:\n",
      "Destin, Florida:\n",
      "- Accommodation options: beachfront condos, resorts, hotels\n",
      "Maui, Hawaii:\n",
      "- Accommodation options: luxury resorts, vacation rentals, beachfront hotels\n",
      "Myrtle Beach, South Carolina:\n",
      "- Accommodation options: beachfront resorts, hotels, vacation rentals\n",
      "Cancun, Mexico:\n",
      "- Accommodation options: all-inclusive resorts, beachfront hotels, vacation rentals\n",
      "\n",
      "Step 3:\n",
      "Destin, Florida:\n",
      "- Activities: snorkeling, fishing, dolphin cruises, beachcombing\n",
      "Maui, Hawaii:\n",
      "- Activities: surfing, hiking, snorkeling, whale watching\n",
      "Myrtle Beach, South Carolina:\n",
      "- Activities: golfing, shopping, amusement parks, water sports\n",
      "Cancun, Mexico:\n",
      "- Activities: scuba diving, visiting Mayan ruins, swimming with dolphins, nightlife\n",
      "\n",
      "Step 4:\n",
      "Destin, Florida:\n",
      "- Pros: beautiful white sand beaches, clear turquoise water, family-friendly atmosphere\n",
      "- Cons: can be crowded during peak seasons, high accommodation prices\n",
      "Maui, Hawaii:\n",
      "- Pros: stunning landscapes, diverse activities, luxurious accommodations\n",
      "- Cons: expensive compared to other beach destinations, long travel time from mainland US\n",
      "Myrtle Beach, South Carolina:\n",
      "- Pros: affordable accommodation options, variety of activities for all ages\n",
      "- Cons: can be crowded during peak seasons, water can be chilly for swimming\n",
      "Cancun, Mexico:\n",
      "- Pros: vibrant nightlife, ancient ruins to explore, beautiful beaches\n",
      "- Cons: can be crowded with tourists, potential language barrier for English speakers\n"
     ]
    }
   ],
   "execution_count": 16
  },
  {
   "metadata": {
    "ExecuteTime": {
     "end_time": "2025-06-08T09:51:02.072092Z",
     "start_time": "2025-06-08T09:51:00.729795Z"
    }
   },
   "cell_type": "code",
   "source": [
    "code = '''\n",
    "def calculate_rectangle_area(length, width):\n",
    "    area = length * width\n",
    "    return area\n",
    "'''\n",
    "\n",
    "prompt = f\"\"\"\n",
    "Analyze the function delimited by triple backticks and determine if it is correct as follows:\n",
    "Step 1: Correct syntax\n",
    "Step 2: Receiving two inputs\n",
    "Step 3: Returning one output\n",
    "```{code}```\n",
    "\"\"\"\n",
    "\n",
    "response = get_response(messages=[Message(role=\"user\", content=prompt)])\n",
    "print(f\"\\nMulti-Step Prompt:\\n{prompt}\")\n",
    "print(f\"\\nResponse:\\n{response}\")"
   ],
   "id": "a4e8d24e399cc2cc",
   "outputs": [
    {
     "name": "stdout",
     "output_type": "stream",
     "text": [
      "\n",
      "Multi-Step Prompt:\n",
      "\n",
      "Analyze the function delimited by triple backticks and determine if it is correct as follows:\n",
      "Step 1: Correct syntax\n",
      "Step 2: Receiving two inputs\n",
      "Step 3: Returning one output\n",
      "```\n",
      "def calculate_rectangle_area(length, width):\n",
      "    area = length * width\n",
      "    return area\n",
      "```\n",
      "\n",
      "\n",
      "Response:\n",
      "Step 1: Correct syntax - Yes, the syntax of the function is correct.\n",
      "Step 2: Receiving two inputs - Yes, the function is receiving two inputs 'length' and 'width'.\n",
      "Step 3: Returning one output - Yes, the function calculates the area of a rectangle using the length and width inputs and returns the calculated area as output. \n",
      "\n",
      "Therefore, the function is correct as per the given criteria.\n"
     ]
    }
   ],
   "execution_count": 17
  },
  {
   "metadata": {},
   "cell_type": "markdown",
   "source": "## Build a chain-of-thought prompt to calculate a father's age in 10 years given a friend's current age.",
   "id": "1ec01e79418b979f"
  },
  {
   "metadata": {
    "ExecuteTime": {
     "end_time": "2025-06-08T09:51:02.123098Z",
     "start_time": "2025-06-08T09:51:02.110904Z"
    }
   },
   "cell_type": "code",
   "source": [
    "def print_response(res, of:str):\n",
    "    print(f\"\\nResponse of {of}:\\n{res}\")\n",
    "    print(f\"-\" * 50)"
   ],
   "id": "8663093e8fc55569",
   "outputs": [],
   "execution_count": 18
  },
  {
   "metadata": {
    "ExecuteTime": {
     "end_time": "2025-06-08T09:51:02.955653Z",
     "start_time": "2025-06-08T09:51:02.165906Z"
    }
   },
   "cell_type": "code",
   "source": [
    "prompt = (\n",
    "    \"Let’s think step by step. We know our friend is 20 years old, and their father is currently twice that age. \"\n",
    "    \"First calculate the father’s current age, then determine how old he will be in 10 years by adding 10. \"\n",
    "    \"Show all your reasoning, and then give the final answer.\"\n",
    ")\n",
    "\n",
    "response = get_response(messages=[Message(role=\"user\", content=prompt)])\n",
    "print_response(response, \"Chain-of-Thought for Father's Age Calculation\")"
   ],
   "id": "13e8dbb04595ccee",
   "outputs": [
    {
     "name": "stdout",
     "output_type": "stream",
     "text": [
      "\n",
      "Response of Chain-of-Thought for Father's Age Calculation:\n",
      "To calculate the father's current age, we need to multiply our friend's age by 2. \n",
      "\n",
      "Father's current age: 20 years old * 2 = 40 years old\n",
      "\n",
      "To determine how old the father will be in 10 years, we need to add 10 to his current age.\n",
      "\n",
      "Father's age in 10 years: 40 years old + 10 = 50 years old\n",
      "\n",
      "Therefore, our friend's father will be 50 years old in 10 years.\n",
      "--------------------------------------------------\n"
     ]
    }
   ],
   "execution_count": 19
  },
  {
   "metadata": {},
   "cell_type": "markdown",
   "source": "## Provide a worked example for summing even numbers in one set, then ask the model to apply the same reasoning to a new set.",
   "id": "95a949d6747c9c72"
  },
  {
   "metadata": {
    "ExecuteTime": {
     "end_time": "2025-06-08T09:51:03.423190Z",
     "start_time": "2025-06-08T09:51:02.991365Z"
    }
   },
   "cell_type": "code",
   "source": [
    "example = \"\"\"Q: Sum the even numbers in the following set: {9, 10, 13, 4, 2}.\n",
    "A: Even numbers: 10, 4, 2. Adding them: 10 + 4 + 2 = 16\"\"\"\n",
    "question = \"\"\"Q: Sum the even numbers in the following set: {15, 13, 82, 7, 14}.\n",
    "A:\"\"\"\n",
    "prompt = example + \"\\n\\n\" + question\n",
    "response = get_response(messages=[Message(role=\"user\", content=prompt)])\n",
    "print_response(response, \"Worked Example for Summing Even Numbers\")"
   ],
   "id": "e8e5e802bf95a2cc",
   "outputs": [
    {
     "name": "stdout",
     "output_type": "stream",
     "text": [
      "\n",
      "Response of Worked Example for Summing Even Numbers:\n",
      "Even numbers: 82, 14. Adding them: 82 + 14 = 96.\n",
      "--------------------------------------------------\n"
     ]
    }
   ],
   "execution_count": 20
  },
  {
   "metadata": {},
   "cell_type": "markdown",
   "source": "## Use self-consistency by simulating three independent experts and choosing the majority answer for an inventory problem.",
   "id": "a220d786380ba6a4"
  },
  {
   "metadata": {
    "ExecuteTime": {
     "end_time": "2025-06-08T09:51:06.107750Z",
     "start_time": "2025-06-08T09:51:03.457751Z"
    }
   },
   "cell_type": "code",
   "source": [
    "self_consistency_instruction = (\n",
    "    \"You will act as three independent reasoning experts. \"\n",
    "    \"For each expert (Expert 1, Expert 2, Expert 3), generate a full chain-of-thought and a final answer to the problem below. \"\n",
    "    \"Once all three answers are produced, compare them and choose the answer that at least two experts agree on, and present that as your final answer along with a brief note on the majority vote.\"\n",
    ")\n",
    "problem_to_solve = (\n",
    "    \"If you own a store that sells laptops and mobile phones. You start your day with \"\n",
    "    \"50 devices in the store, out of which 60% are mobile phones. \"\n",
    "    \"Throughout the day, three clients visited the store, each of them bought one mobile phone, \"\n",
    "    \"and one of them bought additionally a laptop. \"\n",
    "    \"Also, you added to your collection 10 laptops and 5 mobile phones. \"\n",
    "    \"How many laptops and mobile phones do you have by the end of the day?\"\n",
    ")\n",
    "prompt = self_consistency_instruction + \"\\n\\nProblem:\\n\" + problem_to_solve\n",
    "response = get_response(messages=[Message(role=\"user\", content=prompt)])\n",
    "print_response(response, \"Chain of three independent reasoning experts\")"
   ],
   "id": "12799392b7c0a2c1",
   "outputs": [
    {
     "name": "stdout",
     "output_type": "stream",
     "text": [
      "\n",
      "Response of Chain of three independent reasoning experts:\n",
      "Expert 1:\n",
      "1. Start with 50 devices in total, 60% are mobile phones, so 50 * 0.6 = 30 mobile phones.\n",
      "2. Throughout the day, 3 clients bought 1 mobile phone each, so 30 - 3 = 27 mobile phones left.\n",
      "3. One client bought an additional laptop, so there are now 10 laptops.\n",
      "4. Added 10 laptops and 5 mobile phones, so now there are 10 + 5 = 15 mobile phones.\n",
      "5. Therefore, by the end of the day, there are 10 laptops and 27 mobile phones.\n",
      "\n",
      "Expert 2:\n",
      "1. Start with 50 devices in total, 60% are mobile phones, so 50 * 0.6 = 30 mobile phones.\n",
      "2. Throughout the day, 3 clients bought 1 mobile phone each, so 30 - 3 = 27 mobile phones left.\n",
      "3. One client bought an additional laptop, so there are now 10 laptops.\n",
      "4. Added 10 laptops and 5 mobile phones, so now there are 10 + 5 = 15 mobile phones.\n",
      "5. Therefore, by the end of the day, there are 10 laptops and 27 mobile phones.\n",
      "\n",
      "Expert 3:\n",
      "1. Start with 50 devices in total, 60% are mobile phones, so 50 * 0.6 = 30 mobile phones.\n",
      "2. Throughout the day, 3 clients bought 1 mobile phone each, so 30 - 3 = 27 mobile phones left.\n",
      "3. One client bought an additional laptop, so there are now 10 laptops.\n",
      "4. Added 10 laptops and 5 mobile phones, so now there are 10 + 5 = 15 mobile phones.\n",
      "5. Therefore, by the end of the day, there are 10 laptops and 27 mobile phones.\n",
      "\n",
      "Final Answer:\n",
      "According to all three reasoning experts, by the end of the day, there are 10 laptops and 27 mobile phones in the store. Therefore, the final answer is 10 laptops and 27 mobile phones. The majority vote is unanimous.\n",
      "--------------------------------------------------\n"
     ]
    }
   ],
   "execution_count": 21
  },
  {
   "metadata": {},
   "cell_type": "markdown",
   "source": "## Refine a simple ask into a precise instruction that outputs a markdown table of the top ten pre-trained language models.",
   "id": "9c3b5649a705f818"
  },
  {
   "metadata": {
    "ExecuteTime": {
     "end_time": "2025-06-08T09:51:08.404182Z",
     "start_time": "2025-06-08T09:51:06.142344Z"
    }
   },
   "cell_type": "code",
   "source": [
    "prompt = (\n",
    "    \"Create a markdown table with exactly three columns—“Model Name”, “Release Year”, and “Owning Company”—\"\n",
    "    \"and ten rows, listing the top ten pre-trained language models. Include a header row and output only the table.\"\n",
    ")\n",
    "response = get_response(messages=[Message(role=\"user\", content=prompt)])\n",
    "print_response(response, \"Chain of three independent reasoning experts\")"
   ],
   "id": "ec26acc89924b021",
   "outputs": [
    {
     "name": "stdout",
     "output_type": "stream",
     "text": [
      "\n",
      "Response of Chain of three independent reasoning experts:\n",
      "| Model Name       | Release Year | Owning Company |\n",
      "|------------------|--------------|----------------|\n",
      "| GPT-3            | 2020         | OpenAI         |\n",
      "| BERT             | 2018         | Google         |\n",
      "| GPT-2            | 2019         | OpenAI         |\n",
      "| RoBERTa          | 2019         | Facebook       |\n",
      "| T5               | 2019         | Google         |\n",
      "| XLNet            | 2019         | Google         |\n",
      "| DistilBERT       | 2019         | Hugging Face   |\n",
      "| ALBERT           | 2019         | Google         |\n",
      "| ELECTRA          | 2020         | Google         |\n",
      "| BART             | 2019         | Facebook       |\n",
      "--------------------------------------------------\n"
     ]
    }
   ],
   "execution_count": 22
  },
  {
   "metadata": {},
   "cell_type": "markdown",
   "source": "## Adjust emotion-classification examples to include a “No explicit emotion” label and classify a neutral sentence.",
   "id": "9cd792674c13317d"
  },
  {
   "metadata": {
    "ExecuteTime": {
     "end_time": "2025-06-08T09:51:09.325802Z",
     "start_time": "2025-06-08T09:51:08.460600Z"
    }
   },
   "cell_type": "code",
   "source": [
    "prompt = \"\"\"\n",
    "Receiving a promotion at work made me feel on top of the world -> Happiness\n",
    "The movie's ending left me with a heavy feeling in my chest -> Sadness\n",
    "Walking alone in the dark alley sent shivers down my spine -> Fear\n",
    "The clouds drifted lazily across the sky without stirring any feeling -> No explicit emotion\n",
    "\n",
    "They sat and ate their meal -> No explicit emotion\n",
    "\"\"\"\n",
    "response = get_response(messages=[Message(role=\"user\", content=prompt)])\n",
    "print_response(response, \"Chain of three independent reasoning experts\")"
   ],
   "id": "58a8b9889fd8165a",
   "outputs": [
    {
     "name": "stdout",
     "output_type": "stream",
     "text": [
      "\n",
      "Response of Chain of three independent reasoning experts:\n",
      "\n",
      "The news of her grandmother passing away brought tears to her eyes -> Grief\n",
      "Winning the championship filled him with a sense of pride -> Triumph\n",
      "Seeing the puppy wag its tail excitedly made her heart melt -> Joy\n",
      "Getting a surprise gift from a friend made her feel loved -> Gratitude\n",
      "--------------------------------------------------\n"
     ]
    }
   ],
   "execution_count": 23
  },
  {
   "metadata": {},
   "cell_type": "markdown",
   "source": "## Summarize a market research report in up to five sentences, emphasizing AI and data privacy impacts on customers.",
   "id": "a917bbdec565899d"
  },
  {
   "metadata": {
    "ExecuteTime": {
     "end_time": "2025-06-08T09:51:10.574826Z",
     "start_time": "2025-06-08T09:51:09.360975Z"
    }
   },
   "cell_type": "code",
   "source": [
    "report = \"\"\"\n",
    "The market research report highlights the increasing influence of artificial intelligence (AI) and data privacy concerns on consumer behavior. AI technologies are being integrated into various sectors, enhancing customer experiences through personalized services and predictive analytics. However, the growing awareness of data privacy issues is prompting consumers to be more cautious about how their personal information is used, leading to a demand for greater transparency and control over data sharing. Companies that prioritize ethical AI practices and robust data protection measures are likely to gain a competitive edge in the market. Overall, the interplay between AI advancements and data privacy is reshaping consumer expectations and business strategies.\n",
    "\"\"\"\n",
    "\n",
    "prompt = f\"\"\"\n",
    "Please summarize the following market research report in no more than five sentences, focusing specifically on how AI and data privacy are shaping the market and affecting customer behavior:\n",
    "\n",
    "{report}\n",
    "\"\"\"\n",
    "response = get_response(messages=[Message(role=\"user\", content=prompt)])\n",
    "print_response(response, \"Summarized Market Research Report\")"
   ],
   "id": "86f6c16ba6d1c2a9",
   "outputs": [
    {
     "name": "stdout",
     "output_type": "stream",
     "text": [
      "\n",
      "Response of Summarized Market Research Report:\n",
      "AI and data privacy are significant factors shaping consumer behavior, with AI technologies enhancing customer experiences while data privacy concerns prompt consumers to be more cautious about their personal information. Companies that prioritize ethical AI practices and robust data protection measures are expected to gain a competitive edge in the market. The growing awareness of data privacy issues is leading to a demand for greater transparency and control over data sharing. The interplay between AI advancements and data privacy is reshaping consumer expectations and business strategies in various sectors. Overall, the market research report highlights the increasing influence of AI and data privacy concerns on customer behavior and business practices.\n",
      "--------------------------------------------------\n"
     ]
    }
   ],
   "execution_count": 24
  },
  {
   "metadata": {},
   "cell_type": "markdown",
   "source": "## Generate at most five bullet points summarizing a smartphone’s key features for a review website.",
   "id": "5bbdd25ed40dab7e"
  },
  {
   "metadata": {
    "ExecuteTime": {
     "end_time": "2025-06-08T09:51:11.757861Z",
     "start_time": "2025-06-08T09:51:10.593810Z"
    }
   },
   "cell_type": "code",
   "source": [
    "product_description = \"\"\"\n",
    "Introducing the latest smartphone model, featuring a stunning 6.7-inch AMOLED display with a 120Hz refresh rate for smooth scrolling and vibrant colors. Powered by the latest octa-core processor, it ensures lightning-fast performance and seamless multitasking. Capture stunning photos with the triple-camera system, including a 108MP main sensor, ultra-wide lens, and telephoto capabilities. The device also boasts a long-lasting 5000mAh battery with fast charging support, ensuring you stay connected throughout the day. With 5G connectivity, advanced security features, and an elegant design, this smartphone is perfect for tech enthusiasts and everyday users alike.\n",
    "\"\"\"\n",
    "\n",
    "prompt = f\"\"\"\n",
    "Please summarize the following smartphone product description in no more than five concise bullet points, focusing on the most important features:\n",
    "\n",
    "{product_description}\n",
    "\"\"\"\n",
    "response = get_response(messages=[Message(role=\"user\", content=prompt)])\n",
    "print_response(response, \"Smartphone Key Features Summary\")"
   ],
   "id": "ad9cec475e29ae4",
   "outputs": [
    {
     "name": "stdout",
     "output_type": "stream",
     "text": [
      "\n",
      "Response of Smartphone Key Features Summary:\n",
      "- 6.7-inch AMOLED display with a 120Hz refresh rate for vibrant colors and smooth scrolling\n",
      "- Powered by a latest octa-core processor for lightning-fast performance and seamless multitasking\n",
      "- Triple-camera system with a 108MP main sensor, ultra-wide lens, and telephoto capabilities for stunning photos\n",
      "- Long-lasting 5000mAh battery with fast charging support to keep you connected all day\n",
      "- 5G connectivity, advanced security features, and elegant design cater to tech enthusiasts and everyday users\n",
      "--------------------------------------------------\n"
     ]
    }
   ],
   "execution_count": 25
  },
  {
   "metadata": {},
   "cell_type": "markdown",
   "source": "### Expand a concise smart home security camera description into one detailed paragraph wrapped in <DetailedDescription> tags and then list key points in a <Summary> block.",
   "id": "50f5e2ddfd1a7426"
  },
  {
   "metadata": {
    "ExecuteTime": {
     "end_time": "2025-06-08T09:51:15.042319Z",
     "start_time": "2025-06-08T09:51:11.796358Z"
    }
   },
   "cell_type": "code",
   "source": [
    "prompt = f\"\"\"\n",
    "Expand the following concise product description of a smart home security camera into a detailed narrative in exactly one paragraph—highlighting its unique features, benefits, and potential applications—and wrap that paragraph in <DetailedDescription>…</DetailedDescription>.\n",
    "Then provide a bullet-point summary of its key features, benefits, and applications wrapped in <Summary>…</Summary>:\n",
    "\n",
    "{product_description}\n",
    "\"\"\"\n",
    "response = get_response(messages=[Message(role=\"user\", content=prompt)])\n",
    "print_response(response, \"Smartphone Key Features Summary\")"
   ],
   "id": "6186edffac636bfd",
   "outputs": [
    {
     "name": "stdout",
     "output_type": "stream",
     "text": [
      "\n",
      "Response of Smartphone Key Features Summary:\n",
      "<DetailedDescription> Step up your home security game with our cutting-edge smart home security camera. This innovative device is equipped with advanced features such as facial recognition technology, night vision capabilities, and motion detection sensors to ensure your home is protected around the clock. With the ability to livestream footage directly to your smartphone, you can keep an eye on your property from anywhere in the world. The camera's sleek and discreet design makes it easy to blend into any home decor, while its durable construction ensures it can withstand the elements. Whether you're looking to monitor your front door, keep an eye on your pets, or simply enhance your overall home security, this smart camera is the perfect solution for peace of mind.\n",
      "\n",
      "</DetailedDescription>\n",
      "\n",
      "<Summary>\n",
      "- Facial recognition technology for enhanced security\n",
      "- Night vision capabilities for 24/7 monitoring\n",
      "- Motion detection sensors for added protection\n",
      "- Livestream footage to your smartphone for remote monitoring\n",
      "- Sleek and discreet design\n",
      "- Durable construction for long-lasting use\n",
      "- Ideal for monitoring front doors, pets, and overall home security</Summary>\n",
      "--------------------------------------------------\n"
     ]
    }
   ],
   "execution_count": 26
  },
  {
   "metadata": {},
   "cell_type": "markdown",
   "source": "## Translation for multilingual communication",
   "id": "e7781e883739eec5"
  },
  {
   "metadata": {
    "ExecuteTime": {
     "end_time": "2025-06-08T09:51:15.076323Z",
     "start_time": "2025-06-08T09:51:15.062792Z"
    }
   },
   "cell_type": "code",
   "source": "marketing_message = \"The customer is the most important thing for our company.\"",
   "id": "82ad7e1dd6cff374",
   "outputs": [],
   "execution_count": 27
  },
  {
   "metadata": {
    "ExecuteTime": {
     "end_time": "2025-06-08T09:51:16.108883Z",
     "start_time": "2025-06-08T09:51:15.113824Z"
    }
   },
   "cell_type": "code",
   "source": [
    "prompt = f\"\"\"\n",
    "Please translate the following marketing message into French, Spanish, and Japanese. Label each translation clearly as “French:”, “Spanish:”, and “Japanese:”.\n",
    "{marketing_message}\n",
    "\"\"\"\n",
    "\n",
    "response = get_response(messages=[Message(role=\"user\", content=prompt)])\n",
    "\n",
    "print(\"English:\", marketing_message)\n",
    "print(response)"
   ],
   "id": "4e3627c4b25115a9",
   "outputs": [
    {
     "name": "stdout",
     "output_type": "stream",
     "text": [
      "English: The customer is the most important thing for our company.\n",
      "French: Le client est la chose la plus importante pour notre entreprise.\n",
      "\n",
      "Spanish: El cliente es lo más importante para nuestra empresa.\n",
      "\n",
      "Japanese: お客様は弊社にとって最も重要な存在です。\n"
     ]
    }
   ],
   "execution_count": 28
  },
  {
   "metadata": {},
   "cell_type": "markdown",
   "source": "## Tone adjustment for email marketing",
   "id": "eb00bdae00a7364"
  },
  {
   "metadata": {
    "ExecuteTime": {
     "end_time": "2025-06-08T09:52:47.001267Z",
     "start_time": "2025-06-08T09:52:45.122730Z"
    }
   },
   "cell_type": "code",
   "source": [
    "sample_email = \"\"\"\n",
    "Ungrateful customer,\n",
    "As you know we are very good and what we do, but you as customer suck and does not seem to appreciate our efforts in order to satisfy your needs.\n",
    "After all the attention and care we devoted you we would expect that you'd pay the bill, but instead you have not payed a cent.\n",
    "This is the last warning before taking proper measures to collect the payment.\n",
    "\"\"\"\n",
    "\n",
    "prompt = f\"\"\"\n",
    "Please rewrite the following marketing email with a professional, positive, and user-centric tone. Maintain the original intent, key details, and calls to action, but adjust the language to be polished, upbeat, and customer-focused. Output only the transformed email:\n",
    "\n",
    "{sample_email}\n",
    "\"\"\"\n",
    "\n",
    "response = get_response(messages=[Message(role=\"user\", content=prompt)])\n",
    "\n",
    "print(\"Before transformation: \\n\", sample_email)\n",
    "print(\"After transformation: \\n\", response)"
   ],
   "id": "3a0aacd22eb14ecf",
   "outputs": [
    {
     "name": "stdout",
     "output_type": "stream",
     "text": [
      "Before transformation: \n",
      " \n",
      "Ungrateful customer,\n",
      "As you know we are very good and what we do, but you as customer suck and does not seem to appreciate our efforts in order to satisfy your needs.\n",
      "After all the attention and care we devoted you we would expect that you'd pay the bill, but instead you have not payed a cent.\n",
      "This is the last warning before taking proper measures to collect the payment.\n",
      "\n",
      "After transformation: \n",
      " Dear Valued Customer,\n",
      "\n",
      "We hope this message finds you well. We would like to kindly remind you of an outstanding payment on your account. Your satisfaction is our top priority, and we have worked diligently to meet your needs and provide excellent service.\n",
      "\n",
      "We understand that oversights can happen, and we kindly ask for your prompt attention to this matter. Your payment will not only help us continue to provide you with exceptional service, but it will also ensure a smooth and seamless experience for you as our valued customer.\n",
      "\n",
      "Please take a moment to review your account and settle the outstanding balance at your earliest convenience. If you have any questions or need assistance, please do not hesitate to reach out to our customer service team. We are here to help and ensure your experience with us is nothing short of excellent.\n",
      "\n",
      "Thank you for your attention to this matter, and we look forward to continuing to serve you in the future.\n",
      "\n",
      "Warm regards,\n",
      "\n",
      "[Your Company Name]\n"
     ]
    }
   ],
   "execution_count": 30
  },
  {
   "metadata": {
    "ExecuteTime": {
     "end_time": "2025-06-08T09:51:17.259844Z",
     "start_time": "2025-06-08T09:51:17.246965Z"
    }
   },
   "cell_type": "code",
   "source": "",
   "id": "e75d6b4bf75b0ce0",
   "outputs": [],
   "execution_count": null
  }
 ],
 "metadata": {
  "kernelspec": {
   "display_name": "Python 3",
   "language": "python",
   "name": "python3"
  },
  "language_info": {
   "codemirror_mode": {
    "name": "ipython",
    "version": 2
   },
   "file_extension": ".py",
   "mimetype": "text/x-python",
   "name": "python",
   "nbconvert_exporter": "python",
   "pygments_lexer": "ipython2",
   "version": "2.7.6"
  }
 },
 "nbformat": 4,
 "nbformat_minor": 5
}
