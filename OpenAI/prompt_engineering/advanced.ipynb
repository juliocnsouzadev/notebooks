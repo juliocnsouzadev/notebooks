{
 "cells": [
  {
   "metadata": {},
   "cell_type": "markdown",
   "source": "# Advances Prompt Engineering Strategies",
   "id": "e8cb45cc87f4fb38"
  },
  {
   "metadata": {},
   "cell_type": "markdown",
   "source": "### Loading OpenAI API Key",
   "id": "ca08f45d82470075"
  },
  {
   "metadata": {
    "ExecuteTime": {
     "end_time": "2025-06-08T09:18:28.735805Z",
     "start_time": "2025-06-08T09:18:28.722846Z"
    }
   },
   "cell_type": "code",
   "source": [
    "from dotenv import load_dotenv\n",
    "import os\n",
    "\n",
    "# Load the .env file\n",
    "load_dotenv(dotenv_path='../../.env')  # Specify the path to your .env file\n",
    "\n",
    "# Access the environment variable\n",
    "api_key = os.getenv('OPENAI_API_KEY')\n",
    "\n",
    "# Check if the variable is loaded\n",
    "if api_key or api_key == \"\":\n",
    "    print(\"API key loaded successfully.\")\n",
    "else:\n",
    "    print(\"Failed to load API key.\")"
   ],
   "id": "66ce8811ddd1e95d",
   "outputs": [
    {
     "name": "stdout",
     "output_type": "stream",
     "text": [
      "API key loaded successfully.\n"
     ]
    }
   ],
   "execution_count": 8
  },
  {
   "metadata": {},
   "cell_type": "markdown",
   "source": "## Initializing OpenAI API",
   "id": "33577368cd1e911c"
  },
  {
   "metadata": {
    "ExecuteTime": {
     "end_time": "2025-06-08T09:18:28.819431Z",
     "start_time": "2025-06-08T09:18:28.793573Z"
    }
   },
   "cell_type": "code",
   "source": [
    "from openai import OpenAI\n",
    "\n",
    "client = OpenAI(api_key=api_key)"
   ],
   "id": "a88d5435788ec5c4",
   "outputs": [],
   "execution_count": 9
  },
  {
   "metadata": {},
   "cell_type": "markdown",
   "source": "## Auxiliary Functions",
   "id": "efdef7efd01c7fde"
  },
  {
   "metadata": {},
   "cell_type": "markdown",
   "source": "### Function to get the model response",
   "id": "b5da583d61dbb378"
  },
  {
   "metadata": {
    "ExecuteTime": {
     "end_time": "2025-06-08T09:18:28.884721Z",
     "start_time": "2025-06-08T09:18:28.873750Z"
    }
   },
   "cell_type": "code",
   "source": [
    "class Message:\n",
    "    def __init__(self, role, content):\n",
    "        self.role = role\n",
    "        self.content = content\n",
    "\n",
    "def get_response(messages:list[Message], model=\"gpt-3.5-turbo\", temperature=0.7):\n",
    "    \"\"\"\n",
    "    Get a response from the OpenAI API.\n",
    "\n",
    "    Parameters:\n",
    "    - prompt (str): The input prompt for the model.\n",
    "    - model (str): The model to use. Default is \"gpt-3.5-turbo\".\n",
    "    - temperature (float): Sampling temperature. Default is 0.7.\n",
    "\n",
    "    Returns:\n",
    "    - str: The model's response.\n",
    "    \"\"\"\n",
    "    model_response = client.chat.completions.create(\n",
    "        model=model,\n",
    "        messages=[message.__dict__ for message in messages],\n",
    "        temperature=temperature\n",
    "    )\n",
    "\n",
    "    # Access the content of the first choice\n",
    "    return model_response.choices[0].message.content"
   ],
   "id": "8499d442df3e4d5a",
   "outputs": [],
   "execution_count": 10
  },
  {
   "metadata": {},
   "cell_type": "markdown",
   "source": "# Shots",
   "id": "e464641784492888"
  },
  {
   "metadata": {},
   "cell_type": "markdown",
   "source": "## Zero-Shot, One-Shot, and Few-Shot Prompts",
   "id": "2435119f982a2568"
  },
  {
   "metadata": {},
   "cell_type": "markdown",
   "source": "### Function to generate a prompt for extracting odd numbers",
   "id": "171af5d8fbe84863"
  },
  {
   "metadata": {
    "ExecuteTime": {
     "end_time": "2025-06-08T09:18:28.937161Z",
     "start_time": "2025-06-08T09:18:28.922026Z"
    }
   },
   "cell_type": "code",
   "source": [
    "def get_extract_odd_numbers_prompt(input_data:set[int], examples:int=0):\n",
    "    \"\"\"\n",
    "    Generate a prompt for the OpenAI API to extract odd numbers from a set of integers.\n",
    "    :param input_data: A set of integers.\n",
    "    :param examples: Number of examples to include in the prompt.\n",
    "    :return: A string containing the prompt.\n",
    "    \"\"\"\n",
    "    def get_question(question_data:set[int]):\n",
    "        return f\"Q: What are the odd numbers in the given set of integers {question_data}?\"\n",
    "    extract_odds_prompt = f\"{get_question(input_data)}. A: \"\n",
    "    if examples > 0:\n",
    "        shots = \"\"\n",
    "        for i_exp in range(examples):\n",
    "            example_data = set(range(i_exp * 2 + 1, i_exp * 2 + 3))\n",
    "            odds = set(filter(lambda x: x % 2 != 0, example_data))\n",
    "            shots += f\"{get_question(example_data)}. A: {odds}\\n\"\n",
    "        return shots + extract_odds_prompt\n",
    "    return f\"\"\"{extract_odds_prompt}\"\"\"\n",
    "\n"
   ],
   "id": "a43aebb3b02275c9",
   "outputs": [],
   "execution_count": 11
  },
  {
   "metadata": {
    "ExecuteTime": {
     "end_time": "2025-06-08T09:18:28.985874Z",
     "start_time": "2025-06-08T09:18:28.971881Z"
    }
   },
   "cell_type": "code",
   "source": [
    "# Example usage (only prompt)\n",
    "data = {1, 2, 3, 4, 5, 6, 7, 8, 9}\n",
    "\n",
    "for i in range(1, 4):\n",
    "    prompt = get_extract_odd_numbers_prompt(data, examples=i)\n",
    "    print(f\"- Prompt with {i} example(s):\\n{prompt}\")\n",
    "    print(\"-\" * 50)"
   ],
   "id": "3eba159b5b00315d",
   "outputs": [
    {
     "name": "stdout",
     "output_type": "stream",
     "text": [
      "- Prompt with 1 example(s):\n",
      "Q: What are the odd numbers in the given set of integers {1, 2}?. A: {1}\n",
      "Q: What are the odd numbers in the given set of integers {1, 2, 3, 4, 5, 6, 7, 8, 9}?. A: \n",
      "--------------------------------------------------\n",
      "- Prompt with 2 example(s):\n",
      "Q: What are the odd numbers in the given set of integers {1, 2}?. A: {1}\n",
      "Q: What are the odd numbers in the given set of integers {3, 4}?. A: {3}\n",
      "Q: What are the odd numbers in the given set of integers {1, 2, 3, 4, 5, 6, 7, 8, 9}?. A: \n",
      "--------------------------------------------------\n",
      "- Prompt with 3 example(s):\n",
      "Q: What are the odd numbers in the given set of integers {1, 2}?. A: {1}\n",
      "Q: What are the odd numbers in the given set of integers {3, 4}?. A: {3}\n",
      "Q: What are the odd numbers in the given set of integers {5, 6}?. A: {5}\n",
      "Q: What are the odd numbers in the given set of integers {1, 2, 3, 4, 5, 6, 7, 8, 9}?. A: \n",
      "--------------------------------------------------\n"
     ]
    }
   ],
   "execution_count": 12
  },
  {
   "metadata": {
    "ExecuteTime": {
     "end_time": "2025-06-08T09:18:31.036845Z",
     "start_time": "2025-06-08T09:18:29.053725Z"
    }
   },
   "cell_type": "code",
   "source": [
    "# Example usage (with response)\n",
    "data = {3, 5, 11, 12, 16}\n",
    "zero_shot_prompt = get_extract_odd_numbers_prompt(data)\n",
    "response = get_response(messages=[Message(role=\"user\", content=zero_shot_prompt)])\n",
    "print(f\"\\nPrompt zero shot:\\n{zero_shot_prompt}\")\n",
    "print(f\"\\nResponse zero shot:\\n{response}\")\n",
    "print(\"-\" * 50)\n",
    "\n",
    "one_shot_prompt = get_extract_odd_numbers_prompt(data, examples=1)\n",
    "response = get_response(messages=[Message(role=\"user\", content=one_shot_prompt)])\n",
    "print(f\"\\nPrompt one shot:\\n{one_shot_prompt}\")\n",
    "print(f\"\\nResponse one shot:\\n{response}\")\n",
    "print(\"-\" * 50)\n",
    "\n",
    "few_shot_prompt = get_extract_odd_numbers_prompt(data, examples=2)\n",
    "response = get_response(messages=[Message(role=\"user\", content=few_shot_prompt)])\n",
    "print(f\"\\nPrompt few shot:\\n{few_shot_prompt}\")\n",
    "print(f\"\\nResponse few shot:\\n{response}\")\n",
    "print(\"-\" * 50)"
   ],
   "id": "26c576a6606614c6",
   "outputs": [
    {
     "name": "stdout",
     "output_type": "stream",
     "text": [
      "\n",
      "Prompt zero shot:\n",
      "Q: What are the odd numbers in the given set of integers {16, 3, 5, 11, 12}?. A: \n",
      "\n",
      "Response zero shot:\n",
      "3, 5, and 11\n",
      "--------------------------------------------------\n",
      "\n",
      "Prompt one shot:\n",
      "Q: What are the odd numbers in the given set of integers {1, 2}?. A: {1}\n",
      "Q: What are the odd numbers in the given set of integers {16, 3, 5, 11, 12}?. A: \n",
      "\n",
      "Response one shot:\n",
      "{3, 5, 11}\n",
      "--------------------------------------------------\n",
      "\n",
      "Prompt few shot:\n",
      "Q: What are the odd numbers in the given set of integers {1, 2}?. A: {1}\n",
      "Q: What are the odd numbers in the given set of integers {3, 4}?. A: {3}\n",
      "Q: What are the odd numbers in the given set of integers {16, 3, 5, 11, 12}?. A: \n",
      "\n",
      "Response few shot:\n",
      "{3, 5, 11}\n",
      "--------------------------------------------------\n"
     ]
    }
   ],
   "execution_count": 13
  },
  {
   "metadata": {},
   "cell_type": "markdown",
   "source": "### Sentiment analysis with few-shot prompting",
   "id": "492e0070c8378103"
  },
  {
   "metadata": {},
   "cell_type": "markdown",
   "source": "#### Function to generate messages for sentiment analysis",
   "id": "e98657588375afee"
  },
  {
   "metadata": {
    "ExecuteTime": {
     "end_time": "2025-06-08T09:18:31.071040Z",
     "start_time": "2025-06-08T09:18:31.059408Z"
    }
   },
   "cell_type": "code",
   "source": [
    "def get_sentiment_analysis_messages(input_text:str, examples:int=0):\n",
    "    \"\"\"\n",
    "    Generate messages for sentiment analysis.\n",
    "    :param input_text: The input text for sentiment analysis.\n",
    "    :param examples: Number of examples to include in the prompt.\n",
    "    :return: A list of messages for the OpenAI API.\n",
    "    \"\"\"\n",
    "    if examples > 6:\n",
    "        raise ValueError(\"The maximum number of examples is 6.\")\n",
    "\n",
    "    messages = []\n",
    "    if examples > 0:\n",
    "        sentiment_examples = [\n",
    "            {\"sentence\": \"I love programming!\", \"sentiment\": \"Positive\"},\n",
    "            {\"sentence\": \"I hate programming!\", \"sentiment\": \"Negative\"},\n",
    "            {\"sentence\": \"This is a great day\", \"sentiment\": \"Positive\"},\n",
    "            {\"sentence\": \"This is a bad day\", \"sentiment\": \"Negative\"},\n",
    "            {\"sentence\": \"I am very happy.\", \"sentiment\": \"Positive\"},\n",
    "            {\"sentence\": \"I am very sad.\", \"sentiment\": \"Negative\"}\n",
    "        ]\n",
    "        for i_exp in range(examples):\n",
    "            # Example data, question as user\n",
    "            msg = Message(role=\"user\", content=sentiment_examples[i_exp].get(\"sentence\"))\n",
    "            messages.append(msg)\n",
    "            # Example data, answer as assistant\n",
    "            msg = Message(role=\"assistant\", content=sentiment_examples[i_exp].get(\"sentiment\"))\n",
    "            messages.append(msg)\n",
    "\n",
    "    question_msg = Message(role=\"user\", content=input_text)\n",
    "    messages.append(question_msg)\n",
    "    return messages"
   ],
   "id": "a20f83f8ef62bb99",
   "outputs": [],
   "execution_count": 14
  },
  {
   "metadata": {
    "ExecuteTime": {
     "end_time": "2025-06-08T09:18:31.237594Z",
     "start_time": "2025-06-08T09:18:31.228267Z"
    }
   },
   "cell_type": "code",
   "source": [
    "# Example usage (only prompt)\n",
    "text = \"I love programming!\"\n",
    "for i in range(1, 5):\n",
    "    msgs = get_sentiment_analysis_messages(text, examples=i)\n",
    "    print(f\"\\nMsgs with {i} example(s):\\n{[msg.__dict__ for msg in msgs]}\")\n",
    "    print(\"-\" * 50)"
   ],
   "id": "af02a96e336267df",
   "outputs": [
    {
     "name": "stdout",
     "output_type": "stream",
     "text": [
      "\n",
      "Msgs with 1 example(s):\n",
      "[{'role': 'user', 'content': 'I love programming!'}, {'role': 'assistant', 'content': 'Positive'}, {'role': 'user', 'content': 'I love programming!'}]\n",
      "--------------------------------------------------\n",
      "\n",
      "Msgs with 2 example(s):\n",
      "[{'role': 'user', 'content': 'I love programming!'}, {'role': 'assistant', 'content': 'Positive'}, {'role': 'user', 'content': 'I hate programming!'}, {'role': 'assistant', 'content': 'Negative'}, {'role': 'user', 'content': 'I love programming!'}]\n",
      "--------------------------------------------------\n",
      "\n",
      "Msgs with 3 example(s):\n",
      "[{'role': 'user', 'content': 'I love programming!'}, {'role': 'assistant', 'content': 'Positive'}, {'role': 'user', 'content': 'I hate programming!'}, {'role': 'assistant', 'content': 'Negative'}, {'role': 'user', 'content': 'This is a great day'}, {'role': 'assistant', 'content': 'Positive'}, {'role': 'user', 'content': 'I love programming!'}]\n",
      "--------------------------------------------------\n",
      "\n",
      "Msgs with 4 example(s):\n",
      "[{'role': 'user', 'content': 'I love programming!'}, {'role': 'assistant', 'content': 'Positive'}, {'role': 'user', 'content': 'I hate programming!'}, {'role': 'assistant', 'content': 'Negative'}, {'role': 'user', 'content': 'This is a great day'}, {'role': 'assistant', 'content': 'Positive'}, {'role': 'user', 'content': 'This is a bad day'}, {'role': 'assistant', 'content': 'Negative'}, {'role': 'user', 'content': 'I love programming!'}]\n",
      "--------------------------------------------------\n"
     ]
    }
   ],
   "execution_count": 15
  },
  {
   "metadata": {
    "ExecuteTime": {
     "end_time": "2025-06-08T09:18:32.787383Z",
     "start_time": "2025-06-08T09:18:31.322757Z"
    }
   },
   "cell_type": "code",
   "source": [
    "# Example usage (with response)\n",
    "temp = 0.7\n",
    "text = \"The price of the product is really fair given its features\"\n",
    "zero_shot_msgs = get_sentiment_analysis_messages(text)\n",
    "response = get_response(messages=zero_shot_msgs, temperature=temp)\n",
    "print(f\"\\nResponse zero shot:\\n{response}\")\n",
    "for zero_shot_msgs in zero_shot_msgs:\n",
    "    print(f\"- {zero_shot_msgs.__dict__}\")\n",
    "print(\"-\" * 50)\n",
    "\n",
    "one_shot_msgs = get_sentiment_analysis_messages(text, examples=1)\n",
    "response = get_response(messages=one_shot_msgs, temperature=temp)\n",
    "print(f\"\\nResponse one shot:\\n{response}\")\n",
    "for one_shot_msgs in one_shot_msgs:\n",
    "    print(f\"- {one_shot_msgs.__dict__}\")\n",
    "print(\"-\" * 50)\n",
    "\n",
    "few_shot_msgs = get_sentiment_analysis_messages(text, examples=2)\n",
    "response = get_response(messages=few_shot_msgs, temperature=temp)\n",
    "print(f\"\\nResponse few shot:\\n{response}\")\n",
    "for few_shot_msgs in few_shot_msgs:\n",
    "    print(f\"- {few_shot_msgs.__dict__}\")\n",
    "print(\"-\" * 50)"
   ],
   "id": "6b142d3be36181a9",
   "outputs": [
    {
     "name": "stdout",
     "output_type": "stream",
     "text": [
      "\n",
      "Response zero shot:\n",
      " and quality. I believe it offers great value for the money.\n",
      "- {'role': 'user', 'content': 'The price of the product is really fair given its features'}\n",
      "--------------------------------------------------\n",
      "\n",
      "Response one shot:\n",
      "Positive\n",
      "- {'role': 'user', 'content': 'I love programming!'}\n",
      "- {'role': 'assistant', 'content': 'Positive'}\n",
      "- {'role': 'user', 'content': 'The price of the product is really fair given its features'}\n",
      "--------------------------------------------------\n",
      "\n",
      "Response few shot:\n",
      "Neutral\n",
      "- {'role': 'user', 'content': 'I love programming!'}\n",
      "- {'role': 'assistant', 'content': 'Positive'}\n",
      "- {'role': 'user', 'content': 'I hate programming!'}\n",
      "- {'role': 'assistant', 'content': 'Negative'}\n",
      "- {'role': 'user', 'content': 'The price of the product is really fair given its features'}\n",
      "--------------------------------------------------\n"
     ]
    }
   ],
   "execution_count": 16
  },
  {
   "metadata": {},
   "cell_type": "markdown",
   "source": "# Steps",
   "id": "e3d2156b8f7d394f"
  },
  {
   "metadata": {},
   "cell_type": "markdown",
   "source": "## Single Step vs Multi-Step Prompts",
   "id": "1f842eedfe6ad9"
  },
  {
   "metadata": {},
   "cell_type": "markdown",
   "source": "### Single Step Prompt",
   "id": "3ede65b5edc40539"
  },
  {
   "metadata": {
    "ExecuteTime": {
     "end_time": "2025-06-08T09:18:36.654739Z",
     "start_time": "2025-06-08T09:18:32.809454Z"
    }
   },
   "cell_type": "code",
   "source": [
    "single_prompt = \"\"\"Make a plan for a beach vacation.\"\"\"\n",
    "response = get_response(messages=[Message(role=\"user\", content=single_prompt)])\n",
    "print(f\"\\nSingle-Step Prompt:\\n{single_prompt}\")\n",
    "print(f\"\\nResponse:\\n{response}\")"
   ],
   "id": "58873f918391135",
   "outputs": [
    {
     "name": "stdout",
     "output_type": "stream",
     "text": [
      "\n",
      "Single-Step Prompt:\n",
      "Make a plan for a beach vacation.\n",
      "\n",
      "Response:\n",
      "1. Choose a destination: Research different beach destinations and choose one that fits your preferences - whether it be a tropical paradise, a secluded beach, or a popular tourist destination.\n",
      "\n",
      "2. Book accommodation: Look for hotels, resorts, or rental properties near the beach that suit your budget and preferences. Consider factors such as proximity to the beach, amenities, and reviews from previous guests.\n",
      "\n",
      "3. Plan activities: Make a list of activities you want to do during your beach vacation, such as swimming, snorkeling, surfing, or simply relaxing on the beach. Research any tours or excursions you may want to take part in, such as boat trips or water sports.\n",
      "\n",
      "4. Pack essentials: Make a packing list of essentials for a beach vacation, such as swimsuits, sunscreen, sunglasses, beach towels, and hats. Don't forget to pack any necessary medications, toiletries, and clothing for different weather conditions.\n",
      "\n",
      "5. Plan transportation: Arrange transportation to and from the beach destination, whether it be by car, plane, or train. Consider renting a car if you plan on exploring the area or taking day trips.\n",
      "\n",
      "6. Create a budget: Set a budget for your beach vacation, including expenses such as accommodation, transportation, food, activities, and souvenirs. Try to stick to your budget to avoid overspending.\n",
      "\n",
      "7. Research local cuisine: Research local restaurants and food options in the area you are visiting to experience the local cuisine. Consider trying new dishes and exploring different dining options during your vacation.\n",
      "\n",
      "8. Relax and enjoy: Once you arrive at the beach destination, relax and enjoy your vacation. Take time to unwind, soak up the sun, and make lasting memories with friends and family. Don't forget to take plenty of photos to capture the moments.\n"
     ]
    }
   ],
   "execution_count": 17
  },
  {
   "metadata": {},
   "cell_type": "markdown",
   "source": "### Multi-Step Prompt",
   "id": "566765c34c04685"
  },
  {
   "metadata": {
    "ExecuteTime": {
     "end_time": "2025-06-08T09:18:39.862103Z",
     "start_time": "2025-06-08T09:18:36.680030Z"
    }
   },
   "cell_type": "code",
   "source": [
    "single_prompt = \"\"\"Make a plan for a beach vacation as follows:\n",
    "Step 1: List four potential locations.\n",
    "Step 2: For each location, provide accommodation options.\n",
    "Step 3: For each location, suggest activities.\n",
    "Step 4: For each location, evaluate the pros and cons.\n",
    "\"\"\"\n",
    "response = get_response(messages=[Message(role=\"user\", content=single_prompt)])\n",
    "print(f\"\\nMulti-Step Prompt:\\n{single_prompt}\")\n",
    "print(f\"\\nResponse:\\n{response}\")"
   ],
   "id": "64318dbe0f168027",
   "outputs": [
    {
     "name": "stdout",
     "output_type": "stream",
     "text": [
      "\n",
      "Multi-Step Prompt:\n",
      "Make a plan for a beach vacation as follows:\n",
      "Step 1: List four potential locations.\n",
      "Step 2: For each location, provide accommodation options.\n",
      "Step 3: For each location, suggest activities.\n",
      "Step 4: For each location, evaluate the pros and cons.\n",
      "\n",
      "\n",
      "Response:\n",
      "Step 1: \n",
      "1. Maui, Hawaii\n",
      "2. Cancun, Mexico\n",
      "3. Myrtle Beach, South Carolina\n",
      "4. Maldives\n",
      "\n",
      "Step 2:\n",
      "1. Maui, Hawaii:\n",
      "   - Luxury resorts such as Four Seasons Maui at Wailea or Fairmont Kea Lani\n",
      "   - Beachfront condos or vacation rentals\n",
      "2. Cancun, Mexico:\n",
      "   - All-inclusive resorts like The Grand at Moon Palace or Hard Rock Hotel Cancun\n",
      "   - Boutique hotels in the Hotel Zone or downtown area\n",
      "3. Myrtle Beach, South Carolina:\n",
      "   - Oceanfront hotels like Marriott Myrtle Beach Resort or Ocean Reef Resort\n",
      "   - Vacation homes or beachfront cottages\n",
      "4. Maldives:\n",
      "   - Overwater bungalows in luxury resorts like Gili Lankanfushi or Soneva Jani\n",
      "   - Private island resorts with exclusive villas\n",
      "\n",
      "Step 3:\n",
      "1. Maui, Hawaii:\n",
      "   - Snorkeling at Molokini Crater\n",
      "   - Road to Hana drive\n",
      "   - Surfing at Ho'okipa Beach\n",
      "2. Cancun, Mexico:\n",
      "   - Visiting Mayan ruins in Tulum\n",
      "   - Swimming in cenotes\n",
      "   - Water sports like parasailing and jet skiing\n",
      "3. Myrtle Beach, South Carolina:\n",
      "   - Golfing at championship courses\n",
      "   - Shopping at Broadway at the Beach\n",
      "   - Visiting Myrtle Beach State Park\n",
      "4. Maldives:\n",
      "   - Scuba diving in vibrant coral reefs\n",
      "   - Sunset dolphin cruises\n",
      "   - Spa treatments at luxury resorts\n",
      "\n",
      "Step 4:\n",
      "1. Maui, Hawaii:\n",
      "   - Pros: Stunning beaches, lush landscapes, diverse activities\n",
      "   - Cons: Expensive accommodations, crowded tourist areas\n",
      "2. Cancun, Mexico:\n",
      "   - Pros: Affordable all-inclusive options, rich cultural experiences\n",
      "   - Cons: Crowded beaches, occasional seaweed issues\n",
      "3. Myrtle Beach, South Carolina:\n",
      "   - Pros: Family-friendly atmosphere, budget-friendly accommodations\n",
      "   - Cons: Crowded during peak seasons, limited upscale dining options\n",
      "4. Maldives:\n",
      "   - Pros: Ultimate luxury and seclusion, crystal-clear waters\n",
      "   - Cons: Expensive, long travel time, limited local culture experience.\n"
     ]
    }
   ],
   "execution_count": 18
  },
  {
   "metadata": {
    "ExecuteTime": {
     "end_time": "2025-06-08T09:18:40.909763Z",
     "start_time": "2025-06-08T09:18:39.930868Z"
    }
   },
   "cell_type": "code",
   "source": [
    "code = '''\n",
    "def calculate_rectangle_area(length, width):\n",
    "    area = length * width\n",
    "    return area\n",
    "'''\n",
    "\n",
    "prompt = f\"\"\"\n",
    "Analyze the function delimited by triple backticks and determine if it is correct as follows:\n",
    "Step 1: Correct syntax\n",
    "Step 2: Receiving two inputs\n",
    "Step 3: Returning one output\n",
    "```{code}```\n",
    "\"\"\"\n",
    "\n",
    "response = get_response(messages=[Message(role=\"user\", content=prompt)])\n",
    "print(f\"\\nMulti-Step Prompt:\\n{prompt}\")\n",
    "print(f\"\\nResponse:\\n{response}\")"
   ],
   "id": "9524acd47f5a0b5f",
   "outputs": [
    {
     "name": "stdout",
     "output_type": "stream",
     "text": [
      "\n",
      "Multi-Step Prompt:\n",
      "\n",
      "Analyze the function delimited by triple backticks and determine if it is correct as follows:\n",
      "Step 1: Correct syntax\n",
      "Step 2: Receiving two inputs\n",
      "Step 3: Returning one output\n",
      "```\n",
      "def calculate_rectangle_area(length, width):\n",
      "    area = length * width\n",
      "    return area\n",
      "```\n",
      "\n",
      "\n",
      "Response:\n",
      "After analyzing the function delimited by triple backticks, we can determine the following:\n",
      "Step 1: Correct syntax - Yes, the syntax of the function is correct.\n",
      "Step 2: Receiving two inputs - Yes, the function receives two inputs `length` and `width`.\n",
      "Step 3: Returning one output - Yes, the function calculates the area of a rectangle using the formula `area = length * width` and returns the calculated area.\n",
      "\n",
      "Therefore, based on the analysis, the function is correct.\n"
     ]
    }
   ],
   "execution_count": 19
  },
  {
   "metadata": {},
   "cell_type": "markdown",
   "source": "## Build a chain-of-thought prompt to calculate a father's age in 10 years given a friend's current age.",
   "id": "4a467e348d57b85a"
  },
  {
   "metadata": {
    "ExecuteTime": {
     "end_time": "2025-06-08T09:18:40.976456Z",
     "start_time": "2025-06-08T09:18:40.961646Z"
    }
   },
   "cell_type": "code",
   "source": [
    "def print_response(res, of:str):\n",
    "    print(f\"\\nResponse of {of}:\\n{res}\")\n",
    "    print(f\"-\" * 50)"
   ],
   "id": "257304cfb6ef4fe3",
   "outputs": [],
   "execution_count": 20
  },
  {
   "metadata": {
    "ExecuteTime": {
     "end_time": "2025-06-08T09:18:42.940783Z",
     "start_time": "2025-06-08T09:18:41.061148Z"
    }
   },
   "cell_type": "code",
   "source": [
    "prompt = (\n",
    "    \"Let’s think step by step. We know our friend is 20 years old, and their father is currently twice that age. \"\n",
    "    \"First calculate the father’s current age, then determine how old he will be in 10 years by adding 10. \"\n",
    "    \"Show all your reasoning, and then give the final answer.\"\n",
    ")\n",
    "\n",
    "response = get_response(messages=[Message(role=\"user\", content=prompt)])\n",
    "print_response(response, \"Chain-of-Thought for Father's Age Calculation\")"
   ],
   "id": "76217b1e46381c2a",
   "outputs": [
    {
     "name": "stdout",
     "output_type": "stream",
     "text": [
      "\n",
      "Response of Chain-of-Thought for Father's Age Calculation:\n",
      "To calculate the father's current age, we start by doubling our friend's age of 20:\n",
      "\n",
      "20 years old * 2 = 40 years old\n",
      "\n",
      "Therefore, our friend's father is currently 40 years old.\n",
      "\n",
      "To determine how old he will be in 10 years, we simply add 10 to his current age:\n",
      "\n",
      "40 years old + 10 years = 50 years old\n",
      "\n",
      "Therefore, our friend's father will be 50 years old in 10 years.\n",
      "--------------------------------------------------\n"
     ]
    }
   ],
   "execution_count": 21
  },
  {
   "metadata": {},
   "cell_type": "markdown",
   "source": "## Provide a worked example for summing even numbers in one set, then ask the model to apply the same reasoning to a new set.",
   "id": "de6a9dcc8b092241"
  },
  {
   "metadata": {
    "ExecuteTime": {
     "end_time": "2025-06-08T09:18:43.392910Z",
     "start_time": "2025-06-08T09:18:42.977050Z"
    }
   },
   "cell_type": "code",
   "source": [
    "example = \"\"\"Q: Sum the even numbers in the following set: {9, 10, 13, 4, 2}.\n",
    "A: Even numbers: 10, 4, 2. Adding them: 10 + 4 + 2 = 16\"\"\"\n",
    "question = \"\"\"Q: Sum the even numbers in the following set: {15, 13, 82, 7, 14}.\n",
    "A:\"\"\"\n",
    "prompt = example + \"\\n\\n\" + question\n",
    "response = get_response(messages=[Message(role=\"user\", content=prompt)])\n",
    "print_response(response, \"Worked Example for Summing Even Numbers\")"
   ],
   "id": "3bd2696638894820",
   "outputs": [
    {
     "name": "stdout",
     "output_type": "stream",
     "text": [
      "\n",
      "Response of Worked Example for Summing Even Numbers:\n",
      "Even numbers: 82, 14. Adding them: 82 + 14 = 96.\n",
      "--------------------------------------------------\n"
     ]
    }
   ],
   "execution_count": 22
  },
  {
   "metadata": {},
   "cell_type": "markdown",
   "source": "## Use self-consistency by simulating three independent experts and choosing the majority answer for an inventory problem.",
   "id": "732fa7df0068fa27"
  },
  {
   "metadata": {
    "ExecuteTime": {
     "end_time": "2025-06-08T09:18:46.510043Z",
     "start_time": "2025-06-08T09:18:43.427535Z"
    }
   },
   "cell_type": "code",
   "source": [
    "self_consistency_instruction = (\n",
    "    \"You will act as three independent reasoning experts. \"\n",
    "    \"For each expert (Expert 1, Expert 2, Expert 3), generate a full chain-of-thought and a final answer to the problem below. \"\n",
    "    \"Once all three answers are produced, compare them and choose the answer that at least two experts agree on, and present that as your final answer along with a brief note on the majority vote.\"\n",
    ")\n",
    "problem_to_solve = (\n",
    "    \"If you own a store that sells laptops and mobile phones. You start your day with \"\n",
    "    \"50 devices in the store, out of which 60% are mobile phones. \"\n",
    "    \"Throughout the day, three clients visited the store, each of them bought one mobile phone, \"\n",
    "    \"and one of them bought additionally a laptop. \"\n",
    "    \"Also, you added to your collection 10 laptops and 5 mobile phones. \"\n",
    "    \"How many laptops and mobile phones do you have by the end of the day?\"\n",
    ")\n",
    "prompt = self_consistency_instruction + \"\\n\\nProblem:\\n\" + problem_to_solve\n",
    "response = get_response(messages=[Message(role=\"user\", content=prompt)])\n",
    "print_response(response, \"Chain of three independent reasoning experts\")"
   ],
   "id": "c9c8a7ee4c3c94b6",
   "outputs": [
    {
     "name": "stdout",
     "output_type": "stream",
     "text": [
      "\n",
      "Response of Chain of three independent reasoning experts:\n",
      "Expert 1:\n",
      "1. Start with 50 devices in the store, 60% of which are mobile phones -> 50 * 0.6 = 30 mobile phones, and 20 laptops.\n",
      "2. Three clients bought one mobile phone each, so there are now 30 - 3 = 27 mobile phones left.\n",
      "3. One client also bought a laptop, so there are now 20 - 1 = 19 laptops left.\n",
      "4. Added 10 laptops and 5 mobile phones, so the total is now 19 + 10 = 29 laptops, and 27 + 5 = 32 mobile phones.\n",
      "Therefore, by the end of the day, there are 29 laptops and 32 mobile phones in the store.\n",
      "\n",
      "Expert 2:\n",
      "1. Start with 50 devices in the store, 60% of which are mobile phones -> 50 * 0.6 = 30 mobile phones, and 20 laptops.\n",
      "2. Three clients bought one mobile phone each, so there are now 30 - 3 = 27 mobile phones left.\n",
      "3. One client also bought a laptop, so there are now 20 - 1 = 19 laptops left.\n",
      "4. Added 10 laptops and 5 mobile phones, so the total is now 19 + 10 = 29 laptops, and 27 + 5 = 32 mobile phones.\n",
      "Therefore, by the end of the day, there are 29 laptops and 32 mobile phones in the store.\n",
      "\n",
      "Expert 3:\n",
      "1. Start with 50 devices in the store, 60% of which are mobile phones -> 50 * 0.6 = 30 mobile phones, and 20 laptops.\n",
      "2. Three clients bought one mobile phone each, so there are now 30 - 3 = 27 mobile phones left.\n",
      "3. One client also bought a laptop, so there are now 20 - 1 = 19 laptops left.\n",
      "4. Added 10 laptops and 5 mobile phones, so the total is now 19 + 10 = 29 laptops, and 27 + 5 = 32 mobile phones.\n",
      "Therefore, by the end of the day, there are 29 laptops and 32 mobile phones in the store.\n",
      "\n",
      "Majority Vote: According to the answers provided by Expert 1, Expert 2, and Expert 3, they all agree that by the end of the day, there are 29 laptops and 32 mobile phones in the store. Therefore, the final answer is 29 laptops and 32 mobile phones.\n",
      "--------------------------------------------------\n"
     ]
    }
   ],
   "execution_count": 23
  },
  {
   "metadata": {},
   "cell_type": "markdown",
   "source": "## Refine a simple ask into a precise instruction that outputs a markdown table of the top ten pre-trained language models.",
   "id": "29cec895b5048286"
  },
  {
   "metadata": {
    "ExecuteTime": {
     "end_time": "2025-06-08T09:18:47.758666Z",
     "start_time": "2025-06-08T09:18:46.544450Z"
    }
   },
   "cell_type": "code",
   "source": [
    "prompt = (\n",
    "    \"Create a markdown table with exactly three columns—“Model Name”, “Release Year”, and “Owning Company”—\"\n",
    "    \"and ten rows, listing the top ten pre-trained language models. Include a header row and output only the table.\"\n",
    ")\n",
    "response = get_response(messages=[Message(role=\"user\", content=prompt)])\n",
    "print_response(response, \"Chain of three independent reasoning experts\")"
   ],
   "id": "3a14fdb142a43dcd",
   "outputs": [
    {
     "name": "stdout",
     "output_type": "stream",
     "text": [
      "\n",
      "Response of Chain of three independent reasoning experts:\n",
      "| Model Name           | Release Year | Owning Company  |\n",
      "|----------------------|--------------|-----------------|\n",
      "| GPT-3                | 2020         | OpenAI          |\n",
      "| BERT                 | 2018         | Google          |\n",
      "| RoBERTa              | 2019         | Facebook        |\n",
      "| GPT-2                | 2019         | OpenAI          |\n",
      "| T5                   | 2020         | Google          |\n",
      "| XLNet                | 2019         | Google          |\n",
      "| BART                 | 2019         | Facebook        |\n",
      "| DistilBERT           | 2019         | Hugging Face    |\n",
      "| ALBERT               | 2019         | Google          |\n",
      "| ELECTRA              | 2020         | Google          |\n",
      "--------------------------------------------------\n"
     ]
    }
   ],
   "execution_count": 24
  },
  {
   "metadata": {},
   "cell_type": "markdown",
   "source": "## Adjust emotion-classification examples to include a “No explicit emotion” label and classify a neutral sentence.",
   "id": "987aff85d18d486a"
  },
  {
   "metadata": {
    "ExecuteTime": {
     "end_time": "2025-06-08T09:18:48.458987Z",
     "start_time": "2025-06-08T09:18:47.793851Z"
    }
   },
   "cell_type": "code",
   "source": [
    "prompt = \"\"\"\n",
    "Receiving a promotion at work made me feel on top of the world -> Happiness\n",
    "The movie's ending left me with a heavy feeling in my chest -> Sadness\n",
    "Walking alone in the dark alley sent shivers down my spine -> Fear\n",
    "The clouds drifted lazily across the sky without stirring any feeling -> No explicit emotion\n",
    "\n",
    "They sat and ate their meal -> No explicit emotion\n",
    "\"\"\"\n",
    "response = get_response(messages=[Message(role=\"user\", content=prompt)])\n",
    "print_response(response, \"Chain of three independent reasoning experts\")"
   ],
   "id": "38708fdcdadff9d7",
   "outputs": [
    {
     "name": "stdout",
     "output_type": "stream",
     "text": [
      "\n",
      "Response of Chain of three independent reasoning experts:\n",
      "\n",
      "Her smile lit up the room -> Happiness\n",
      "The news of his passing brought tears to my eyes -> Sadness\n",
      "The sudden loud noise made my heart race -> Fear\n",
      "The sight of the sunset over the ocean filled me with peace -> Calmness\n",
      "--------------------------------------------------\n"
     ]
    }
   ],
   "execution_count": 25
  },
  {
   "metadata": {},
   "cell_type": "markdown",
   "source": "## Summarize a market research report in up to five sentences, emphasizing AI and data privacy impacts on customers.",
   "id": "c82fc91ed682b80c"
  },
  {
   "metadata": {
    "ExecuteTime": {
     "end_time": "2025-06-08T09:18:49.442467Z",
     "start_time": "2025-06-08T09:18:48.493271Z"
    }
   },
   "cell_type": "code",
   "source": [
    "report = \"\"\"\n",
    "The market research report highlights the increasing influence of artificial intelligence (AI) and data privacy concerns on consumer behavior. AI technologies are being integrated into various sectors, enhancing customer experiences through personalized services and predictive analytics. However, the growing awareness of data privacy issues is prompting consumers to be more cautious about how their personal information is used, leading to a demand for greater transparency and control over data sharing. Companies that prioritize ethical AI practices and robust data protection measures are likely to gain a competitive edge in the market. Overall, the interplay between AI advancements and data privacy is reshaping consumer expectations and business strategies.\n",
    "\"\"\"\n",
    "\n",
    "prompt = f\"\"\"\n",
    "Please summarize the following market research report in no more than five sentences, focusing specifically on how AI and data privacy are shaping the market and affecting customer behavior:\n",
    "\n",
    "{report}\n",
    "\"\"\"\n",
    "response = get_response(messages=[Message(role=\"user\", content=prompt)])\n",
    "print_response(response, \"Summarized Market Research Report\")"
   ],
   "id": "80ed46b58bf409a9",
   "outputs": [
    {
     "name": "stdout",
     "output_type": "stream",
     "text": [
      "\n",
      "Response of Summarized Market Research Report:\n",
      "AI and data privacy are significantly shaping consumer behavior, with AI technologies improving customer experiences and predictive analytics in various sectors. However, consumers are becoming more cautious about data privacy, leading to a demand for transparency and control over personal information. Companies that prioritize ethical AI practices and data protection measures are likely to be more competitive in the market. The interplay between AI advancements and data privacy is reshaping consumer expectations and business strategies. Overall, the market is being influenced by the balance between AI innovation and data privacy concerns.\n",
      "--------------------------------------------------\n"
     ]
    }
   ],
   "execution_count": 26
  },
  {
   "metadata": {},
   "cell_type": "markdown",
   "source": "## Generate at most five bullet points summarizing a smartphone’s key features for a review website.",
   "id": "b41836d0f466a75e"
  },
  {
   "metadata": {
    "ExecuteTime": {
     "end_time": "2025-06-08T09:18:50.375357Z",
     "start_time": "2025-06-08T09:18:49.464304Z"
    }
   },
   "cell_type": "code",
   "source": [
    "product_description = \"\"\"\n",
    "Introducing the latest smartphone model, featuring a stunning 6.7-inch AMOLED display with a 120Hz refresh rate for smooth scrolling and vibrant colors. Powered by the latest octa-core processor, it ensures lightning-fast performance and seamless multitasking. Capture stunning photos with the triple-camera system, including a 108MP main sensor, ultra-wide lens, and telephoto capabilities. The device also boasts a long-lasting 5000mAh battery with fast charging support, ensuring you stay connected throughout the day. With 5G connectivity, advanced security features, and an elegant design, this smartphone is perfect for tech enthusiasts and everyday users alike.\n",
    "\"\"\"\n",
    "\n",
    "prompt = f\"\"\"\n",
    "Please summarize the following smartphone product description in no more than five concise bullet points, focusing on the most important features:\n",
    "\n",
    "{product_description}\n",
    "\"\"\"\n",
    "response = get_response(messages=[Message(role=\"user\", content=prompt)])\n",
    "print_response(response, \"Smartphone Key Features Summary\")"
   ],
   "id": "7d1843f196778037",
   "outputs": [
    {
     "name": "stdout",
     "output_type": "stream",
     "text": [
      "\n",
      "Response of Smartphone Key Features Summary:\n",
      "- 6.7-inch AMOLED display with 120Hz refresh rate for smooth scrolling and vibrant colors\n",
      "- Latest octa-core processor for lightning-fast performance and seamless multitasking\n",
      "- Triple-camera system with 108MP main sensor, ultra-wide lens, and telephoto capabilities\n",
      "- Long-lasting 5000mAh battery with fast charging support\n",
      "- 5G connectivity, advanced security features, and elegant design suitable for tech enthusiasts and everyday users\n",
      "--------------------------------------------------\n"
     ]
    }
   ],
   "execution_count": 27
  },
  {
   "metadata": {},
   "cell_type": "markdown",
   "source": "### Expand a concise smart home security camera description into one detailed paragraph wrapped in <DetailedDescription> tags and then list key points in a <Summary> block.",
   "id": "4a266fef26cefd48"
  },
  {
   "metadata": {
    "ExecuteTime": {
     "end_time": "2025-06-08T09:18:53.127761Z",
     "start_time": "2025-06-08T09:18:50.394700Z"
    }
   },
   "cell_type": "code",
   "source": [
    "prompt = f\"\"\"\n",
    "Expand the following concise product description of a smart home security camera into a detailed narrative in exactly one paragraph—highlighting its unique features, benefits, and potential applications—and wrap that paragraph in <DetailedDescription>…</DetailedDescription>.\n",
    "Then provide a bullet-point summary of its key features, benefits, and applications wrapped in <Summary>…</Summary>:\n",
    "\n",
    "{product_description}\n",
    "\"\"\"\n",
    "response = get_response(messages=[Message(role=\"user\", content=prompt)])\n",
    "print_response(response, \"Smartphone Key Features Summary\")"
   ],
   "id": "f6b9a2080a932087",
   "outputs": [
    {
     "name": "stdout",
     "output_type": "stream",
     "text": [
      "\n",
      "Response of Smartphone Key Features Summary:\n",
      "<DetailedDescription>Experience unparalleled home security with our state-of-the-art smart home security camera. This innovative device offers crystal-clear 1080p HD video quality, ensuring you never miss a single detail. With advanced motion detection technology, the camera can accurately detect any movement and send instant alerts to your smartphone, keeping you informed and in control at all times. The two-way audio feature allows you to communicate with visitors or deter intruders, adding an extra layer of protection to your home. Additionally, the camera is equipped with night vision capabilities, providing round-the-clock surveillance even in low-light conditions. Its sleek and compact design seamlessly blends into any home decor, making it a discreet yet powerful security solution for your household. Whether you're monitoring your property while on vacation or keeping an eye on your pets while at work, this smart home security camera offers peace of mind and convenience like never before.</DetailedDescription>\n",
      "\n",
      "<Summary>\n",
      "- Crystal-clear 1080p HD video quality\n",
      "- Advanced motion detection technology with instant alerts\n",
      "- Two-way audio communication for added security\n",
      "- Night vision capabilities for round-the-clock surveillance\n",
      "- Sleek and compact design for seamless integration into any home decor\n",
      "- Perfect for monitoring your property, pets, or loved ones remotely\n",
      "</Summary>\n",
      "--------------------------------------------------\n"
     ]
    }
   ],
   "execution_count": 28
  }
 ],
 "metadata": {
  "kernelspec": {
   "display_name": "Python 3",
   "language": "python",
   "name": "python3"
  },
  "language_info": {
   "codemirror_mode": {
    "name": "ipython",
    "version": 2
   },
   "file_extension": ".py",
   "mimetype": "text/x-python",
   "name": "python",
   "nbconvert_exporter": "python",
   "pygments_lexer": "ipython2",
   "version": "2.7.6"
  }
 },
 "nbformat": 4,
 "nbformat_minor": 5
}
