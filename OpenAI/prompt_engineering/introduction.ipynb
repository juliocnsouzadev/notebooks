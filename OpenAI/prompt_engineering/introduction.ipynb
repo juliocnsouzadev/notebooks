{
 "cells": [
  {
   "metadata": {},
   "cell_type": "markdown",
   "source": "# Introduction Prompt Engineering",
   "id": "fc165702b7ab9f31"
  },
  {
   "metadata": {},
   "cell_type": "markdown",
   "source": "### Loading OpenAI API Key",
   "id": "ca08f45d82470075"
  },
  {
   "metadata": {},
   "cell_type": "code",
   "source": [
    "from dotenv import load_dotenv\n",
    "import os\n",
    "\n",
    "# Load the .env file\n",
    "load_dotenv(dotenv_path='../.env')  # Specify the path to your .env file\n",
    "\n",
    "# Access the environment variable\n",
    "api_key = os.getenv('OPENAI_API_KEY')\n",
    "\n",
    "# Check if the variable is loaded\n",
    "if api_key or api_key == \"\":\n",
    "    print(\"API key loaded successfully.\")\n",
    "else:\n",
    "    print(\"Failed to load API key.\")"
   ],
   "id": "66ce8811ddd1e95d",
   "outputs": [],
   "execution_count": null
  },
  {
   "metadata": {},
   "cell_type": "markdown",
   "source": "## Initializing OpenAI API",
   "id": "33577368cd1e911c"
  },
  {
   "metadata": {},
   "cell_type": "code",
   "source": [
    "from openai import OpenAI\n",
    "\n",
    "client = OpenAI(api_key=api_key)"
   ],
   "id": "a88d5435788ec5c4",
   "outputs": [],
   "execution_count": null
  },
  {
   "metadata": {},
   "cell_type": "markdown",
   "source": "## Auxiliary Functions",
   "id": "efdef7efd01c7fde"
  },
  {
   "metadata": {},
   "cell_type": "markdown",
   "source": "### Function to get the model response",
   "id": "b5da583d61dbb378"
  },
  {
   "metadata": {},
   "cell_type": "code",
   "source": [
    "def get_response(prompt, model=\"gpt-3.5-turbo\", temperature=0.7):\n",
    "    \"\"\"\n",
    "    Get a response from the OpenAI API.\n",
    "\n",
    "    Parameters:\n",
    "    - prompt (str): The input prompt for the model.\n",
    "    - model (str): The model to use. Default is \"gpt-3.5-turbo\".\n",
    "    - temperature (float): Sampling temperature. Default is 0.7.\n",
    "\n",
    "    Returns:\n",
    "    - str: The model's response.\n",
    "    \"\"\"\n",
    "    model_response = client.chat.completions.create(\n",
    "        model=model,\n",
    "        messages=[{\"role\": \"user\", \"content\": prompt}],\n",
    "        temperature=temperature\n",
    "    )\n",
    "\n",
    "    # Access the content of the first choice\n",
    "    return model_response.choices[0].message.content"
   ],
   "id": "8499d442df3e4d5a",
   "outputs": [],
   "execution_count": null
  },
  {
   "metadata": {},
   "cell_type": "markdown",
   "source": "### Function to generate a prompt for language detection and title generation",
   "id": "171af5d8fbe84863"
  },
  {
   "metadata": {},
   "cell_type": "code",
   "source": [
    "def generate_language_and_title_prompt(text):\n",
    "    \"\"\"\n",
    "    Generate a prompt for the OpenAI API to determine the language of a text and generate a title.\n",
    "    :param text:\n",
    "    :return:\n",
    "    \"\"\"\n",
    "    # Create the instructions\n",
    "    instructions = (\n",
    "        \"Determine the language of the provided text and generate a suitable title for it. \"\n",
    "        \"The text will be provided using triple backticks (```...```) as delimiters.\"\n",
    "    )\n",
    "\n",
    "    # Create the output format\n",
    "    output_format = (\n",
    "        \"Output the results in the following format:\\n\"\n",
    "        \"Text: <The provided text>\\n\"\n",
    "        \"Language: <Detected language>\\n\"\n",
    "        \"Title: <Generated title>\"\n",
    "    )\n",
    "\n",
    "    # return the final prompt\n",
    "    return f\"{instructions}\\n\\n{output_format}\\n\\n```{text}```\"\n"
   ],
   "id": "a43aebb3b02275c9",
   "outputs": [],
   "execution_count": null
  },
  {
   "metadata": {},
   "cell_type": "markdown",
   "source": "### Function to generate a prompt for language detection and title generation",
   "id": "cd1ec0a42198e6b9"
  },
  {
   "metadata": {},
   "cell_type": "code",
   "source": [
    "def generate_language_title_nb_sentences_prompt(text):\n",
    "    \"\"\"\n",
    "    Generate a prompt for the OpenAI API to determine the language of a text and generate a title.\n",
    "    :param text:\n",
    "    :return:\n",
    "    \"\"\"\n",
    "    # Create the instructions\n",
    "    instructions = (\n",
    "        \"Determine the language of the provided text and the number of sentences of the given text; then if the text contains more than one sentence, generate a suitable title for it, otherwise, write 'N/A' for the title.\"\n",
    "        \"The text will be provided using triple backticks (```...```) as delimiters.\"\n",
    "    )\n",
    "\n",
    "    # Create the output format\n",
    "    output_format = (\n",
    "        \"Output the results in the following format:\\n\"\n",
    "        \"Text: <The provided text>\\n\"\n",
    "        \"Language: <Detected language>\\n\"\n",
    "        \"Number of Sentences: <Detected number of sentences>\\n\"\n",
    "        \"Title: <Generated title>\"\n",
    "    )\n",
    "\n",
    "    # return the final prompt\n",
    "    return f\"{instructions}\\n\\n{output_format}\\n\\n```{text}```\""
   ],
   "id": "827b641a1b1fd256",
   "outputs": [],
   "execution_count": null
  },
  {
   "metadata": {},
   "cell_type": "code",
   "source": [
    "# Example usage\n",
    "text = \"Bonjour tout le monde. Comment ça va ? Je suis ravi de vous rencontrer.\"\n",
    "prompt = generate_language_title_nb_sentences_prompt(text)\n",
    "response = get_response(prompt)\n",
    "print(\"- Prompt:\\n\", prompt)\n",
    "print(\"\\n- Response:\\n\", response)"
   ],
   "id": "26c576a6606614c6",
   "outputs": [],
   "execution_count": null
  },
  {
   "metadata": {},
   "cell_type": "code",
   "source": "",
   "id": "cd5ffdde693ea73f",
   "outputs": [],
   "execution_count": null
  }
 ],
 "metadata": {
  "kernelspec": {
   "display_name": "Python 3",
   "language": "python",
   "name": "python3"
  },
  "language_info": {
   "codemirror_mode": {
    "name": "ipython",
    "version": 2
   },
   "file_extension": ".py",
   "mimetype": "text/x-python",
   "name": "python",
   "nbconvert_exporter": "python",
   "pygments_lexer": "ipython2",
   "version": "2.7.6"
  }
 },
 "nbformat": 4,
 "nbformat_minor": 5
}
