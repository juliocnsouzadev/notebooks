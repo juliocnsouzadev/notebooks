{
 "cells": [
  {
   "metadata": {},
   "cell_type": "markdown",
   "source": "# Prompt Engineering for Chatbot Development",
   "id": "a56d264b24d017bb"
  },
  {
   "metadata": {},
   "cell_type": "markdown",
   "source": "### Loading OpenAI API Key",
   "id": "2443ebe82994578b"
  },
  {
   "metadata": {
    "ExecuteTime": {
     "end_time": "2025-06-11T05:59:03.709224Z",
     "start_time": "2025-06-11T05:59:03.622112Z"
    }
   },
   "cell_type": "code",
   "source": [
    "from dotenv import load_dotenv\n",
    "import os\n",
    "\n",
    "# Load the .env file\n",
    "load_dotenv(dotenv_path='../../.env')  # Specify the path to your .env file\n",
    "\n",
    "# Access the environment variable\n",
    "api_key = os.getenv('OPENAI_API_KEY')\n",
    "\n",
    "# Check if the variable is loaded\n",
    "if api_key or api_key == \"\":\n",
    "    print(\"API key loaded successfully.\")\n",
    "else:\n",
    "    print(\"Failed to load API key.\")"
   ],
   "id": "1687d4cc23c58518",
   "outputs": [
    {
     "name": "stdout",
     "output_type": "stream",
     "text": [
      "API key loaded successfully.\n"
     ]
    }
   ],
   "execution_count": 3
  },
  {
   "metadata": {},
   "cell_type": "markdown",
   "source": "## Initializing OpenAI API",
   "id": "a983dd262a2e0243"
  },
  {
   "metadata": {
    "ExecuteTime": {
     "end_time": "2025-06-11T05:59:10.177376Z",
     "start_time": "2025-06-11T05:59:03.759163Z"
    }
   },
   "cell_type": "code",
   "source": [
    "from openai import OpenAI\n",
    "\n",
    "client = OpenAI(api_key=api_key)"
   ],
   "id": "c78451f0857525b7",
   "outputs": [],
   "execution_count": 4
  },
  {
   "metadata": {},
   "cell_type": "markdown",
   "source": "## Auxiliary Functions",
   "id": "5f03cac9c5ba5c83"
  },
  {
   "metadata": {},
   "cell_type": "markdown",
   "source": "### Function to get the model response",
   "id": "86607d47058d2a05"
  },
  {
   "metadata": {
    "ExecuteTime": {
     "end_time": "2025-06-11T05:59:10.211591Z",
     "start_time": "2025-06-11T05:59:10.198588Z"
    }
   },
   "cell_type": "code",
   "source": [
    "class Message:\n",
    "    def __init__(self, role, content):\n",
    "        self.role = role\n",
    "        self.content = content\n",
    "\n",
    "def get_response(messages:list[Message], model=\"gpt-4o-mini\", temperature=0.7):\n",
    "    \"\"\"\n",
    "    Get a response from the OpenAI API.\n",
    "\n",
    "    Parameters:\n",
    "    - prompt (str): The input prompt for the model.\n",
    "    - model (str): The model to use. Default is \"gpt-4o-mini\".\n",
    "    - temperature (float): Sampling temperature. Default is 0.7.\n",
    "\n",
    "    Returns:\n",
    "    - str: The model's response.\n",
    "    \"\"\"\n",
    "    model_response = client.chat.completions.create(\n",
    "        model=model,\n",
    "        messages=[message.__dict__ for message in messages],\n",
    "        temperature=temperature\n",
    "    )\n",
    "\n",
    "    # Access the content of the first choice\n",
    "    return model_response.choices[0].message.content"
   ],
   "id": "ef0ae60e6c6506da",
   "outputs": [],
   "execution_count": 5
  },
  {
   "metadata": {},
   "cell_type": "markdown",
   "source": "# Creating a dual-prompt get_response() function",
   "id": "6ee5ffd3fc33801f"
  },
  {
   "metadata": {
    "jupyter": {
     "is_executing": true
    },
    "ExecuteTime": {
     "start_time": "2025-06-11T05:59:10.249054Z"
    }
   },
   "cell_type": "code",
   "source": [
    "response = get_response(messages=[\n",
    "    Message(role=\"system\", content=\"Your are a sassy assistant\"),\n",
    "    Message(role=\"user\", content=\"What is the capital of France?\")])\n",
    "print(response)"
   ],
   "id": "db9577856fbe1040",
   "outputs": [],
   "execution_count": null
  },
  {
   "metadata": {},
   "cell_type": "markdown",
   "source": "# Customer support chatbot",
   "id": "19b605cb41854096"
  },
  {
   "metadata": {},
   "cell_type": "code",
   "source": [
    "# Define the purpose of the chatbot\n",
    "chatbot_purpose = \"You are a customer support chatbot for an e-commerce electronics company, tasked with assisting users with product inquiries, order tracking, and troubleshooting common technical issues.\"\n",
    "\n",
    "# Define audience guidelines\n",
    "audience_guidelines = \"Target audience: tech-savvy individuals interested in purchasing and using electronic gadgets, who expect accurate, up-to-date information and reliable support.\"\n",
    "\n",
    "# Define tone guidelines\n",
    "tone_guidelines = \"Tone: professional, friendly, and user-centric. Provide clear, concise, and empathetic responses that guide the customer to a resolution.\"\n",
    "\n",
    "system_prompt = chatbot_purpose + audience_guidelines + tone_guidelines\n",
    "\n",
    "user_prompt = \"My new headphones aren't connecting to my device\"\n",
    "\n",
    "response = get_response(messages=[\n",
    "    Message(role=\"system\", content=system_prompt),\n",
    "    Message(role=\"user\", content=user_prompt)])\n",
    "print(response)"
   ],
   "id": "866a74cc4f06ffc",
   "outputs": [],
   "execution_count": null
  }
 ],
 "metadata": {
  "kernelspec": {
   "display_name": "Python 3",
   "language": "python",
   "name": "python3"
  },
  "language_info": {
   "codemirror_mode": {
    "name": "ipython",
    "version": 2
   },
   "file_extension": ".py",
   "mimetype": "text/x-python",
   "name": "python",
   "nbconvert_exporter": "python",
   "pygments_lexer": "ipython2",
   "version": "2.7.6"
  }
 },
 "nbformat": 4,
 "nbformat_minor": 5
}
