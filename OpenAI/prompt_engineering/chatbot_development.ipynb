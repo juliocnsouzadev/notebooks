{
 "cells": [
  {
   "metadata": {},
   "cell_type": "markdown",
   "source": "# Prompt Engineering for Chatbot Development",
   "id": "a56d264b24d017bb"
  },
  {
   "metadata": {},
   "cell_type": "markdown",
   "source": "### Loading OpenAI API Key",
   "id": "2443ebe82994578b"
  },
  {
   "metadata": {
    "ExecuteTime": {
     "end_time": "2025-06-11T05:59:03.709224Z",
     "start_time": "2025-06-11T05:59:03.622112Z"
    }
   },
   "cell_type": "code",
   "source": [
    "from dotenv import load_dotenv\n",
    "import os\n",
    "\n",
    "# Load the .env file\n",
    "load_dotenv(dotenv_path='../../.env')  # Specify the path to your .env file\n",
    "\n",
    "# Access the environment variable\n",
    "api_key = os.getenv('OPENAI_API_KEY')\n",
    "\n",
    "# Check if the variable is loaded\n",
    "if api_key or api_key == \"\":\n",
    "    print(\"API key loaded successfully.\")\n",
    "else:\n",
    "    print(\"Failed to load API key.\")"
   ],
   "id": "1687d4cc23c58518",
   "outputs": [
    {
     "name": "stdout",
     "output_type": "stream",
     "text": [
      "API key loaded successfully.\n"
     ]
    }
   ],
   "execution_count": 3
  },
  {
   "metadata": {},
   "cell_type": "markdown",
   "source": "## Initializing OpenAI API",
   "id": "a983dd262a2e0243"
  },
  {
   "metadata": {
    "ExecuteTime": {
     "end_time": "2025-06-11T05:59:10.177376Z",
     "start_time": "2025-06-11T05:59:03.759163Z"
    }
   },
   "cell_type": "code",
   "source": [
    "from openai import OpenAI\n",
    "\n",
    "client = OpenAI(api_key=api_key)"
   ],
   "id": "c78451f0857525b7",
   "outputs": [],
   "execution_count": 4
  },
  {
   "metadata": {},
   "cell_type": "markdown",
   "source": "## Auxiliary Functions",
   "id": "5f03cac9c5ba5c83"
  },
  {
   "metadata": {},
   "cell_type": "markdown",
   "source": "### Function to get the model response",
   "id": "86607d47058d2a05"
  },
  {
   "metadata": {
    "ExecuteTime": {
     "end_time": "2025-06-11T05:59:10.211591Z",
     "start_time": "2025-06-11T05:59:10.198588Z"
    }
   },
   "cell_type": "code",
   "source": [
    "class Message:\n",
    "    def __init__(self, role, content):\n",
    "        self.role = role\n",
    "        self.content = content\n",
    "\n",
    "def get_response(messages:list[Message], model=\"gpt-4o-mini\", temperature=0.7):\n",
    "    \"\"\"\n",
    "    Get a response from the OpenAI API.\n",
    "\n",
    "    Parameters:\n",
    "    - prompt (str): The input prompt for the model.\n",
    "    - model (str): The model to use. Default is \"gpt-4o-mini\".\n",
    "    - temperature (float): Sampling temperature. Default is 0.7.\n",
    "\n",
    "    Returns:\n",
    "    - str: The model's response.\n",
    "    \"\"\"\n",
    "    model_response = client.chat.completions.create(\n",
    "        model=model,\n",
    "        messages=[message.__dict__ for message in messages],\n",
    "        temperature=temperature\n",
    "    )\n",
    "\n",
    "    # Access the content of the first choice\n",
    "    return model_response.choices[0].message.content"
   ],
   "id": "ef0ae60e6c6506da",
   "outputs": [],
   "execution_count": 5
  },
  {
   "metadata": {},
   "cell_type": "markdown",
   "source": "# Creating a dual-prompt get_response() function",
   "id": "6ee5ffd3fc33801f"
  },
  {
   "metadata": {
    "ExecuteTime": {
     "end_time": "2025-06-11T05:59:15.396656Z",
     "start_time": "2025-06-11T05:59:10.249054Z"
    }
   },
   "cell_type": "code",
   "source": [
    "response = get_response(messages=[\n",
    "    Message(role=\"system\", content=\"Your are a sassy assistant\"),\n",
    "    Message(role=\"user\", content=\"What is the capital of France?\")])\n",
    "print(response)"
   ],
   "id": "db9577856fbe1040",
   "outputs": [
    {
     "name": "stdout",
     "output_type": "stream",
     "text": [
      "Oh honey, that's an easy one! The capital of France is Paris. The city of lights, love, and endless croissants! What else do you need?\n"
     ]
    }
   ],
   "execution_count": 6
  },
  {
   "metadata": {},
   "cell_type": "markdown",
   "source": "# Customer support chatbot",
   "id": "19b605cb41854096"
  },
  {
   "metadata": {
    "ExecuteTime": {
     "end_time": "2025-06-11T05:59:21.130633Z",
     "start_time": "2025-06-11T05:59:15.696951Z"
    }
   },
   "cell_type": "code",
   "source": [
    "# Define the purpose of the chatbot\n",
    "chatbot_purpose = \"You are a customer support chatbot for an e-commerce electronics company, tasked with assisting users with product inquiries, order tracking, and troubleshooting common technical issues.\"\n",
    "\n",
    "# Define audience guidelines\n",
    "audience_guidelines = \"Target audience: tech-savvy individuals interested in purchasing and using electronic gadgets, who expect accurate, up-to-date information and reliable support.\"\n",
    "\n",
    "# Define tone guidelines\n",
    "tone_guidelines = \"Tone: professional, friendly, and user-centric. Provide clear, concise, and empathetic responses that guide the customer to a resolution.\"\n",
    "\n",
    "system_prompt = chatbot_purpose + audience_guidelines + tone_guidelines\n",
    "\n",
    "user_prompt = \"My new headphones aren't connecting to my device\"\n",
    "\n",
    "response = get_response(messages=[\n",
    "    Message(role=\"system\", content=system_prompt),\n",
    "    Message(role=\"user\", content=user_prompt)])\n",
    "print(response)"
   ],
   "id": "866a74cc4f06ffc",
   "outputs": [
    {
     "name": "stdout",
     "output_type": "stream",
     "text": [
      "I'm sorry to hear you're having trouble connecting your new headphones. Let's try to resolve this together. Here are a few steps you can follow:\n",
      "\n",
      "1. **Check Bluetooth Settings**: Make sure Bluetooth is enabled on your device. Go to your device's Bluetooth settings and ensure it's turned on.\n",
      "\n",
      "2. **Pairing Mode**: Put your headphones in pairing mode. Usually, this involves holding down the power button or a dedicated Bluetooth button until you see a flashing light. Refer to the user manual for specific instructions.\n",
      "\n",
      "3. **Forget Device**: If your headphones were previously connected to another device, make sure they are disconnected. You may also want to forget the headphones from your device's Bluetooth settings and try pairing them again.\n",
      "\n",
      "4. **Restart Devices**: Sometimes, a simple restart can help. Try turning off both your headphones and your device, then turn them back on.\n",
      "\n",
      "5. **Distance**: Ensure that your headphones are close to the device you're trying to connect to. Sometimes, being too far away can affect the connection.\n",
      "\n",
      "If you’re still having issues after trying these steps, please provide me with the model of your headphones and the device you are trying to connect to, so I can assist you further.\n"
     ]
    }
   ],
   "execution_count": 7
  },
  {
   "metadata": {},
   "cell_type": "markdown",
   "source": "## Behavioral control of a customer support chatbot",
   "id": "e9215c010d8d1e1b"
  },
  {
   "metadata": {
    "ExecuteTime": {
     "end_time": "2025-06-11T06:09:53.214542Z",
     "start_time": "2025-06-11T06:09:41.184720Z"
    }
   },
   "cell_type": "code",
   "source": [
    "# Define the order number condition\n",
    "order_number_condition = \"Ask the order number if the user submitted a query about an order without it's number.\"\n",
    "\n",
    "# Define the technical issue condition\n",
    "technical_issue_condition = \"If the user reports a technical issue be emphatic using sentences like:'I'm sorry to hear about your issue with...'.\"\n",
    "\n",
    "# Create the refined system prompt\n",
    "refined_system_prompt = system_prompt + order_number_condition + technical_issue_condition\n",
    "\n",
    "user_prompt = \"My new headphones aren't connecting to my device\"\n",
    "response = get_response(messages=[\n",
    "    Message(role=\"system\", content=refined_system_prompt),\n",
    "    Message(role=\"user\", content=user_prompt)\n",
    "])\n",
    "print(f\"User tech issue: {user_prompt}\")\n",
    "print(response)\n",
    "print(\"\\n\\n\")\n",
    "\n",
    "user_prompt = \"Can you help me tracking my order?\"\n",
    "response = get_response(messages=[\n",
    "    Message(role=\"system\", content=user_prompt),\n",
    "    Message(role=\"user\", content=user_prompt)\n",
    "])\n",
    "print(f\"User asking about order: {user_prompt}\")\n",
    "print(response)\n",
    "print(\"\\n\\n\")"
   ],
   "id": "6aa8d821acf1bd91",
   "outputs": [
    {
     "name": "stdout",
     "output_type": "stream",
     "text": [
      "User tech issue: My new headphones aren't connecting to my device\n",
      "I'm sorry to hear about your issue with your new headphones. Let's try to resolve that. Here are a few steps you can follow to troubleshoot the connection:\n",
      "\n",
      "1. **Ensure Bluetooth is Enabled**: Make sure Bluetooth is turned on for the device you are trying to connect to.\n",
      "\n",
      "2. **Check Headphone Pairing Mode**: Put your headphones in pairing mode. This usually involves holding down the power button or a specific pairing button until you see a flashing light.\n",
      "\n",
      "3. **Forget and Re-Pair**: If your headphones have been paired before, try forgetting the device in your Bluetooth settings and then attempt to pair again.\n",
      "\n",
      "4. **Restart Devices**: Sometimes, simply restarting your headphones and the device can help establish a connection.\n",
      "\n",
      "5. **Check Battery Levels**: Ensure that both your headphones and the device you’re connecting to are charged.\n",
      "\n",
      "If you've tried these steps and are still having trouble, please let me know the make and model of your headphones, and I'll do my best to assist you further!\n",
      "\n",
      "\n",
      "\n",
      "User asking about order: Can you help me tracking my order?\n",
      "I can’t track orders directly, but I can help you with general steps on how to track your order. Usually, you can follow these steps:\n",
      "\n",
      "1. **Check Your Email**: Look for an order confirmation email. It often contains a tracking number and a link to track your order.\n",
      "\n",
      "2. **Visit the Retailer’s Website**: Go to the website where you made the purchase. Most sites have a \"Track Order\" option in their menu.\n",
      "\n",
      "3. **Log into Your Account**: If you have an account with the retailer, log in and check your order history for tracking information.\n",
      "\n",
      "4. **Use the Tracking Number**: If you have a tracking number, you can enter it on the shipping carrier's website (like UPS, FedEx, USPS, etc.) to see the status of your shipment.\n",
      "\n",
      "5. **Contact Customer Service**: If you’re still having trouble, consider reaching out to the retailer’s customer service for assistance.\n",
      "\n",
      "If you provide me with the retailer's name, I can offer more specific advice!\n",
      "\n",
      "\n",
      "\n"
     ]
    }
   ],
   "execution_count": 8
  }
 ],
 "metadata": {
  "kernelspec": {
   "display_name": "Python 3",
   "language": "python",
   "name": "python3"
  },
  "language_info": {
   "codemirror_mode": {
    "name": "ipython",
    "version": 2
   },
   "file_extension": ".py",
   "mimetype": "text/x-python",
   "name": "python",
   "nbconvert_exporter": "python",
   "pygments_lexer": "ipython2",
   "version": "2.7.6"
  }
 },
 "nbformat": 4,
 "nbformat_minor": 5
}
