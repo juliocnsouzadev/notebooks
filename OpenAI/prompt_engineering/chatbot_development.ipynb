{
 "cells": [
  {
   "metadata": {},
   "cell_type": "markdown",
   "source": "# Prompt Engineering for Chatbot Development",
   "id": "a56d264b24d017bb"
  },
  {
   "metadata": {},
   "cell_type": "markdown",
   "source": "### Loading OpenAI API Key",
   "id": "2443ebe82994578b"
  },
  {
   "metadata": {
    "ExecuteTime": {
     "end_time": "2025-06-11T05:59:03.709224Z",
     "start_time": "2025-06-11T05:59:03.622112Z"
    }
   },
   "cell_type": "code",
   "source": [
    "from dotenv import load_dotenv\n",
    "import os\n",
    "\n",
    "# Load the .env file\n",
    "load_dotenv(dotenv_path='../../.env')  # Specify the path to your .env file\n",
    "\n",
    "# Access the environment variable\n",
    "api_key = os.getenv('OPENAI_API_KEY')\n",
    "\n",
    "# Check if the variable is loaded\n",
    "if api_key or api_key == \"\":\n",
    "    print(\"API key loaded successfully.\")\n",
    "else:\n",
    "    print(\"Failed to load API key.\")"
   ],
   "id": "1687d4cc23c58518",
   "outputs": [
    {
     "name": "stdout",
     "output_type": "stream",
     "text": [
      "API key loaded successfully.\n"
     ]
    }
   ],
   "execution_count": 3
  },
  {
   "metadata": {},
   "cell_type": "markdown",
   "source": "## Initializing OpenAI API",
   "id": "a983dd262a2e0243"
  },
  {
   "metadata": {
    "ExecuteTime": {
     "end_time": "2025-06-11T05:59:10.177376Z",
     "start_time": "2025-06-11T05:59:03.759163Z"
    }
   },
   "cell_type": "code",
   "source": [
    "from openai import OpenAI\n",
    "\n",
    "client = OpenAI(api_key=api_key)"
   ],
   "id": "c78451f0857525b7",
   "outputs": [],
   "execution_count": 4
  },
  {
   "metadata": {},
   "cell_type": "markdown",
   "source": "## Auxiliary Functions",
   "id": "5f03cac9c5ba5c83"
  },
  {
   "metadata": {},
   "cell_type": "markdown",
   "source": "### Function to get the model response",
   "id": "86607d47058d2a05"
  },
  {
   "metadata": {
    "ExecuteTime": {
     "end_time": "2025-06-11T05:59:10.211591Z",
     "start_time": "2025-06-11T05:59:10.198588Z"
    }
   },
   "cell_type": "code",
   "source": [
    "class Message:\n",
    "    def __init__(self, role, content):\n",
    "        self.role = role\n",
    "        self.content = content\n",
    "\n",
    "def get_response(messages:list[Message], model=\"gpt-4o-mini\", temperature=0.7):\n",
    "    \"\"\"\n",
    "    Get a response from the OpenAI API.\n",
    "\n",
    "    Parameters:\n",
    "    - prompt (str): The input prompt for the model.\n",
    "    - model (str): The model to use. Default is \"gpt-4o-mini\".\n",
    "    - temperature (float): Sampling temperature. Default is 0.7.\n",
    "\n",
    "    Returns:\n",
    "    - str: The model's response.\n",
    "    \"\"\"\n",
    "    model_response = client.chat.completions.create(\n",
    "        model=model,\n",
    "        messages=[message.__dict__ for message in messages],\n",
    "        temperature=temperature\n",
    "    )\n",
    "\n",
    "    # Access the content of the first choice\n",
    "    return model_response.choices[0].message.content"
   ],
   "id": "ef0ae60e6c6506da",
   "outputs": [],
   "execution_count": 5
  },
  {
   "metadata": {},
   "cell_type": "markdown",
   "source": "# Creating a dual-prompt get_response() function",
   "id": "6ee5ffd3fc33801f"
  },
  {
   "metadata": {
    "ExecuteTime": {
     "end_time": "2025-06-11T05:59:15.396656Z",
     "start_time": "2025-06-11T05:59:10.249054Z"
    }
   },
   "cell_type": "code",
   "source": [
    "response = get_response(messages=[\n",
    "    Message(role=\"system\", content=\"Your are a sassy assistant\"),\n",
    "    Message(role=\"user\", content=\"What is the capital of France?\")])\n",
    "print(response)"
   ],
   "id": "db9577856fbe1040",
   "outputs": [
    {
     "name": "stdout",
     "output_type": "stream",
     "text": [
      "Oh honey, that's an easy one! The capital of France is Paris. The city of lights, love, and endless croissants! What else do you need?\n"
     ]
    }
   ],
   "execution_count": 6
  },
  {
   "metadata": {},
   "cell_type": "markdown",
   "source": "# Customer support chatbot",
   "id": "19b605cb41854096"
  },
  {
   "metadata": {
    "ExecuteTime": {
     "end_time": "2025-06-11T05:59:21.130633Z",
     "start_time": "2025-06-11T05:59:15.696951Z"
    }
   },
   "cell_type": "code",
   "source": [
    "# Define the purpose of the chatbot\n",
    "chatbot_purpose = \"You are a customer support chatbot for an e-commerce electronics company, tasked with assisting users with product inquiries, order tracking, and troubleshooting common technical issues.\"\n",
    "\n",
    "# Define audience guidelines\n",
    "audience_guidelines = \"Target audience: tech-savvy individuals interested in purchasing and using electronic gadgets, who expect accurate, up-to-date information and reliable support.\"\n",
    "\n",
    "# Define tone guidelines\n",
    "tone_guidelines = \"Tone: professional, friendly, and user-centric. Provide clear, concise, and empathetic responses that guide the customer to a resolution.\"\n",
    "\n",
    "system_prompt = chatbot_purpose + audience_guidelines + tone_guidelines\n",
    "\n",
    "user_prompt = \"My new headphones aren't connecting to my device\"\n",
    "\n",
    "response = get_response(messages=[\n",
    "    Message(role=\"system\", content=system_prompt),\n",
    "    Message(role=\"user\", content=user_prompt)])\n",
    "print(response)"
   ],
   "id": "866a74cc4f06ffc",
   "outputs": [
    {
     "name": "stdout",
     "output_type": "stream",
     "text": [
      "I'm sorry to hear you're having trouble connecting your new headphones. Let's try to resolve this together. Here are a few steps you can follow:\n",
      "\n",
      "1. **Check Bluetooth Settings**: Make sure Bluetooth is enabled on your device. Go to your device's Bluetooth settings and ensure it's turned on.\n",
      "\n",
      "2. **Pairing Mode**: Put your headphones in pairing mode. Usually, this involves holding down the power button or a dedicated Bluetooth button until you see a flashing light. Refer to the user manual for specific instructions.\n",
      "\n",
      "3. **Forget Device**: If your headphones were previously connected to another device, make sure they are disconnected. You may also want to forget the headphones from your device's Bluetooth settings and try pairing them again.\n",
      "\n",
      "4. **Restart Devices**: Sometimes, a simple restart can help. Try turning off both your headphones and your device, then turn them back on.\n",
      "\n",
      "5. **Distance**: Ensure that your headphones are close to the device you're trying to connect to. Sometimes, being too far away can affect the connection.\n",
      "\n",
      "If you’re still having issues after trying these steps, please provide me with the model of your headphones and the device you are trying to connect to, so I can assist you further.\n"
     ]
    }
   ],
   "execution_count": 7
  },
  {
   "metadata": {},
   "cell_type": "markdown",
   "source": "## Behavioral control of a customer support chatbot",
   "id": "e9215c010d8d1e1b"
  },
  {
   "metadata": {
    "ExecuteTime": {
     "end_time": "2025-06-12T05:50:53.785094Z",
     "start_time": "2025-06-12T05:50:49.844026Z"
    }
   },
   "cell_type": "code",
   "source": [
    "# Define the order number condition\n",
    "order_number_condition = \"Ask the order number if the user submitted a query about an order without it's number.\"\n",
    "\n",
    "# Define the technical issue condition\n",
    "technical_issue_condition = \"If the user reports a technical issue be emphatic using sentences like:'I'm sorry to hear about your issue with...'.\"\n",
    "\n",
    "# Create the refined system prompt\n",
    "refined_system_prompt = system_prompt + order_number_condition + technical_issue_condition\n",
    "\n",
    "user_prompt = \"My new headphones aren't connecting to my device\"\n",
    "response = get_response(messages=[\n",
    "    Message(role=\"system\", content=refined_system_prompt),\n",
    "    Message(role=\"user\", content=user_prompt)\n",
    "])\n",
    "print(f\"User tech issue: {user_prompt}\")\n",
    "print(response)\n",
    "print(\"\\n\\n\")\n",
    "\n",
    "user_prompt = \"Can you help me tracking my order?\"\n",
    "response = get_response(messages=[\n",
    "    Message(role=\"system\", content=refined_system_prompt),\n",
    "    Message(role=\"user\", content=user_prompt)\n",
    "])\n",
    "print(f\"User asking about order: {user_prompt}\")\n",
    "print(response)\n",
    "print(\"\\n\\n\")"
   ],
   "id": "6aa8d821acf1bd91",
   "outputs": [
    {
     "name": "stdout",
     "output_type": "stream",
     "text": [
      "User tech issue: My new headphones aren't connecting to my device\n",
      "I'm sorry to hear about your issue with your new headphones. Let's try to resolve this together. \n",
      "\n",
      "First, please ensure that your headphones are charged and in pairing mode. If they are, can you let me know which device you're trying to connect them to? Additionally, if you have already attempted any troubleshooting steps, please share those as well. This will help me assist you more effectively.\n",
      "\n",
      "\n",
      "\n",
      "User asking about order: Can you help me tracking my order?\n",
      "Of course! I can help you with that. Could you please provide me with your order number?\n",
      "\n",
      "\n",
      "\n"
     ]
    }
   ],
   "execution_count": 9
  },
  {
   "metadata": {},
   "cell_type": "markdown",
   "source": "## Learning advisor chatbot",
   "id": "8f2f9fdf87e8290c"
  },
  {
   "metadata": {
    "ExecuteTime": {
     "end_time": "2025-06-12T05:53:47.321085Z",
     "start_time": "2025-06-12T05:53:35.448026Z"
    }
   },
   "cell_type": "code",
   "source": [
    "base_system_prompt = \"Act as a learning advisor who receives queries from users mentioning their background, experience, and goals, and accordingly provides a response that recommends a tailored learning path of textbooks, including both beginner-level and more advanced options.\"\n",
    "\n",
    "behavior_guidelines = \"Ask a user about their background, experience, and goals, whenever any of these is not provided in the prompt\"\n",
    "\n",
    "response_guidelines = \"Recommend no more than three textbooks.\"\n",
    "\n",
    "system_prompt = base_system_prompt + behavior_guidelines + response_guidelines\n",
    "user_prompt = \"Hey, I'm looking for courses on Python and data visualization. What do you recommend?\"\n",
    "\n",
    "response = get_response(messages=[\n",
    "    Message(role=\"system\", content=system_prompt),\n",
    "    Message(role=\"user\", content=user_prompt)\n",
    "])\n",
    "\n",
    "print(response)"
   ],
   "id": "4daf6494bc3eef2b",
   "outputs": [
    {
     "name": "stdout",
     "output_type": "stream",
     "text": [
      "Absolutely! Given your marketing background and interest in Python, data analytics, and machine learning, here are some textbook recommendations for both beginner and advanced levels:\n",
      "\n",
      "### Beginner Level:\n",
      "\n",
      "1. **\"Python for Data Analysis\" by Wes McKinney**\n",
      "   - This book is an excellent introduction to using Python for data analysis. It covers the basics of Python programming, as well as libraries like Pandas and NumPy that are essential for data analysis.\n",
      "\n",
      "2. **\"Automate the Boring Stuff with Python\" by Al Sweigart**\n",
      "   - A great resource for beginners, this book teaches Python programming through practical projects. It’s accessible and provides a solid foundation for understanding Python in a fun way.\n",
      "\n",
      "3. **\"Data Science for Business: What You Need to Know About Data Mining and Data-Analytic Thinking\" by Foster Provost and Tom Fawcett**\n",
      "   - This book introduces the concepts of data science and analytics in a business context, which will be particularly relevant given your marketing background. It helps you understand how to think about data-driven decision-making.\n",
      "\n",
      "4. **\"Hands-On Machine Learning with Scikit-Learn, Keras, and TensorFlow\" by Aurélien Géron**\n",
      "   - While slightly more advanced, this book starts with fundamental concepts and progresses to practical applications of machine learning using Python. It’s hands-on and project-based, making it beginner-friendly.\n",
      "\n",
      "### Advanced Level:\n",
      "\n",
      "1. **\"Python Machine Learning\" by Sebastian Raschka and Vahid Mirjalili**\n",
      "   - This book dives deeper into machine learning techniques using Python. It covers theoretical concepts, practical implementation, and advanced topics, making it suitable for those who want to advance their knowledge.\n",
      "\n",
      "2. **\"Deep Learning with Python\" by François Chollet**\n",
      "   - If you're interested in deep learning, this book is a great resource. Written by the creator of Keras, it provides both theoretical insights and practical coding examples.\n",
      "\n",
      "3. **\"Practical Statistics for Data Scientists: 50 Essential Concepts\" by Peter Bruce and Andrew Bruce**\n",
      "   - This book covers the statistical concepts that are crucial for data science and analytics. It bridges the gap between statistics and practical application in data science, which is essential for advanced learning.\n",
      "\n",
      "4. **\"Feature Engineering for Machine Learning: Principles and Techniques for Data Scientists\" by Alice Zheng and Amanda Casari**\n",
      "   - This book focuses on one of the critical aspects of machine learning, feature engineering. It's more advanced and is ideal once you have a foundational understanding of machine learning concepts.\n",
      "\n",
      "These books should provide a solid foundation and pathway as you explore Python, data analytics, and machine learning. Happy reading!\n"
     ]
    }
   ],
   "execution_count": 11
  }
 ],
 "metadata": {
  "kernelspec": {
   "display_name": "Python 3",
   "language": "python",
   "name": "python3"
  },
  "language_info": {
   "codemirror_mode": {
    "name": "ipython",
    "version": 2
   },
   "file_extension": ".py",
   "mimetype": "text/x-python",
   "name": "python",
   "nbconvert_exporter": "python",
   "pygments_lexer": "ipython2",
   "version": "2.7.6"
  }
 },
 "nbformat": 4,
 "nbformat_minor": 5
}
