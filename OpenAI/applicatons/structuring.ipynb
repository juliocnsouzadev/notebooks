{
 "cells": [
  {
   "metadata": {},
   "cell_type": "markdown",
   "source": "# Structuring E2E Applications",
   "id": "a56d264b24d017bb"
  },
  {
   "metadata": {},
   "cell_type": "markdown",
   "source": "### Loading OpenAI API Key",
   "id": "2443ebe82994578b"
  },
  {
   "metadata": {
    "ExecuteTime": {
     "end_time": "2025-07-15T05:59:55.030947Z",
     "start_time": "2025-07-15T05:59:55.022113Z"
    }
   },
   "cell_type": "code",
   "source": [
    "from dotenv import load_dotenv\n",
    "import os\n",
    "\n",
    "# Load the .env file\n",
    "load_dotenv(dotenv_path='../../.env')  # Specify the path to your .env file\n",
    "\n",
    "# Access the environment variable\n",
    "api_key = os.getenv('OPENAI_API_KEY')\n",
    "\n",
    "# Check if the variable is loaded\n",
    "if api_key or api_key == \"\":\n",
    "    print(\"API key loaded successfully.\")\n",
    "else:\n",
    "    print(\"Failed to load API key.\")"
   ],
   "id": "1687d4cc23c58518",
   "outputs": [
    {
     "name": "stdout",
     "output_type": "stream",
     "text": [
      "API key loaded successfully.\n"
     ]
    }
   ],
   "execution_count": 2
  },
  {
   "metadata": {},
   "cell_type": "markdown",
   "source": "## Initializing OpenAI API",
   "id": "a983dd262a2e0243"
  },
  {
   "metadata": {
    "ExecuteTime": {
     "end_time": "2025-07-15T06:00:00.085161Z",
     "start_time": "2025-07-15T05:59:59.873287Z"
    }
   },
   "cell_type": "code",
   "source": [
    "from openai import OpenAI\n",
    "\n",
    "client = OpenAI(api_key=api_key)"
   ],
   "id": "c78451f0857525b7",
   "outputs": [],
   "execution_count": 3
  },
  {
   "metadata": {},
   "cell_type": "markdown",
   "source": "## Auxiliary Functions",
   "id": "5f03cac9c5ba5c83"
  },
  {
   "metadata": {},
   "cell_type": "markdown",
   "source": "### Function to get the model response",
   "id": "86607d47058d2a05"
  },
  {
   "metadata": {
    "ExecuteTime": {
     "end_time": "2025-07-15T06:03:56.960626Z",
     "start_time": "2025-07-15T06:03:56.956618Z"
    }
   },
   "cell_type": "code",
   "source": [
    "class Message:\n",
    "    def __init__(self, role, content):\n",
    "        self.role = role\n",
    "        self.content = content\n",
    "\n",
    "def get_response(messages:list[Message], model=\"gpt-4o-mini\", temperature=0.7):\n",
    "    \"\"\"\n",
    "    Get a response from the OpenAI API.\n",
    "\n",
    "    Parameters:\n",
    "    - prompt (str): The input prompt for the model.\n",
    "    - model (str): The model to use.\n",
    "    - temperature (float): Sampling temperature. Default is 0.7.\n",
    "\n",
    "    Returns:\n",
    "    - str: The model's response.\n",
    "    \"\"\"\n",
    "    model_response = client.chat.completions.create(\n",
    "        model=model,\n",
    "        messages=[message.__dict__ for message in messages],\n",
    "        temperature=temperature,\n",
    "        response_format={ \"type\": \"json_object\" }\n",
    "    )\n",
    "    return model_response.choices[0].message.content"
   ],
   "id": "ef0ae60e6c6506da",
   "outputs": [],
   "execution_count": 5
  },
  {
   "metadata": {},
   "cell_type": "markdown",
   "source": "### Example",
   "id": "6ee5ffd3fc33801f"
  },
  {
   "metadata": {
    "ExecuteTime": {
     "end_time": "2025-07-15T06:06:15.732376Z",
     "start_time": "2025-07-15T06:06:11.730648Z"
    }
   },
   "cell_type": "code",
   "source": [
    "books = \"The Great Gatsby, To Kill a Mockingbird, 1984, Pride and Prejudice, The Catcher in the Rye\"\n",
    "prompt = f\"For each book in {books} find the author and the year of publication, and return the results in a JSON format.\"\n",
    "messages = [Message(role=\"user\", content=prompt)]\n",
    "response = get_response(messages=messages)\n",
    "print(f\"Prompt:\\n{prompt}\")\n",
    "print(f\"\\nResponse:\\n{response}\")"
   ],
   "id": "4304c3399bd64b72",
   "outputs": [
    {
     "name": "stdout",
     "output_type": "stream",
     "text": [
      "Prompt:\n",
      "For each book in The Great Gatsby, To Kill a Mockingbird, 1984, Pride and Prejudice, The Catcher in the Rye find the author and the year of publication, and return the results in a JSON format.\n",
      "\n",
      "Response:\n",
      "{\"books\": [\n",
      "    {\n",
      "        \"title\": \"The Great Gatsby\",\n",
      "        \"author\": \"F. Scott Fitzgerald\",\n",
      "        \"year_of_publication\": 1925\n",
      "    },\n",
      "    {\n",
      "        \"title\": \"To Kill a Mockingbird\",\n",
      "        \"author\": \"Harper Lee\",\n",
      "        \"year_of_publication\": 1960\n",
      "    },\n",
      "    {\n",
      "        \"title\": \"1984\",\n",
      "        \"author\": \"George Orwell\",\n",
      "        \"year_of_publication\": 1949\n",
      "    },\n",
      "    {\n",
      "        \"title\": \"Pride and Prejudice\",\n",
      "        \"author\": \"Jane Austen\",\n",
      "        \"year_of_publication\": 1813\n",
      "    },\n",
      "    {\n",
      "        \"title\": \"The Catcher in the Rye\",\n",
      "        \"author\": \"J.D. Salinger\",\n",
      "        \"year_of_publication\": 1951\n",
      "    }\n",
      "]}\n"
     ]
    }
   ],
   "execution_count": 6
  }
 ],
 "metadata": {
  "kernelspec": {
   "display_name": "Python 3",
   "language": "python",
   "name": "python3"
  },
  "language_info": {
   "codemirror_mode": {
    "name": "ipython",
    "version": 2
   },
   "file_extension": ".py",
   "mimetype": "text/x-python",
   "name": "python",
   "nbconvert_exporter": "python",
   "pygments_lexer": "ipython2",
   "version": "2.7.6"
  }
 },
 "nbformat": 4,
 "nbformat_minor": 5
}
