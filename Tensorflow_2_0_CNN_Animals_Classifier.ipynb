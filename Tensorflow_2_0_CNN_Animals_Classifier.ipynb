{
  "nbformat": 4,
  "nbformat_minor": 0,
  "metadata": {
    "colab": {
      "name": "Tensorflow 2.0: CNN - Animals Classifier",
      "provenance": [],
      "collapsed_sections": [],
      "authorship_tag": "ABX9TyOa+ra61ZC30EhRUoK91eGN",
      "include_colab_link": true
    },
    "kernelspec": {
      "name": "python3",
      "display_name": "Python 3"
    },
    "accelerator": "TPU"
  },
  "cells": [
    {
      "cell_type": "markdown",
      "metadata": {
        "id": "view-in-github",
        "colab_type": "text"
      },
      "source": [
        "<a href=\"https://colab.research.google.com/github/juliocnsouzadev/notebooks/blob/develop/Tensorflow_2_0_CNN_Animals_Classifier.ipynb\" target=\"_parent\"><img src=\"https://colab.research.google.com/assets/colab-badge.svg\" alt=\"Open In Colab\"/></a>"
      ]
    },
    {
      "cell_type": "markdown",
      "metadata": {
        "id": "iTYk-0EdutTA"
      },
      "source": [
        "# Cow vs Horse Classifier "
      ]
    },
    {
      "cell_type": "markdown",
      "metadata": {
        "id": "SuB_Hu4svEml"
      },
      "source": [
        "## Import Libs"
      ]
    },
    {
      "cell_type": "code",
      "metadata": {
        "id": "P1UdD2g9NHGn"
      },
      "source": [
        "import numpy as np\n",
        "import tensorflow as tf\n",
        "from keras.preprocessing import image\n",
        "from google.colab import drive\n",
        "import glob"
      ],
      "execution_count": null,
      "outputs": []
    },
    {
      "cell_type": "code",
      "metadata": {
        "id": "BBMBeW8KHbct"
      },
      "source": [
        "tf.__version__"
      ],
      "execution_count": null,
      "outputs": []
    },
    {
      "cell_type": "code",
      "metadata": {
        "id": "EZcdBctUD6D6"
      },
      "source": [
        "drive.mount('/content/drive')"
      ],
      "execution_count": null,
      "outputs": []
    },
    {
      "cell_type": "markdown",
      "metadata": {
        "id": "XLfPDCjivPJ8"
      },
      "source": [
        "## Preprocessing Data"
      ]
    },
    {
      "cell_type": "markdown",
      "metadata": {
        "id": "WtNqejES2ko6"
      },
      "source": [
        "### Definitions"
      ]
    },
    {
      "cell_type": "code",
      "metadata": {
        "id": "9HEvjP40lx16"
      },
      "source": [
        "rescale_default = 1./255\n",
        "shear_range_default=0.2\n",
        "zoom_range_default=0.2\n",
        "target_size_default=(64, 64)\n",
        "batch_size_default=32\n",
        "class_mode_default='binary'\n",
        "input_shape_default = [target_size_default[0], target_size_default[1], 3]\n",
        "main_path = '/content/drive/My Drive/Data Science/datasets/cows-and-horses'\n",
        "train_folder = main_path + '/train'\n",
        "test_folder = main_path + '/test'\n",
        "validaton_folder = main_path + '/validation'\n",
        "epochs_default = 25"
      ],
      "execution_count": null,
      "outputs": []
    },
    {
      "cell_type": "code",
      "metadata": {
        "id": "wAdJPs8IvS-Q"
      },
      "source": [
        "def preprocess():\n",
        "  train_datagen = image.ImageDataGenerator(\n",
        "          rescale=rescale_default,\n",
        "          shear_range= shear_range_default,\n",
        "          zoom_range=zoom_range_default,\n",
        "          horizontal_flip=True)\n",
        "  train_set = train_datagen.flow_from_directory(\n",
        "          train_folder,\n",
        "          target_size=target_size_default,\n",
        "          batch_size=batch_size_default,\n",
        "          class_mode=class_mode_default)\n",
        "  \n",
        "  test_datagen = image.ImageDataGenerator(rescale=rescale_default)\n",
        "  test_set = test_datagen.flow_from_directory(\n",
        "        test_folder,\n",
        "        target_size=target_size_default,\n",
        "        batch_size=batch_size_default,\n",
        "        class_mode=class_mode_default)\n",
        "  return train_set, test_set"
      ],
      "execution_count": null,
      "outputs": []
    },
    {
      "cell_type": "markdown",
      "metadata": {
        "id": "FrbrH1D-3bWC"
      },
      "source": [
        "### Get Test And Train Sets"
      ]
    },
    {
      "cell_type": "code",
      "metadata": {
        "id": "AA9sZBZXLgFU"
      },
      "source": [
        "test_set, train_set = preprocess()"
      ],
      "execution_count": null,
      "outputs": []
    },
    {
      "cell_type": "markdown",
      "metadata": {
        "id": "7PQAItbCvglE"
      },
      "source": [
        "## Init Model and Layers"
      ]
    },
    {
      "cell_type": "markdown",
      "metadata": {
        "id": "4wgZHuhE5K9R"
      },
      "source": [
        "### Methods"
      ]
    },
    {
      "cell_type": "code",
      "metadata": {
        "id": "w9T9YiZYvicS"
      },
      "source": [
        "def get_cnn():\n",
        "  cnn = tf.keras.models.Sequential()\n",
        "  return cnn\n",
        "\n",
        "def get_layer(first=False):\n",
        "  if (first):\n",
        "    conv_layer = tf.keras.layers.Conv2D(\n",
        "      filters=32,\n",
        "      kernel_size = 3,\n",
        "      activation = 'relu',\n",
        "      input_shape = input_shape_default,\n",
        "      padding='same'\n",
        "      )\n",
        "    return conv_layer\n",
        "  conv_layer = tf.keras.layers.Conv2D(\n",
        "      filters=64,\n",
        "      kernel_size = 3,\n",
        "      activation = 'relu',\n",
        "      padding='same'\n",
        "      )\n",
        "  return conv_layer\n",
        "\n",
        "def get_pooling():\n",
        "  max_pooling_layer = tf.keras.layers.MaxPool2D(pool_size=(2,2), strides=2, padding='valid')\n",
        "  return max_pooling_layer\n",
        "\n",
        "def flatten(cnn):\n",
        "  cnn.add(tf.keras.layers.Flatten())\n",
        "\n",
        "def add_full_connection(cnn):\n",
        "  outputLayer = tf.keras.layers.Dense(units=128, activation='relu')\n",
        "  cnn.add(outputLayer)\n",
        "\n",
        "def add_output_layer(cnn):\n",
        "  outputLayer = tf.keras.layers.Dense(units=1, activation='sigmoid')\n",
        "  cnn.add(outputLayer)\n",
        "\n",
        "def build_full_model(num_layers=2, shoudl_compile=True):\n",
        "  cnn = get_cnn()\n",
        "  for i in range(num_layers):\n",
        "    first = i == 0\n",
        "    layer = get_layer(first)\n",
        "    pooling = get_pooling()\n",
        "    cnn.add(layer)\n",
        "    cnn.add(pooling)\n",
        "  flatten(cnn)\n",
        "  add_full_connection(cnn)\n",
        "  add_output_layer(cnn)\n",
        "  if shoudl_compile:\n",
        "    cnn.compile(optimizer = 'adam', loss = 'binary_crossentropy', metrics = ['accuracy'])\n",
        "  return cnn\n",
        "\n",
        "def train(cnn, train_set,test_set, epochs):\n",
        "  cnn.fit(x= train_set, validation_data= test_set, epochs=epochs)"
      ],
      "execution_count": null,
      "outputs": []
    },
    {
      "cell_type": "markdown",
      "metadata": {
        "id": "gv13ZLzrwW_1"
      },
      "source": [
        "## Build, Training and Evaluating"
      ]
    },
    {
      "cell_type": "code",
      "metadata": {
        "id": "VLs8LnSfwdCT"
      },
      "source": [
        "cnn = build_full_model(num_layers=3)\n",
        "train(cnn, train_set,test_set, epochs_default)"
      ],
      "execution_count": null,
      "outputs": []
    },
    {
      "cell_type": "markdown",
      "metadata": {
        "id": "szGWKZ70wdvl"
      },
      "source": [
        "## Predictions"
      ]
    },
    {
      "cell_type": "code",
      "metadata": {
        "id": "hxBqoUyowg4K"
      },
      "source": [
        "def predict_item(model, image_path, target_size):\n",
        "  image_predict = image.load_img(image_path, target_size= target_size)\n",
        "  image_predict = image.img_to_array(image_predict)\n",
        "  image_predict = np.expand_dims(image_predict,axis=0)  # Convert single image to a batch.\n",
        "  predictions = model.predict(image_predict)\n",
        "  return predictions\n",
        "\n",
        "def predict_class(train_set, predictions):\n",
        "  indices = train_set.class_indices\n",
        "  reverse_indices = {}\n",
        "  for x, y in indices.items():\n",
        "    reverse_indices[str(y)] = x\n",
        "    idx = int(predictions[0][0])\n",
        "  return reverse_indices[str(idx)]\n",
        "\n",
        "def predict_many(model, train_set, folder_path, target_size, expected_class):\n",
        "  images_paths = glob.glob(folder_path)\n",
        "  predictions_list = []\n",
        "  for image_path in images_paths:\n",
        "    predictions = predict_item(model, image_path, target_size)\n",
        "    class_predicted = predict_class(train_set, predictions)\n",
        "    prediction = {\n",
        "        'expected':expected_class.lower(),\n",
        "        'found': class_predicted.lower(),\n",
        "        'got_it_rigth': expected_class.lower() == class_predicted.lower()\n",
        "        }\n",
        "    predictions_list.append(prediction)\n",
        "  return predictions_list\n",
        "\n",
        "def print_predictions(predictions_list):\n",
        "  rights = filter(lambda item: item['got_it_rigth'] == True, predictions_list)\n",
        "  _percent_right = len(list(rights)) / len(predictions_list)\n",
        "  print(\"% righs {}\".format(_percent_right * 100))\n",
        "  for idx, item in enumerate(predictions_list):\n",
        "    print(\"#{} Expected: {} - Found: {} - Right? {}\".format(idx,item['expected'], item['found'], item['got_it_rigth']))"
      ],
      "execution_count": null,
      "outputs": []
    },
    {
      "cell_type": "code",
      "metadata": {
        "id": "G8aoTBFIP7Tr"
      },
      "source": [
        "validation_cows = validaton_folder + '/cows/*'\n",
        "validation_horses = validaton_folder + '/horses/*'"
      ],
      "execution_count": null,
      "outputs": []
    },
    {
      "cell_type": "code",
      "metadata": {
        "id": "qaXD08RhYw25"
      },
      "source": [
        "cows_result = predict_many(cnn, train_set, validation_cows, target_size_default,'cows')\n",
        "horses_result = predict_many(cnn, train_set, validation_horses, target_size_default,'horses')"
      ],
      "execution_count": null,
      "outputs": []
    },
    {
      "cell_type": "code",
      "metadata": {
        "id": "ZEFX1FfGRMtD"
      },
      "source": [
        "print_predictions(cows_result)"
      ],
      "execution_count": null,
      "outputs": []
    },
    {
      "cell_type": "code",
      "metadata": {
        "id": "NqzPaWTTi78S"
      },
      "source": [
        "print_predictions(horses_result)"
      ],
      "execution_count": null,
      "outputs": []
    },
    {
      "cell_type": "code",
      "metadata": {
        "id": "WeXrlSQCp4bE"
      },
      "source": [
        ""
      ],
      "execution_count": null,
      "outputs": []
    }
  ]
}