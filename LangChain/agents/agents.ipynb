{
 "cells": [
  {
   "metadata": {},
   "cell_type": "markdown",
   "source": "# Agents",
   "id": "fc165702b7ab9f31"
  },
  {
   "metadata": {},
   "cell_type": "markdown",
   "source": "### Loading OpenAI API Key",
   "id": "ca08f45d82470075"
  },
  {
   "metadata": {
    "ExecuteTime": {
     "end_time": "2025-05-24T09:28:51.665205Z",
     "start_time": "2025-05-24T09:28:51.126425Z"
    }
   },
   "cell_type": "code",
   "source": [
    "from dotenv import load_dotenv\n",
    "import os\n",
    "\n",
    "from langchain_core.output_parsers import StrOutputParser\n",
    "\n",
    "# Load the .env file\n",
    "load_dotenv(dotenv_path='../../.env')  # Specify the path to your .env file\n",
    "\n",
    "# Access the environment variable\n",
    "api_key = os.getenv('OPENAI_API_KEY')\n",
    "\n",
    "# Check if the variable is loaded\n",
    "if api_key or api_key == \"\":\n",
    "    print(\"API key loaded successfully.\")\n",
    "else:\n",
    "    print(\"Failed to load API key.\")"
   ],
   "id": "66ce8811ddd1e95d",
   "outputs": [
    {
     "name": "stdout",
     "output_type": "stream",
     "text": [
      "API key loaded successfully.\n"
     ]
    }
   ],
   "execution_count": 1
  },
  {
   "metadata": {},
   "cell_type": "markdown",
   "source": "### Initializing LLM",
   "id": "26e20e34985df861"
  },
  {
   "metadata": {
    "ExecuteTime": {
     "end_time": "2025-05-24T09:28:57.951305Z",
     "start_time": "2025-05-24T09:28:52.134794Z"
    }
   },
   "cell_type": "code",
   "source": [
    "from langchain_openai import ChatOpenAI\n",
    "from langchain_core.messages import AIMessage\n",
    "\n",
    "llm = ChatOpenAI(\n",
    "    model= \"gpt-4o-mini\",\n",
    "    api_key= api_key,\n",
    ")\n",
    "\n",
    "response: AIMessage = llm.invoke(\"What are agents in the scope of LangChain? Are they lik agent Smith from movie Matrix? Please make you response sassy.\")\n",
    "print(response.content)"
   ],
   "id": "1ca8605af0c9ee45",
   "outputs": [
    {
     "name": "stdout",
     "output_type": "stream",
     "text": [
      "Oh honey, if you think agents in LangChain are anything like Agent Smith, you’re about to get a reality check tailor-made for a fabulous digital world! Agents in LangChain aren’t sinister, leather-clad programs trying to eradicate humanity—thank goodness! Instead, they are sophisticated constructs designed to handle tasks, make decisions, and interact with users through natural language processing.\n",
      "\n",
      "Think of them more like your sassy sidekick who’s always got your back, organizing your thoughts, fetching data, and aiding in complex workflows while still managing to crack a joke or two. They operate autonomously by interpreting user intent, executing commands, and even engaging in multi-step actions seamlessly. \n",
      "\n",
      "So, while Agent Smith is busy trying to take over the Matrix, LangChain agents are all about enhancing productivity and giving you that extra sparkle in your tasks! Now, which one would you rather hang out with? I know my pick!✨\n"
     ]
    }
   ],
   "execution_count": 2
  },
  {
   "metadata": {},
   "cell_type": "markdown",
   "source": "## ReAct Agents",
   "id": "2811d8b09c7c3e40"
  },
  {
   "metadata": {
    "ExecuteTime": {
     "end_time": "2025-05-24T09:28:58.034048Z",
     "start_time": "2025-05-24T09:28:58.013921Z"
    }
   },
   "cell_type": "code",
   "source": [
    "import importlib.util\n",
    "\n",
    "# Check if wikipedia is already installed\n",
    "if importlib.util.find_spec(\"wikipedia\") is None:\n",
    "    print(\"Installing wikipedia package...\")\n",
    "    !pip install wikipedia\n",
    "    print(\"Installation complete. You may need to restart the kernel.\")\n",
    "else:\n",
    "    print(\"Wikipedia package is already installed.\")"
   ],
   "id": "f54cb8f8653be8b6",
   "outputs": [
    {
     "name": "stdout",
     "output_type": "stream",
     "text": [
      "Wikipedia package is already installed.\n"
     ]
    }
   ],
   "execution_count": 3
  },
  {
   "metadata": {
    "ExecuteTime": {
     "end_time": "2025-05-24T10:00:22.460090Z",
     "start_time": "2025-05-24T10:00:17.648124Z"
    }
   },
   "cell_type": "code",
   "source": [
    "from langchain.agents import load_tools\n",
    "from langchain.agents import initialize_agent, AgentType, load_tools\n",
    "\n",
    "# Define the tools\n",
    "tools = load_tools([\"wikipedia\"], llm=llm)\n",
    "\n",
    "# Define the agent\n",
    "agent = initialize_agent(\n",
    "    tools=tools,\n",
    "    llm=llm,\n",
    "    agent=AgentType.ZERO_SHOT_REACT_DESCRIPTION,\n",
    "    verbose=True,\n",
    ")\n",
    "\n",
    "# Run the agent\n",
    "result = agent.run(\"How many people live in New York City?\")\n",
    "print(result)"
   ],
   "id": "6806846a11e9db86",
   "outputs": [
    {
     "name": "stdout",
     "output_type": "stream",
     "text": [
      "\n",
      "\n",
      "\u001B[1m> Entering new AgentExecutor chain...\u001B[0m\n",
      "\u001B[32;1m\u001B[1;3mI need to find the current population of New York City. I'll search for the most recent statistics on its population. \n",
      "Action: wikipedia\n",
      "Action Input: \"Population of New York City\"\u001B[0m\n",
      "Observation: \u001B[36;1m\u001B[1;3mPage: Demographics of New York City\n",
      "Summary: New York City is a large and ethnically diverse metropolis. It is the largest city in the United States, and has a long history of international immigration. The New York region continues to be by far the leading metropolitan gateway for legal immigrants admitted into the United States. The city is the geographical and demographic center of both the Northeast megalopolis and the New York metropolitan area, the largest metropolitan area in the U.S. by both population and urban area. With over 20.1 million people in its metropolitan statistical area and 23.5 million in its combined statistical area as of 2020, New York City is one of the world's most populous megacities.\n",
      "The city and its metropolitan area are the premier gateway for legal immigration to the United States. New York City enforces a right-to-shelter law guaranteeing shelter to anyone who needs shelter, regardless of their immigration status; and the city is home to more than 3.2 million residents born outside the U.S., the largest foreign-born population of any city in the world as of 2016.\n",
      "Throughout its history, New York City has been a major point of entry for immigrants; the term \"melting pot\" was coined to describe densely populated immigrant neighborhoods on the Lower East Side. As many as 800 languages are spoken in New York, making it the most linguistically diverse city in the world. English remains the most widely spoken language, although there are areas in the outer boroughs in which up to 25% of people speak English as an alternate language, and/or have limited or no English language fluency. English is least spoken in neighborhoods such as Flushing, Sunset Park, and Corona.\n",
      "New York's two key demographic features are its density and diversity. It is often regarded as one of the most diverse major cities in both the US, and world; with significant populations of European, Caribbean, Latin American, African, Asian and Middle Eastern Americans all having a major presence within the city and its metropolitan area. The city has an extremely high population density of 26,403 people per square mile (10,194/km2), about 10,000 more people per square mile than the next densest large American city, San Francisco. Manhattan's population density is 66,940 people per square mile (25,846/km2). The city has a long tradition of attracting international immigration and Americans seeking careers in certain sectors. As of 2006, New York City has ranked number one for seven consecutive years as the city most U.S. residents would most like to live in or near.\n",
      "\n",
      "Page: Demographic history of New York City\n",
      "Summary: The racial and ethnic history of New York City has varied widely; from its sale to the Dutch by Native American residents, to the modern multi-cultural period.\n",
      "\n",
      "New York City has had a largely white population, and most foreign born immigrants to the city before the end of World War II were from Europe. However, this changed in the decades after World War II, when all of the boroughs became less white, and when immigration from places outside Europe was increased largely due to the Immigration and Nationality Act of 1965.\n",
      "\n",
      "\n",
      "\n",
      "Page: New York City\n",
      "Summary: New York, often called New York City (NYC), is the most populous city in the United States, located at the southern tip of New York State on one of the world's largest natural harbors. The city comprises five boroughs, each coextensive with a respective county. The city is the geographical and demographic center of both the Northeast megalopolis and the New York metropolitan area, the largest metropolitan area in the United States by both population and urban area. New York is a global center of finance and commerce, culture, technology, entertainment and media, academics and scientific output, the arts and fashion, and, as home to the headquarters of the United Nations, international diplomacy.\n",
      "With an estimated population in 2024 of 8,478,072 distributed over 300.46 squa\u001B[0m\n",
      "Thought:\u001B[32;1m\u001B[1;3mI now have the most recent population estimate for New York City in 2024.\n",
      "\n",
      "Final Answer: The estimated population of New York City in 2024 is 8,478,072.\u001B[0m\n",
      "\n",
      "\u001B[1m> Finished chain.\u001B[0m\n",
      "The estimated population of New York City in 2024 is 8,478,072.\n"
     ]
    }
   ],
   "execution_count": 21
  },
  {
   "metadata": {},
   "cell_type": "markdown",
   "source": [
    "### What is going on here? How does the agent above work?\n",
    "\n",
    "When you run that cell you’ll see something like this:\n",
    "\n",
    "> **Entering new AgentExecutor chain…**\n",
    "> I need to find the current population of New York City. I’ll search for the most recent statistics on its population.\n",
    "> **Action:** wikipedia\n",
    "> **Action Input:** “Population of New York City”\n",
    "> **Observation:**\n",
    "> Page: *Demographics of New York City*\n",
    "> Summary: New York City is a large and ethnically diverse metropolis… With over 20.1 million people in its metropolitan statistical area and 23.5 million in its combined statistical area as of 2020, New York City is one of the world’s most populous megacities.\n",
    ">\n",
    "> Page: *Demographic history of New York City*\n",
    "> Summary: The racial and ethnic history of New York City has varied widely…\n",
    ">\n",
    "> Page: *New York City*\n",
    "> Summary: New York, often called New York City (NYC), is the most populous city in the United States… With an estimated population in 2024 of **8,478,072**…\n",
    ">\n",
    "> **Thought:** I now have the most recent population estimate for New York City in 2024.\n",
    "> **Final Answer:** The estimated population of New York City in 2024 is **8,478,072**.\n",
    ">\n",
    "> **Finished chain.**\n",
    "> The estimated population of New York City in 2024 is 8,478,072.\n",
    "\n",
    "---\n",
    "\n",
    "#### In pseudo-code, the agent works like this:\n",
    "\n",
    "```python\n",
    "import openai\n",
    "\n",
    "# 1. Define “tools” as simple functions\n",
    "def wikipedia_search(query: str) -> str:\n",
    "    return wiki_summary_for(query)\n",
    "\n",
    "TOOLS = {\n",
    "    \"wikipedia\": wikipedia_search,\n",
    "}\n",
    "\n",
    "# 2. System prompt explains the ReAct loop\n",
    "SYSTEM = \"\"\"\n",
    "You are a helpful assistant. You have access to these tools:\n",
    "{tool_list}\n",
    "\n",
    "Use this format:\n",
    "  Question: <the user’s question>\n",
    "  Thought: <your reasoning>\n",
    "  Action: <a tool name>\n",
    "  Action Input: <tool argument>\n",
    "  Observation: <tool result>\n",
    "  …repeat Thought/Action/Action Input/Observation…\n",
    "  Final Answer: <your answer>\n",
    "\"\"\".strip()\n",
    "\n",
    "# 3. The driver function\n",
    "def react_agent(question: str) -> str:\n",
    "    messages = [\n",
    "        {\"role\": \"system\", \"content\": SYSTEM.format(tool_list=\", \".join(TOOLS.keys()))},\n",
    "        {\"role\": \"user\",   \"content\": f\"Question: {question}\"}\n",
    "    ]\n",
    "    while True:\n",
    "        # 4. Ask the model\n",
    "        resp = openai.ChatCompletion.create(model=\"gpt-4\", messages=messages)\n",
    "        chunk = resp.choices[0].message.content\n",
    "        messages.append({\"role\": \"assistant\", \"content\": chunk})\n",
    "\n",
    "        # 5. Stop if we have a final answer\n",
    "        if \"Final Answer:\" in chunk:\n",
    "            return chunk.split(\"Final Answer:\")[-1].strip()\n",
    "\n",
    "        # 6. Otherwise, pull out the next action\n",
    "        action_line = find_line(chunk, \"Action:\")\n",
    "        input_line  = find_line(chunk, \"Action Input:\")\n",
    "        tool_name   = action_line.split(\":\", 1)[1].strip()\n",
    "        tool_input  = input_line.split(\":\", 1)[1].strip()\n",
    "\n",
    "        # 7. Call the tool\n",
    "        observation = TOOLS[tool_name](tool_input)\n",
    "\n",
    "        # 8. Feed back the result\n",
    "        messages.append({\"role\": \"assistant\", \"content\": f\"Observation: {observation}\"})\n",
    "\n",
    "# 9. Use it\n",
    "answer = react_agent(\"How many people live in New York City?\")\n",
    "print(answer)\n",
    "```\n",
    "\n",
    "---\n",
    "\n",
    "#### In simple terms\n",
    "\n",
    "1. **Read your question.** “How many people live in New York City?”\n",
    "2. **Think.** Decide you need Wikipedia.\n",
    "3. **Call the tool.** “Action: wikipedia” → lookup “Population of New York City.”\n",
    "4. **Observe the result.** Wikipedia says “8,478,072.”\n",
    "5. **Think again.** You’ve got the data.\n",
    "6. **Answer.** “The estimated population of New York City in 2024 is 8,478,072.”\n",
    "\n",
    "It just repeats that loop—think, pick a tool, look it up, observe, think—until it gives you your final answer.\n"
   ],
   "id": "327ea36aea9917a6"
  },
  {
   "metadata": {},
   "cell_type": "code",
   "outputs": [],
   "execution_count": null,
   "source": "",
   "id": "1b2379821844c639"
  }
 ],
 "metadata": {
  "kernelspec": {
   "display_name": "Python 3",
   "language": "python",
   "name": "python3"
  },
  "language_info": {
   "codemirror_mode": {
    "name": "ipython",
    "version": 2
   },
   "file_extension": ".py",
   "mimetype": "text/x-python",
   "name": "python",
   "nbconvert_exporter": "python",
   "pygments_lexer": "ipython2",
   "version": "2.7.6"
  }
 },
 "nbformat": 4,
 "nbformat_minor": 5
}
