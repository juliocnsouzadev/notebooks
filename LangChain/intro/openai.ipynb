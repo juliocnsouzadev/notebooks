{
 "cells": [
  {
   "metadata": {},
   "cell_type": "markdown",
   "source": "# Introduction LangChain with OpenAI",
   "id": "fc165702b7ab9f31"
  },
  {
   "metadata": {},
   "cell_type": "markdown",
   "source": "### Loading OpenAI API Key",
   "id": "ca08f45d82470075"
  },
  {
   "metadata": {
    "ExecuteTime": {
     "end_time": "2025-05-16T12:52:34.770007Z",
     "start_time": "2025-05-16T12:52:34.738343Z"
    }
   },
   "cell_type": "code",
   "source": [
    "from dotenv import load_dotenv\n",
    "import os\n",
    "\n",
    "# Load the .env file\n",
    "load_dotenv(dotenv_path='../../.env')  # Specify the path to your .env file\n",
    "\n",
    "# Access the environment variable\n",
    "api_key = os.getenv('OPENAI_API_KEY')\n",
    "\n",
    "# Check if the variable is loaded\n",
    "if api_key or api_key == \"\":\n",
    "    print(\"API key loaded successfully.\")\n",
    "else:\n",
    "    print(\"Failed to load API key.\")"
   ],
   "id": "66ce8811ddd1e95d",
   "outputs": [
    {
     "name": "stdout",
     "output_type": "stream",
     "text": [
      "API key loaded successfully.\n"
     ]
    }
   ],
   "execution_count": 1
  }
 ],
 "metadata": {
  "kernelspec": {
   "display_name": "Python 3",
   "language": "python",
   "name": "python3"
  },
  "language_info": {
   "codemirror_mode": {
    "name": "ipython",
    "version": 2
   },
   "file_extension": ".py",
   "mimetype": "text/x-python",
   "name": "python",
   "nbconvert_exporter": "python",
   "pygments_lexer": "ipython2",
   "version": "2.7.6"
  }
 },
 "nbformat": 4,
 "nbformat_minor": 5
}
