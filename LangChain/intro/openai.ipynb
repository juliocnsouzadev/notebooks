{
 "cells": [
  {
   "metadata": {},
   "cell_type": "markdown",
   "source": "# Introduction LangChain with OpenAI",
   "id": "fc165702b7ab9f31"
  },
  {
   "metadata": {},
   "cell_type": "markdown",
   "source": "### Loading OpenAI API Key",
   "id": "ca08f45d82470075"
  },
  {
   "metadata": {
    "ExecuteTime": {
     "end_time": "2025-05-19T05:58:06.637038Z",
     "start_time": "2025-05-19T05:58:06.498431Z"
    }
   },
   "cell_type": "code",
   "source": [
    "from dotenv import load_dotenv\n",
    "import os\n",
    "\n",
    "from langchain_core.output_parsers import StrOutputParser\n",
    "\n",
    "# Load the .env file\n",
    "load_dotenv(dotenv_path='../../.env')  # Specify the path to your .env file\n",
    "\n",
    "# Access the environment variable\n",
    "api_key = os.getenv('OPENAI_API_KEY')\n",
    "\n",
    "# Check if the variable is loaded\n",
    "if api_key or api_key == \"\":\n",
    "    print(\"API key loaded successfully.\")\n",
    "else:\n",
    "    print(\"Failed to load API key.\")"
   ],
   "id": "66ce8811ddd1e95d",
   "outputs": [
    {
     "name": "stdout",
     "output_type": "stream",
     "text": [
      "API key loaded successfully.\n"
     ]
    }
   ],
   "execution_count": 1
  },
  {
   "metadata": {},
   "cell_type": "markdown",
   "source": "### Initializing LLM",
   "id": "26e20e34985df861"
  },
  {
   "metadata": {
    "ExecuteTime": {
     "end_time": "2025-05-19T05:58:19.455231Z",
     "start_time": "2025-05-19T05:58:06.731140Z"
    }
   },
   "cell_type": "code",
   "source": [
    "from langchain_openai import ChatOpenAI\n",
    "from langchain_core.messages import AIMessage\n",
    "\n",
    "llm = ChatOpenAI(\n",
    "    model= \"gpt-4o-mini\",\n",
    "    api_key= api_key,\n",
    ")\n",
    "\n",
    "response: AIMessage = llm.invoke(\"What is LangChain in one sentence like I am 5?\")\n",
    "print(response.content)"
   ],
   "id": "1ca8605af0c9ee45",
   "outputs": [
    {
     "name": "stdout",
     "output_type": "stream",
     "text": [
      "LangChain is like a special tool that helps computers understand and make stories or chat with people using their own words!\n"
     ]
    }
   ],
   "execution_count": 2
  },
  {
   "metadata": {},
   "cell_type": "markdown",
   "source": "## Prompt Templates and Chaining",
   "id": "2811d8b09c7c3e40"
  },
  {
   "metadata": {
    "ExecuteTime": {
     "end_time": "2025-05-19T06:05:15.175416Z",
     "start_time": "2025-05-19T06:05:12.098728Z"
    }
   },
   "cell_type": "code",
   "source": [
    "from langchain_core.prompts import PromptTemplate\n",
    "\n",
    "template = \"You are a book recommender. Recommend a book for {topic}.\"\n",
    "\n",
    "prompt = PromptTemplate.from_template(\n",
    "    template= template,\n",
    ")\n",
    "\n",
    "llm_chain = prompt | llm\n",
    "\n",
    "topic = \"Discrepancies between what is taught in US schools and what is taught in Brazilian schools about Amazon Rainforest\"\n",
    "print(llm_chain.invoke({\"topic\":topic}).content)"
   ],
   "id": "6806846a11e9db86",
   "outputs": [
    {
     "name": "stdout",
     "output_type": "stream",
     "text": [
      "For understanding the discrepancies between what is taught in U.S. schools and Brazilian schools about the Amazon Rainforest, I recommend **\"The Amazon: What Everyone Needs to Know\" by David Hill**. \n",
      "\n",
      "This book provides a comprehensive overview of the Amazon Rainforest, covering its ecological importance, cultural significance, and the various environmental issues it faces. It offers insights into how the Amazon is perceived in different parts of the world and contrasts educational narratives. \n",
      "\n",
      "Additionally, if you're looking for a more academic focus, **\"The Amazon: A Natural History\" by Norman Myers** offers a thorough exploration of the biodiversity and environmental issues of the Amazon, suitable for understanding the content differences in educational contexts.\n",
      "\n",
      "Both books can provide perspective on the geographic, ecological, and socio-economic factors that shape the teaching of the Amazon Rainforest in different educational systems.\n"
     ]
    }
   ],
   "execution_count": 4
  },
  {
   "metadata": {},
   "cell_type": "markdown",
   "source": "## Chat Prompt Templates",
   "id": "70a299e8ee1d6a1d"
  },
  {
   "metadata": {
    "ExecuteTime": {
     "end_time": "2025-05-19T06:11:28.611485Z",
     "start_time": "2025-05-19T06:11:27.978497Z"
    }
   },
   "cell_type": "code",
   "source": [
    "from langchain_core.prompts import ChatPromptTemplate\n",
    "\n",
    "prompt_template = ChatPromptTemplate.from_messages(\n",
    "    [\n",
    "        (\"system\", \"You are a geography expert that returns the colors present in a country's flag.\"),\n",
    "        (\"human\", \"France\"),\n",
    "        (\"ai\", \"blue, white, red\"),\n",
    "        (\"human\", \"{country}\")\n",
    "    ]\n",
    ")\n",
    "\n",
    "llm_chain = prompt_template | llm\n",
    "\n",
    "country = \"Japan\"\n",
    "response = llm_chain.invoke({\"country\": country})\n",
    "print(response.content)"
   ],
   "id": "a0275205c0f25e7a",
   "outputs": [
    {
     "name": "stdout",
     "output_type": "stream",
     "text": [
      "red, white\n"
     ]
    }
   ],
   "execution_count": 5
  },
  {
   "metadata": {},
   "cell_type": "markdown",
   "source": "## Few Shot Prompt Template",
   "id": "6d2850b5ead5d9c7"
  },
  {
   "metadata": {
    "ExecuteTime": {
     "end_time": "2025-05-22T05:58:04.746194Z",
     "start_time": "2025-05-22T05:58:04.145129Z"
    }
   },
   "cell_type": "code",
   "source": [
    "from langchain_core.prompts import PromptTemplate, FewShotPromptTemplate\n",
    "\n",
    "examples = [\n",
    "    {\n",
    "        \"question\": \"What is the capital of France?\",\n",
    "        \"answer\": \"Paris\"\n",
    "    },\n",
    "    {\n",
    "        \"question\": \"What is the capital of Brazil?\",\n",
    "        \"answer\": \"Brasilia\"\n",
    "    },\n",
    "    {\n",
    "        \"question\": \"What is the capital of Japan?\",\n",
    "        \"answer\": \"Tokyo\"\n",
    "    }\n",
    "]\n",
    "\n",
    "example_prompt = PromptTemplate.from_template(\"Question: {question}\\nAnswer: {answer}\")\n",
    "\n",
    "prompt_template = FewShotPromptTemplate(\n",
    "    examples=examples,\n",
    "    example_prompt=example_prompt,\n",
    "    prefix=\"You are a geography expert that returns the capital of a country.\",\n",
    "    suffix=\"\\nQuestion: {question}\\nAnswer:\",\n",
    "    input_variables=[\"question\"],\n",
    ")\n",
    "\n",
    "llm_chain = prompt_template | llm\n",
    "\n",
    "response = llm_chain.invoke({\n",
    "        \"question\": \"What is the capital of Italy?\"\n",
    "    })\n",
    "print(response.content)"
   ],
   "id": "13b0973f5b3844ad",
   "outputs": [
    {
     "name": "stdout",
     "output_type": "stream",
     "text": [
      "Rome\n"
     ]
    }
   ],
   "execution_count": 8
  },
  {
   "metadata": {},
   "cell_type": "markdown",
   "source": "## Sequential Chain Prompt Template",
   "id": "f4b47a44fcf9153b"
  },
  {
   "metadata": {
    "ExecuteTime": {
     "end_time": "2025-05-22T06:16:47.412183Z",
     "start_time": "2025-05-22T06:16:24.161408Z"
    }
   },
   "cell_type": "code",
   "source": [
    "from langchain_core.prompts import PromptTemplate\n",
    "from langchain_core.output_parsers import StrOutputParser\n",
    "\n",
    "# Create a prompt template that takes an input activity\n",
    "# This defines the first prompt that asks for a learning plan based on an activity\n",
    "learning_prompt = PromptTemplate(\n",
    "    input_variables=[\"activity\"],\n",
    "    template=\"I want to learn how to {activity}. Can you suggest how I can learn this step-by-step?\"\n",
    ")\n",
    "\n",
    "# Create a prompt template that places a time constraint on the output\n",
    "# This second prompt will take the output from the first prompt and add a time constraint\n",
    "time_prompt = PromptTemplate(\n",
    "    input_variables=[\"learning_plan\"],\n",
    "    template=\"I only have one week. Can you create a plan to help me hit this goal: {learning_plan}.\"\n",
    ")\n",
    "\n",
    "# Complete the sequential chain with LCEL (LangChain Expression Language)\n",
    "# This creates a pipeline of operations that will execute in sequence\n",
    "seq_chain = (\n",
    "    {\"learning_plan\": learning_prompt | llm | StrOutputParser()}  # First: Pass activity to learning_prompt, send to LLM, parse to string\n",
    "    | time_prompt  # Second: Feed that result into the time_prompt as \"learning_plan\"\n",
    "    | llm  # Third: Send the time-constrained prompt to the LLM\n",
    "    | StrOutputParser()  # Finally: Convert the LLM's response to a string\n",
    ")\n",
    "\n",
    "# Invoke the seq chain with an activity\n",
    "response = seq_chain.invoke({\"activity\": \"play golf\"})\n",
    "print(response)"
   ],
   "id": "2b082b036cae8f0b",
   "outputs": [
    {
     "name": "stdout",
     "output_type": "stream",
     "text": [
      "Here's a focused 7-day plan to help you kickstart your journey into learning how to play golf. Each day encompasses several tasks aimed at ensuring you grasp the basics by the end of the week.\n",
      "\n",
      "### Day 1: Understand the Basics\n",
      "- **Rules & Etiquette**: Spend 30 minutes reading about the basic rules of golf and golf etiquette. Numerous resources are available online, including the USGA website.\n",
      "- **Equipment Knowledge**: Watch a YouTube video or read articles about different types of clubs. Familiarize yourself with drivers, irons, putters, tees, and balls.\n",
      "\n",
      "### Day 2: Get the Right Equipment \n",
      "- **Visit a Golf Store**: Spend time at a local golf shop to look at beginner sets. If possible, get fitted for clubs to ensure they suit your height and swing. \n",
      "- **Purchase Essentials**: Buy at least a half set of clubs (driver, a few irons, and a putter), as well as golf balls, tees, and gloves, while keeping your budget in mind.\n",
      "\n",
      "### Day 3: Take Lessons\n",
      "- **Book a Lesson**: Schedule an introductory lesson with a local golf instructor. Make sure to focus on grip and stance.\n",
      "- **Online Research**: If in-person lessons aren't available, watch beginner golf tutorial videos online (e.g., basics of grip, stance, and swing). Practice what you see in your backyard or a space where you can swing the club safely.\n",
      "\n",
      "### Day 4: Practice Fundamentals \n",
      "- **Grip & Stance**: Dedicate 30 minutes to practicing your grip and stance. Use a mirror or video yourself to check for proper form.\n",
      "- **Short Game Fundamentals**: Spend time practicing putting indoors or in an area with a smooth surface. Try to make at least 10 putts from different distances.\n",
      "\n",
      "### Day 5: Visit the Driving Range\n",
      "- **Driving Range**: Spend at least 1-2 hours at the driving range. Start with wedges to get comfortable, then move to longer clubs like the driver.\n",
      "- **Focus on Different Shots**: Practice hitting a variety of shots, including drives, approach shots, and chips. Aim for a good practice routine to build confidence.\n",
      "\n",
      "### Day 6: Get on the Course\n",
      "- **Play a Short Round**: If possible, play a 9-hole round at a local course. If walking the course isn't an option, seek par-3 courses or golf simulators.\n",
      "- **Play with Others**: Join friends or beginners to experience the course dynamic. Observe how others approach the game, and don’t hesitate to ask questions.\n",
      "\n",
      "### Day 7: Evaluate and Reflect\n",
      "- **Assess Your Performance**: After your time on the course, reflect on your strengths and weaknesses. Identify areas for improvement.\n",
      "- **Goal Setting**: Set specific short-term and long-term goals based on your reflections. This could include improving your putting accuracy or working on a consistent swing.\n",
      "\n",
      "### Ongoing Activities\n",
      "- **Workout Routine**: Dedicate some time weekly to work on flexibility, strength, and balance. Light stretches and core exercises can be beneficial for your golf game.\n",
      "- **Connect with a Golf Community**: Consider joining a golf group or an online forum to engage with others and share tips.\n",
      "\n",
      "Remember, improvement comes with practice and consistent effort, so continue to play and practice even after your first week! Enjoy the journey and the beautiful game of golf!\n"
     ]
    }
   ],
   "execution_count": 16
  }
 ],
 "metadata": {
  "kernelspec": {
   "display_name": "Python 3",
   "language": "python",
   "name": "python3"
  },
  "language_info": {
   "codemirror_mode": {
    "name": "ipython",
    "version": 2
   },
   "file_extension": ".py",
   "mimetype": "text/x-python",
   "name": "python",
   "nbconvert_exporter": "python",
   "pygments_lexer": "ipython2",
   "version": "2.7.6"
  }
 },
 "nbformat": 4,
 "nbformat_minor": 5
}
