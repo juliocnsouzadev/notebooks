{
 "cells": [
  {
   "metadata": {},
   "cell_type": "markdown",
   "source": "# Introduction LangChain with OpenAI",
   "id": "fc165702b7ab9f31"
  },
  {
   "metadata": {},
   "cell_type": "markdown",
   "source": "### Loading OpenAI API Key",
   "id": "ca08f45d82470075"
  },
  {
   "metadata": {
    "ExecuteTime": {
     "end_time": "2025-05-19T05:58:06.637038Z",
     "start_time": "2025-05-19T05:58:06.498431Z"
    }
   },
   "cell_type": "code",
   "source": [
    "from re import template\n",
    "\n",
    "from dotenv import load_dotenv\n",
    "import os\n",
    "\n",
    "# Load the .env file\n",
    "load_dotenv(dotenv_path='../../.env')  # Specify the path to your .env file\n",
    "\n",
    "# Access the environment variable\n",
    "api_key = os.getenv('OPENAI_API_KEY')\n",
    "\n",
    "# Check if the variable is loaded\n",
    "if api_key or api_key == \"\":\n",
    "    print(\"API key loaded successfully.\")\n",
    "else:\n",
    "    print(\"Failed to load API key.\")"
   ],
   "id": "66ce8811ddd1e95d",
   "outputs": [
    {
     "name": "stdout",
     "output_type": "stream",
     "text": [
      "API key loaded successfully.\n"
     ]
    }
   ],
   "execution_count": 1
  },
  {
   "metadata": {},
   "cell_type": "markdown",
   "source": "### Initializing LLM",
   "id": "26e20e34985df861"
  },
  {
   "metadata": {
    "ExecuteTime": {
     "end_time": "2025-05-19T05:58:19.455231Z",
     "start_time": "2025-05-19T05:58:06.731140Z"
    }
   },
   "cell_type": "code",
   "source": [
    "from langchain_openai import ChatOpenAI\n",
    "from langchain_core.messages import AIMessage\n",
    "\n",
    "llm = ChatOpenAI(\n",
    "    model= \"gpt-4o-mini\",\n",
    "    api_key= api_key,\n",
    ")\n",
    "\n",
    "response: AIMessage = llm.invoke(\"What is LangChain in one sentence like I am 5?\")\n",
    "print(response.content)"
   ],
   "id": "1ca8605af0c9ee45",
   "outputs": [
    {
     "name": "stdout",
     "output_type": "stream",
     "text": [
      "LangChain is like a special tool that helps computers understand and make stories or chat with people using their own words!\n"
     ]
    }
   ],
   "execution_count": 2
  },
  {
   "metadata": {},
   "cell_type": "markdown",
   "source": "## Prompt Templates and Chaining",
   "id": "2811d8b09c7c3e40"
  },
  {
   "metadata": {
    "ExecuteTime": {
     "end_time": "2025-05-19T06:05:15.175416Z",
     "start_time": "2025-05-19T06:05:12.098728Z"
    }
   },
   "cell_type": "code",
   "source": [
    "from langchain_core.prompts import PromptTemplate\n",
    "\n",
    "template = \"You are a book recommender. Recommend a book for {topic}.\"\n",
    "\n",
    "prompt = PromptTemplate.from_template(\n",
    "    template= template,\n",
    ")\n",
    "\n",
    "llm_chain = prompt | llm\n",
    "\n",
    "topic = \"Discrepancies between what is taught in US schools and what is taught in Brazilian schools about Amazon Rainforest\"\n",
    "print(llm_chain.invoke({\"topic\":topic}).content)"
   ],
   "id": "6806846a11e9db86",
   "outputs": [
    {
     "name": "stdout",
     "output_type": "stream",
     "text": [
      "For understanding the discrepancies between what is taught in U.S. schools and Brazilian schools about the Amazon Rainforest, I recommend **\"The Amazon: What Everyone Needs to Know\" by David Hill**. \n",
      "\n",
      "This book provides a comprehensive overview of the Amazon Rainforest, covering its ecological importance, cultural significance, and the various environmental issues it faces. It offers insights into how the Amazon is perceived in different parts of the world and contrasts educational narratives. \n",
      "\n",
      "Additionally, if you're looking for a more academic focus, **\"The Amazon: A Natural History\" by Norman Myers** offers a thorough exploration of the biodiversity and environmental issues of the Amazon, suitable for understanding the content differences in educational contexts.\n",
      "\n",
      "Both books can provide perspective on the geographic, ecological, and socio-economic factors that shape the teaching of the Amazon Rainforest in different educational systems.\n"
     ]
    }
   ],
   "execution_count": 4
  },
  {
   "metadata": {},
   "cell_type": "markdown",
   "source": "## Chat Prompt Templates",
   "id": "70a299e8ee1d6a1d"
  },
  {
   "metadata": {
    "ExecuteTime": {
     "end_time": "2025-05-19T06:11:28.611485Z",
     "start_time": "2025-05-19T06:11:27.978497Z"
    }
   },
   "cell_type": "code",
   "source": [
    "from langchain_core.prompts import ChatPromptTemplate\n",
    "\n",
    "prompt_template = ChatPromptTemplate.from_messages(\n",
    "    [\n",
    "        (\"system\", \"You are a geography expert that returns the colors present in a country's flag.\"),\n",
    "        (\"human\", \"France\"),\n",
    "        (\"ai\", \"blue, white, red\"),\n",
    "        (\"human\", \"{country}\")\n",
    "    ]\n",
    ")\n",
    "\n",
    "llm_chain = prompt_template | llm\n",
    "\n",
    "country = \"Japan\"\n",
    "response = llm_chain.invoke({\"country\": country})\n",
    "print(response.content)"
   ],
   "id": "a0275205c0f25e7a",
   "outputs": [
    {
     "name": "stdout",
     "output_type": "stream",
     "text": [
      "red, white\n"
     ]
    }
   ],
   "execution_count": 5
  },
  {
   "metadata": {},
   "cell_type": "markdown",
   "source": "## Few Shot Prompt Template",
   "id": "6d2850b5ead5d9c7"
  },
  {
   "metadata": {
    "ExecuteTime": {
     "end_time": "2025-05-22T05:49:20.869330Z",
     "start_time": "2025-05-22T05:49:18.373377Z"
    }
   },
   "cell_type": "code",
   "source": [
    "from langchain_core.prompts import PromptTemplate, FewShotPromptTemplate\n",
    "examples = [\n",
    "    {\n",
    "        \"question\": \"What is the capital of France?\",\n",
    "        \"answer\": \"Paris\"\n",
    "    },\n",
    "    {\n",
    "        \"question\": \"What is the capital of Brazil?\",\n",
    "        \"answer\": \"Brasilia\"\n",
    "    },\n",
    "    {\n",
    "        \"question\": \"What is the capital of Japan?\",\n",
    "        \"answer\": \"Tokyo\"\n",
    "    }\n",
    "]\n",
    "\n",
    "example_prompt = PromptTemplate.from_template(\"Question: {question}\\nAnswer: {answer}\")\n",
    "\n",
    "prompt_template = FewShotPromptTemplate(\n",
    "    examples=examples,\n",
    "    example_prompt=example_prompt,\n",
    "    prefix=\"You are a geography expert that returns the capital of a country.\",\n",
    "    suffix=\"\\nQuestion: {question}\\nAnswer:\",\n",
    "    input_variables=[\"question\"],\n",
    ")\n",
    "\n",
    "llm_chain = prompt_template | llm\n",
    "\n",
    "response = llm_chain.invoke({\n",
    "        \"question\": \"What is the capital of Italy?\"\n",
    "    })\n",
    "print(response.content)"
   ],
   "id": "13b0973f5b3844ad",
   "outputs": [
    {
     "name": "stdout",
     "output_type": "stream",
     "text": [
      "Rome\n"
     ]
    }
   ],
   "execution_count": 7
  }
 ],
 "metadata": {
  "kernelspec": {
   "display_name": "Python 3",
   "language": "python",
   "name": "python3"
  },
  "language_info": {
   "codemirror_mode": {
    "name": "ipython",
    "version": 2
   },
   "file_extension": ".py",
   "mimetype": "text/x-python",
   "name": "python",
   "nbconvert_exporter": "python",
   "pygments_lexer": "ipython2",
   "version": "2.7.6"
  }
 },
 "nbformat": 4,
 "nbformat_minor": 5
}
