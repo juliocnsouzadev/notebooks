{
  "nbformat": 4,
  "nbformat_minor": 0,
  "metadata": {
    "colab": {
      "name": "Reinforcement Learning for Stock Market Trading",
      "provenance": [],
      "authorship_tag": "ABX9TyPWRcoR5pqQPnY2I26MsExo",
      "include_colab_link": true
    },
    "kernelspec": {
      "name": "python3",
      "display_name": "Python 3"
    },
    "language_info": {
      "name": "python"
    },
    "accelerator": "GPU"
  },
  "cells": [
    {
      "cell_type": "markdown",
      "metadata": {
        "id": "view-in-github",
        "colab_type": "text"
      },
      "source": [
        "<a href=\"https://colab.research.google.com/github/juliocnsouzadev/notebooks/blob/develop/Reinforcement_Learning_for_Stock_Market_Trading.ipynb\" target=\"_parent\"><img src=\"https://colab.research.google.com/assets/colab-badge.svg\" alt=\"Open In Colab\"/></a>"
      ]
    },
    {
      "cell_type": "markdown",
      "metadata": {
        "id": "CLv2sL_5fYU0"
      },
      "source": [
        "# Imports"
      ]
    },
    {
      "cell_type": "code",
      "metadata": {
        "id": "wpE4_2MLfkhP"
      },
      "source": [
        "import math\n",
        "import random\n",
        "import tensorflow as tf\n",
        "import matplotlib.pyplot as plt\n",
        "import pandas_datareader as data_reader\n",
        "\n",
        "from tqdm import tqdm_notebook, tqdm\n",
        "from collections import deque"
      ],
      "execution_count": 2,
      "outputs": []
    },
    {
      "cell_type": "code",
      "metadata": {
        "id": "asRfUOfqfx6L",
        "outputId": "9d16ceb5-9e38-4125-c861-583ac5420231",
        "colab": {
          "base_uri": "https://localhost:8080/",
          "height": 35
        }
      },
      "source": [
        "tf.__version__"
      ],
      "execution_count": 3,
      "outputs": [
        {
          "output_type": "execute_result",
          "data": {
            "application/vnd.google.colaboratory.intrinsic+json": {
              "type": "string"
            },
            "text/plain": [
              "'2.5.0'"
            ]
          },
          "metadata": {
            "tags": []
          },
          "execution_count": 3
        }
      ]
    },
    {
      "cell_type": "markdown",
      "metadata": {
        "id": "1DHIh9iagc2n"
      },
      "source": [
        "# Building the AI Trader"
      ]
    },
    {
      "cell_type": "code",
      "metadata": {
        "id": "buVsVhq3gWt5"
      },
      "source": [
        "class AITrader():\n",
        "\n",
        "    def __init__(self, state_size, action_space=3, module_name=\"AITrader\"):\n",
        "        self.state_size = state_size\n",
        "        self.action_space = action_space\n",
        "        self.memory = deque(maxlen=2000)\n",
        "        self.invetory = []\n",
        "        self.model_name = module_name\n",
        "        self.gamma = 0.95\n",
        "        self.epsilon = 1.0\n",
        "        self.epsilon_final = 0.01\n",
        "        self.epsilon_decay = 0.995\n",
        "        self.model = self.model_builder()\n",
        "\n",
        "    def model_builder(self):\n",
        "        model = tf.keras.models.Sequential()\n",
        "        # hidden layers\n",
        "        model.add(tf.keras.layers.Dense(units=32, activation='relu', input_dim = self.state_size))\n",
        "        model.add(tf.keras.layers.Dense(units=64, activation='relu'))\n",
        "        model.add(tf.keras.layers.Dense(units=128, activation='relu'))\n",
        "        # output layer\n",
        "        model.add(tf.keras.layers.Dense(units=self.action_space, activation='linear'))\n",
        "        # compile model\n",
        "        model.compile(loss='mse', optimizer=tf.keras.optimizers.Adam(lr=0.001))\n",
        "        return model\n",
        "\n",
        "    def trade(self, state):\n",
        "        if random.random() <= self.epsilon:\n",
        "            return random.randrange(self.action_space)\n",
        "        actions = self.model.predict(state)\n",
        "        return np.argmax(actions[0])\n",
        "    \n",
        "    def batch_trade(self, batch_size):\n",
        "        batch = []\n",
        "        for i in range(len(self.memory) - batch_size + 1, len(self.memory)):\n",
        "            batch.append(self.memory[i])\n",
        "        for state, action, reward, next_state, done in batch:\n",
        "            reward = reward\n",
        "            if not done:\n",
        "                reward = reward + self.gamma * np.argmax(self.model.predict(next_state)[0])\n",
        "            target = self.model.predict(state)\n",
        "            target[0][action] = reward\n",
        "            self.model.fit(state, target, epochs=1, verbose=0)\n",
        "            if self.epsilon > self.epsilon_final:\n",
        "                self.epsilon *= self.epsilon_decay\n",
        "\n"
      ],
      "execution_count": null,
      "outputs": []
    }
  ]
}