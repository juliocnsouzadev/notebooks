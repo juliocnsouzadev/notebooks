{
 "cells": [
  {
   "cell_type": "markdown",
   "metadata": {},
   "source": [
    "<h1> Machine Learning using tf.estimator </h1>\n",
    "\n",
    "In this notebook, we will create a machine learning model using tf.estimator and evaluate its performance.  The dataset is rather small (7700 samples), so we can do it all in-memory.  We will also simply pass the raw data in as-is. "
   ]
  },
  {
   "cell_type": "code",
   "execution_count": 1,
   "metadata": {},
   "outputs": [
    {
     "name": "stderr",
     "output_type": "stream",
     "text": [
      "/usr/local/envs/py3env/lib/python3.5/site-packages/h5py/__init__.py:36: FutureWarning: Conversion of the second argument of issubdtype from `float` to `np.floating` is deprecated. In future, it will be treated as `np.float64 == np.dtype(float).type`.\n",
      "  from ._conv import register_converters as _register_converters\n"
     ]
    },
    {
     "name": "stdout",
     "output_type": "stream",
     "text": [
      "1.8.0\n"
     ]
    }
   ],
   "source": [
    "import tensorflow as tf\n",
    "import pandas as pd\n",
    "import numpy as np\n",
    "import shutil\n",
    "\n",
    "print(tf.__version__)"
   ]
  },
  {
   "cell_type": "markdown",
   "metadata": {},
   "source": [
    "Read data created in the previous chapter."
   ]
  },
  {
   "cell_type": "code",
   "execution_count": 2,
   "metadata": {},
   "outputs": [],
   "source": [
    "# In CSV, label is the first column, after the features, followed by the key\n",
    "CSV_COLUMNS = ['fare_amount', 'pickuplon','pickuplat','dropofflon','dropofflat','passengers', 'key']\n",
    "FEATURES = CSV_COLUMNS[1:len(CSV_COLUMNS) - 1]\n",
    "LABEL = CSV_COLUMNS[0]\n",
    "\n",
    "df_train = pd.read_csv('./taxi-train.csv', header = None, names = CSV_COLUMNS)\n",
    "df_valid = pd.read_csv('./taxi-valid.csv', header = None, names = CSV_COLUMNS)"
   ]
  },
  {
   "cell_type": "markdown",
   "metadata": {},
   "source": [
    "<h2> Input function to read from Pandas Dataframe into tf.constant </h2>"
   ]
  },
  {
   "cell_type": "code",
   "execution_count": 3,
   "metadata": {},
   "outputs": [],
   "source": [
    "def make_input_fn(df, num_epochs):\n",
    "  return tf.estimator.inputs.pandas_input_fn(\n",
    "    x = df,\n",
    "    y = df[LABEL],\n",
    "    batch_size = 128,\n",
    "    num_epochs = num_epochs,\n",
    "    shuffle = True,\n",
    "    queue_capacity = 1000,\n",
    "    num_threads = 1\n",
    "  )"
   ]
  },
  {
   "cell_type": "markdown",
   "metadata": {},
   "source": [
    "### Create feature columns for estimator"
   ]
  },
  {
   "cell_type": "code",
   "execution_count": 4,
   "metadata": {},
   "outputs": [],
   "source": [
    "def make_feature_cols():\n",
    "  input_columns = [tf.feature_column.numeric_column(k) for k in FEATURES]\n",
    "  return input_columns"
   ]
  },
  {
   "cell_type": "markdown",
   "metadata": {},
   "source": [
    "<h3> Linear Regression with tf.Estimator framework </h3>"
   ]
  },
  {
   "cell_type": "code",
   "execution_count": 5,
   "metadata": {},
   "outputs": [
    {
     "name": "stdout",
     "output_type": "stream",
     "text": [
      "INFO:tensorflow:Using default config.\n",
      "INFO:tensorflow:Using config: {'_global_id_in_cluster': 0, '_is_chief': True, '_cluster_spec': <tensorflow.python.training.server_lib.ClusterSpec object at 0x7f47df7f8160>, '_save_checkpoints_secs': 600, '_num_ps_replicas': 0, '_master': '', '_save_checkpoints_steps': None, '_evaluation_master': '', '_model_dir': 'taxi_trained', '_keep_checkpoint_every_n_hours': 10000, '_session_config': None, '_task_id': 0, '_keep_checkpoint_max': 5, '_log_step_count_steps': 100, '_save_summary_steps': 100, '_tf_random_seed': None, '_num_worker_replicas': 1, '_task_type': 'worker', '_train_distribute': None, '_service': None}\n",
      "INFO:tensorflow:Calling model_fn.\n",
      "INFO:tensorflow:Done calling model_fn.\n",
      "INFO:tensorflow:Create CheckpointSaverHook.\n",
      "INFO:tensorflow:Graph was finalized.\n",
      "INFO:tensorflow:Running local_init_op.\n",
      "INFO:tensorflow:Done running local_init_op.\n",
      "INFO:tensorflow:Saving checkpoints for 1 into taxi_trained/model.ckpt.\n",
      "INFO:tensorflow:step = 1, loss = 31120.068\n",
      "INFO:tensorflow:global_step/sec: 257.916\n",
      "INFO:tensorflow:step = 101, loss = 12334.805 (0.392 sec)\n",
      "INFO:tensorflow:global_step/sec: 337.349\n",
      "INFO:tensorflow:step = 201, loss = 15109.287 (0.295 sec)\n",
      "INFO:tensorflow:global_step/sec: 342.04\n",
      "INFO:tensorflow:step = 301, loss = 9770.601 (0.293 sec)\n",
      "INFO:tensorflow:global_step/sec: 316.954\n",
      "INFO:tensorflow:step = 401, loss = 12629.662 (0.314 sec)\n",
      "INFO:tensorflow:global_step/sec: 330.619\n",
      "INFO:tensorflow:step = 501, loss = 33480.99 (0.303 sec)\n",
      "INFO:tensorflow:Saving checkpoints for 573 into taxi_trained/model.ckpt.\n",
      "INFO:tensorflow:Loss for final step: 9842.51.\n"
     ]
    },
    {
     "data": {
      "text/plain": [
       "<tensorflow.python.estimator.canned.linear.LinearRegressor at 0x7f47ff5118d0>"
      ]
     },
     "execution_count": 5,
     "metadata": {},
     "output_type": "execute_result"
    }
   ],
   "source": [
    "tf.logging.set_verbosity(tf.logging.INFO)\n",
    "\n",
    "OUTDIR = 'taxi_trained'\n",
    "shutil.rmtree(OUTDIR, ignore_errors = True) # start fresh each time\n",
    "\n",
    "model = tf.estimator.LinearRegressor(\n",
    "      feature_columns = make_feature_cols(), model_dir = OUTDIR)\n",
    "\n",
    "model.train(input_fn = make_input_fn(df_train, num_epochs = 10))"
   ]
  },
  {
   "cell_type": "markdown",
   "metadata": {},
   "source": [
    "Evaluate on the validation data (we should defer using the test data to after we have selected a final model)."
   ]
  },
  {
   "cell_type": "code",
   "execution_count": 6,
   "metadata": {},
   "outputs": [
    {
     "name": "stdout",
     "output_type": "stream",
     "text": [
      "INFO:tensorflow:Calling model_fn.\n",
      "INFO:tensorflow:Done calling model_fn.\n",
      "INFO:tensorflow:Starting evaluation at 2019-09-02-01:30:21\n",
      "INFO:tensorflow:Graph was finalized.\n",
      "INFO:tensorflow:Restoring parameters from taxi_trained/model.ckpt-573\n",
      "INFO:tensorflow:Running local_init_op.\n",
      "INFO:tensorflow:Done running local_init_op.\n",
      "INFO:tensorflow:Finished evaluation at 2019-09-02-01:30:21\n",
      "INFO:tensorflow:Saving dict for global step 573: average_loss = 94.481026, global_step = 573, loss = 11417.668\n",
      "RMSE on validation dataset = 9.720134735107422\n"
     ]
    }
   ],
   "source": [
    "def print_rmse(model, name, df):\n",
    "  metrics = model.evaluate(input_fn = make_input_fn(df, 1))\n",
    "  print('RMSE on {} dataset = {}'.format(name, np.sqrt(metrics['average_loss'])))\n",
    "print_rmse(model, 'validation', df_valid)"
   ]
  },
  {
   "cell_type": "markdown",
   "metadata": {},
   "source": [
    "This is nowhere near our benchmark (RMSE of $6 or so on this data), but it serves to demonstrate what TensorFlow code looks like.  Let's use this model for prediction."
   ]
  },
  {
   "cell_type": "code",
   "execution_count": 7,
   "metadata": {},
   "outputs": [
    {
     "name": "stdout",
     "output_type": "stream",
     "text": [
      "INFO:tensorflow:Using default config.\n",
      "INFO:tensorflow:Using config: {'_global_id_in_cluster': 0, '_is_chief': True, '_cluster_spec': <tensorflow.python.training.server_lib.ClusterSpec object at 0x7f47bad87860>, '_save_checkpoints_secs': 600, '_num_ps_replicas': 0, '_master': '', '_save_checkpoints_steps': None, '_evaluation_master': '', '_model_dir': 'taxi_trained', '_keep_checkpoint_every_n_hours': 10000, '_session_config': None, '_task_id': 0, '_keep_checkpoint_max': 5, '_log_step_count_steps': 100, '_save_summary_steps': 100, '_tf_random_seed': None, '_num_worker_replicas': 1, '_task_type': 'worker', '_train_distribute': None, '_service': None}\n",
      "INFO:tensorflow:Calling model_fn.\n",
      "INFO:tensorflow:Done calling model_fn.\n",
      "INFO:tensorflow:Graph was finalized.\n",
      "INFO:tensorflow:Restoring parameters from taxi_trained/model.ckpt-573\n",
      "INFO:tensorflow:Running local_init_op.\n",
      "INFO:tensorflow:Done running local_init_op.\n",
      "[11.414583, 11.41753, 11.419514, 11.540641, 11.546117]\n"
     ]
    }
   ],
   "source": [
    "import itertools\n",
    "# Read saved model and use it for prediction\n",
    "model = tf.estimator.LinearRegressor(\n",
    "      feature_columns = make_feature_cols(), model_dir = OUTDIR)\n",
    "preds_iter = model.predict(input_fn = make_input_fn(df_valid, 1))\n",
    "print([pred['predictions'][0] for pred in list(itertools.islice(preds_iter, 5))])"
   ]
  },
  {
   "cell_type": "markdown",
   "metadata": {},
   "source": [
    "This explains why the RMSE was so high -- the model essentially predicts the same amount for every trip.  Would a more complex model help? Let's try using a deep neural network.  The code to do this is quite straightforward as well."
   ]
  },
  {
   "cell_type": "markdown",
   "metadata": {},
   "source": [
    "<h3> Deep Neural Network regression </h3>"
   ]
  },
  {
   "cell_type": "code",
   "execution_count": 8,
   "metadata": {},
   "outputs": [
    {
     "name": "stdout",
     "output_type": "stream",
     "text": [
      "INFO:tensorflow:Using default config.\n",
      "INFO:tensorflow:Using config: {'_global_id_in_cluster': 0, '_is_chief': True, '_cluster_spec': <tensorflow.python.training.server_lib.ClusterSpec object at 0x7f47bac62828>, '_save_checkpoints_secs': 600, '_num_ps_replicas': 0, '_master': '', '_save_checkpoints_steps': None, '_evaluation_master': '', '_model_dir': 'taxi_trained', '_keep_checkpoint_every_n_hours': 10000, '_session_config': None, '_task_id': 0, '_keep_checkpoint_max': 5, '_log_step_count_steps': 100, '_save_summary_steps': 100, '_tf_random_seed': None, '_num_worker_replicas': 1, '_task_type': 'worker', '_train_distribute': None, '_service': None}\n",
      "INFO:tensorflow:Calling model_fn.\n",
      "INFO:tensorflow:Done calling model_fn.\n",
      "INFO:tensorflow:Create CheckpointSaverHook.\n",
      "INFO:tensorflow:Graph was finalized.\n",
      "INFO:tensorflow:Running local_init_op.\n",
      "INFO:tensorflow:Done running local_init_op.\n",
      "INFO:tensorflow:Saving checkpoints for 1 into taxi_trained/model.ckpt.\n",
      "INFO:tensorflow:step = 1, loss = 32466.336\n",
      "INFO:tensorflow:global_step/sec: 259.745\n",
      "INFO:tensorflow:step = 101, loss = 42331.707 (0.393 sec)\n",
      "INFO:tensorflow:global_step/sec: 263.144\n",
      "INFO:tensorflow:step = 201, loss = 14703.776 (0.376 sec)\n",
      "INFO:tensorflow:global_step/sec: 262.967\n",
      "INFO:tensorflow:step = 301, loss = 27631.258 (0.380 sec)\n",
      "INFO:tensorflow:global_step/sec: 274.745\n",
      "INFO:tensorflow:step = 401, loss = 8625.436 (0.364 sec)\n",
      "INFO:tensorflow:global_step/sec: 274.375\n",
      "INFO:tensorflow:step = 501, loss = 8827.563 (0.365 sec)\n",
      "INFO:tensorflow:global_step/sec: 273.469\n",
      "INFO:tensorflow:step = 601, loss = 15301.445 (0.366 sec)\n",
      "INFO:tensorflow:global_step/sec: 271.155\n",
      "INFO:tensorflow:step = 701, loss = 13647.174 (0.370 sec)\n",
      "INFO:tensorflow:global_step/sec: 269.544\n",
      "INFO:tensorflow:step = 801, loss = 17375.256 (0.370 sec)\n",
      "INFO:tensorflow:global_step/sec: 289.369\n",
      "INFO:tensorflow:step = 901, loss = 7875.309 (0.345 sec)\n",
      "INFO:tensorflow:global_step/sec: 271.979\n",
      "INFO:tensorflow:step = 1001, loss = 14099.277 (0.373 sec)\n",
      "INFO:tensorflow:global_step/sec: 249.552\n",
      "INFO:tensorflow:step = 1101, loss = 13754.6045 (0.396 sec)\n",
      "INFO:tensorflow:global_step/sec: 293.961\n",
      "INFO:tensorflow:step = 1201, loss = 10795.449 (0.340 sec)\n",
      "INFO:tensorflow:global_step/sec: 283.763\n",
      "INFO:tensorflow:step = 1301, loss = 10158.6 (0.356 sec)\n",
      "INFO:tensorflow:global_step/sec: 274.811\n",
      "INFO:tensorflow:step = 1401, loss = 9076.597 (0.361 sec)\n",
      "INFO:tensorflow:global_step/sec: 266.762\n",
      "INFO:tensorflow:step = 1501, loss = 11694.467 (0.376 sec)\n",
      "INFO:tensorflow:global_step/sec: 266.669\n",
      "INFO:tensorflow:step = 1601, loss = 8555.6875 (0.373 sec)\n",
      "INFO:tensorflow:global_step/sec: 283.369\n",
      "INFO:tensorflow:step = 1701, loss = 13767.965 (0.353 sec)\n",
      "INFO:tensorflow:global_step/sec: 273.6\n",
      "INFO:tensorflow:step = 1801, loss = 11616.2705 (0.369 sec)\n",
      "INFO:tensorflow:global_step/sec: 271.899\n",
      "INFO:tensorflow:step = 1901, loss = 6287.3247 (0.364 sec)\n",
      "INFO:tensorflow:global_step/sec: 286.326\n",
      "INFO:tensorflow:step = 2001, loss = 3778.5112 (0.350 sec)\n",
      "INFO:tensorflow:global_step/sec: 263.698\n",
      "INFO:tensorflow:step = 2101, loss = 6834.83 (0.378 sec)\n",
      "INFO:tensorflow:global_step/sec: 267.295\n",
      "INFO:tensorflow:step = 2201, loss = 5995.0884 (0.374 sec)\n",
      "INFO:tensorflow:global_step/sec: 288.993\n",
      "INFO:tensorflow:step = 2301, loss = 5407.5137 (0.346 sec)\n",
      "INFO:tensorflow:global_step/sec: 246.083\n",
      "INFO:tensorflow:step = 2401, loss = 7292.874 (0.407 sec)\n",
      "INFO:tensorflow:global_step/sec: 282.223\n",
      "INFO:tensorflow:step = 2501, loss = 10166.835 (0.354 sec)\n",
      "INFO:tensorflow:global_step/sec: 264.548\n",
      "INFO:tensorflow:step = 2601, loss = 8299.002 (0.379 sec)\n",
      "INFO:tensorflow:global_step/sec: 265.093\n",
      "INFO:tensorflow:step = 2701, loss = 15111.354 (0.377 sec)\n",
      "INFO:tensorflow:global_step/sec: 269.607\n",
      "INFO:tensorflow:step = 2801, loss = 7329.173 (0.371 sec)\n",
      "INFO:tensorflow:global_step/sec: 259.994\n",
      "INFO:tensorflow:step = 2901, loss = 8131.314 (0.385 sec)\n",
      "INFO:tensorflow:global_step/sec: 282.794\n",
      "INFO:tensorflow:step = 3001, loss = 14768.623 (0.354 sec)\n",
      "INFO:tensorflow:global_step/sec: 289.888\n",
      "INFO:tensorflow:step = 3101, loss = 6673.191 (0.345 sec)\n",
      "INFO:tensorflow:global_step/sec: 260.178\n",
      "INFO:tensorflow:step = 3201, loss = 11318.322 (0.386 sec)\n",
      "INFO:tensorflow:global_step/sec: 275.49\n",
      "INFO:tensorflow:step = 3301, loss = 13074.096 (0.361 sec)\n",
      "INFO:tensorflow:global_step/sec: 278.437\n",
      "INFO:tensorflow:step = 3401, loss = 27118.879 (0.359 sec)\n",
      "INFO:tensorflow:global_step/sec: 286.339\n",
      "INFO:tensorflow:step = 3501, loss = 6808.6104 (0.353 sec)\n",
      "INFO:tensorflow:global_step/sec: 284.3\n",
      "INFO:tensorflow:step = 3601, loss = 11481.061 (0.348 sec)\n",
      "INFO:tensorflow:global_step/sec: 273.938\n",
      "INFO:tensorflow:step = 3701, loss = 8311.27 (0.365 sec)\n",
      "INFO:tensorflow:global_step/sec: 276.452\n",
      "INFO:tensorflow:step = 3801, loss = 22009.219 (0.362 sec)\n",
      "INFO:tensorflow:global_step/sec: 289.302\n",
      "INFO:tensorflow:step = 3901, loss = 7613.5566 (0.346 sec)\n",
      "INFO:tensorflow:global_step/sec: 280.063\n",
      "INFO:tensorflow:step = 4001, loss = 9159.762 (0.357 sec)\n",
      "INFO:tensorflow:global_step/sec: 288.767\n",
      "INFO:tensorflow:step = 4101, loss = 14878.383 (0.346 sec)\n",
      "INFO:tensorflow:global_step/sec: 285.094\n",
      "INFO:tensorflow:step = 4201, loss = 24613.393 (0.351 sec)\n",
      "INFO:tensorflow:global_step/sec: 269.826\n",
      "INFO:tensorflow:step = 4301, loss = 7912.843 (0.371 sec)\n",
      "INFO:tensorflow:global_step/sec: 271.303\n",
      "INFO:tensorflow:step = 4401, loss = 18386.223 (0.369 sec)\n",
      "INFO:tensorflow:global_step/sec: 290.253\n",
      "INFO:tensorflow:step = 4501, loss = 9541.072 (0.344 sec)\n",
      "INFO:tensorflow:global_step/sec: 242.933\n",
      "INFO:tensorflow:step = 4601, loss = 11385.681 (0.412 sec)\n",
      "INFO:tensorflow:global_step/sec: 276.546\n",
      "INFO:tensorflow:step = 4701, loss = 11235.762 (0.362 sec)\n",
      "INFO:tensorflow:global_step/sec: 278.525\n",
      "INFO:tensorflow:step = 4801, loss = 10717.043 (0.359 sec)\n",
      "INFO:tensorflow:global_step/sec: 281.476\n",
      "INFO:tensorflow:step = 4901, loss = 11169.017 (0.355 sec)\n",
      "INFO:tensorflow:global_step/sec: 276.382\n",
      "INFO:tensorflow:step = 5001, loss = 10423.309 (0.362 sec)\n",
      "INFO:tensorflow:global_step/sec: 277.317\n",
      "INFO:tensorflow:step = 5101, loss = 6213.115 (0.361 sec)\n",
      "INFO:tensorflow:global_step/sec: 270.686\n",
      "INFO:tensorflow:step = 5201, loss = 14476.9 (0.369 sec)\n",
      "INFO:tensorflow:global_step/sec: 286.755\n",
      "INFO:tensorflow:step = 5301, loss = 13207.541 (0.349 sec)\n",
      "INFO:tensorflow:global_step/sec: 262.599\n",
      "INFO:tensorflow:step = 5401, loss = 21110.17 (0.381 sec)\n",
      "INFO:tensorflow:global_step/sec: 274.478\n",
      "INFO:tensorflow:step = 5501, loss = 15602.998 (0.364 sec)\n",
      "INFO:tensorflow:global_step/sec: 283.667\n",
      "INFO:tensorflow:step = 5601, loss = 7445.5854 (0.352 sec)\n",
      "INFO:tensorflow:global_step/sec: 252.448\n",
      "INFO:tensorflow:step = 5701, loss = 12746.101 (0.398 sec)\n",
      "INFO:tensorflow:Saving checkpoints for 5729 into taxi_trained/model.ckpt.\n",
      "INFO:tensorflow:Loss for final step: 6067.573.\n",
      "INFO:tensorflow:Calling model_fn.\n",
      "INFO:tensorflow:Done calling model_fn.\n",
      "INFO:tensorflow:Starting evaluation at 2019-09-02-01:31:26\n",
      "INFO:tensorflow:Graph was finalized.\n",
      "INFO:tensorflow:Restoring parameters from taxi_trained/model.ckpt-5729\n",
      "INFO:tensorflow:Running local_init_op.\n",
      "INFO:tensorflow:Done running local_init_op.\n",
      "INFO:tensorflow:Finished evaluation at 2019-09-02-01:31:27\n",
      "INFO:tensorflow:Saving dict for global step 5729: average_loss = 94.484726, global_step = 5729, loss = 11418.115\n",
      "RMSE on validation dataset = 9.720325469970703\n"
     ]
    }
   ],
   "source": [
    "tf.logging.set_verbosity(tf.logging.INFO)\n",
    "shutil.rmtree(OUTDIR, ignore_errors = True) # start fresh each time\n",
    "model = tf.estimator.DNNRegressor(hidden_units = [32, 8, 2],\n",
    "      feature_columns = make_feature_cols(), model_dir = OUTDIR)\n",
    "model.train(input_fn = make_input_fn(df_train, num_epochs = 100));\n",
    "print_rmse(model, 'validation', df_valid)"
   ]
  },
  {
   "cell_type": "markdown",
   "metadata": {},
   "source": [
    "We are not beating our benchmark with either model ... what's up?  Well, we may be using TensorFlow for Machine Learning, but we are not yet using it well.  That's what the rest of this course is about!\n",
    "\n",
    "But, for the record, let's say we had to choose between the two models. We'd choose the one with the lower validation error. Finally, we'd measure the RMSE on the test data with this chosen model."
   ]
  },
  {
   "cell_type": "markdown",
   "metadata": {},
   "source": [
    "<h2> Benchmark dataset </h2>\n",
    "\n",
    "Let's do this on the benchmark dataset."
   ]
  },
  {
   "cell_type": "code",
   "execution_count": 9,
   "metadata": {},
   "outputs": [],
   "source": [
    "import datalab.bigquery as bq\n",
    "import numpy as np\n",
    "import pandas as pd\n",
    "\n",
    "def create_query(phase, EVERY_N):\n",
    "  \"\"\"\n",
    "  phase: 1 = train 2 = valid\n",
    "  \"\"\"\n",
    "  base_query = \"\"\"\n",
    "SELECT\n",
    "  (tolls_amount + fare_amount) AS fare_amount,\n",
    "  CONCAT(STRING(pickup_datetime), STRING(pickup_longitude), STRING(pickup_latitude), STRING(dropoff_latitude), STRING(dropoff_longitude)) AS key,\n",
    "  DAYOFWEEK(pickup_datetime)*1.0 AS dayofweek,\n",
    "  HOUR(pickup_datetime)*1.0 AS hourofday,\n",
    "  pickup_longitude AS pickuplon,\n",
    "  pickup_latitude AS pickuplat,\n",
    "  dropoff_longitude AS dropofflon,\n",
    "  dropoff_latitude AS dropofflat,\n",
    "  passenger_count*1.0 AS passengers,\n",
    "FROM\n",
    "  [nyc-tlc:yellow.trips]\n",
    "WHERE\n",
    "  trip_distance > 0\n",
    "  AND fare_amount >= 2.5\n",
    "  AND pickup_longitude > -78\n",
    "  AND pickup_longitude < -70\n",
    "  AND dropoff_longitude > -78\n",
    "  AND dropoff_longitude < -70\n",
    "  AND pickup_latitude > 37\n",
    "  AND pickup_latitude < 45\n",
    "  AND dropoff_latitude > 37\n",
    "  AND dropoff_latitude < 45\n",
    "  AND passenger_count > 0\n",
    "  \"\"\"\n",
    "\n",
    "  if EVERY_N == None:\n",
    "    if phase < 2:\n",
    "      # Training\n",
    "      query = \"{0} AND ABS(HASH(pickup_datetime)) % 4 < 2\".format(base_query)\n",
    "    else:\n",
    "      # Validation\n",
    "      query = \"{0} AND ABS(HASH(pickup_datetime)) % 4 == {1}\".format(base_query, phase)\n",
    "  else:\n",
    "    query = \"{0} AND ABS(HASH(pickup_datetime)) % {1} == {2}\".format(base_query, EVERY_N, phase)\n",
    "    \n",
    "  return query\n",
    "\n",
    "query = create_query(2, 100000)\n",
    "df = bq.Query(query).to_dataframe()"
   ]
  },
  {
   "cell_type": "code",
   "execution_count": 10,
   "metadata": {},
   "outputs": [
    {
     "name": "stdout",
     "output_type": "stream",
     "text": [
      "INFO:tensorflow:Calling model_fn.\n",
      "INFO:tensorflow:Done calling model_fn.\n",
      "INFO:tensorflow:Starting evaluation at 2019-09-02-01:32:41\n",
      "INFO:tensorflow:Graph was finalized.\n",
      "INFO:tensorflow:Restoring parameters from taxi_trained/model.ckpt-5729\n",
      "INFO:tensorflow:Running local_init_op.\n",
      "INFO:tensorflow:Done running local_init_op.\n",
      "INFO:tensorflow:Finished evaluation at 2019-09-02-01:32:42\n",
      "INFO:tensorflow:Saving dict for global step 5729: average_loss = 88.538925, global_step = 5729, loss = 11253.524\n",
      "RMSE on benchmark dataset = 9.409512519836426\n"
     ]
    }
   ],
   "source": [
    "print_rmse(model, 'benchmark', df)"
   ]
  },
  {
   "cell_type": "markdown",
   "metadata": {},
   "source": [
    "RMSE on benchmark dataset is <b>9.41</b> (your results will vary because of random seeds).\n",
    "\n",
    "This is not only way more than our original benchmark of 6.00, but it doesn't even beat our distance-based rule's RMSE of 8.02.\n",
    "\n",
    "Fear not -- you have learned how to write a TensorFlow model, but not to do all the things that you will have to do to your ML model performant. We will do this in the next chapters. In this chapter though, we will get our TensorFlow model ready for these improvements.\n",
    "\n",
    "In a software sense, the rest of the labs in this chapter will be about refactoring the code so that we can improve it."
   ]
  },
  {
   "cell_type": "markdown",
   "metadata": {},
   "source": [
    "Copyright 2017 Google Inc. Licensed under the Apache License, Version 2.0 (the \"License\"); you may not use this file except in compliance with the License. You may obtain a copy of the License at http://www.apache.org/licenses/LICENSE-2.0 Unless required by applicable law or agreed to in writing, software distributed under the License is distributed on an \"AS IS\" BASIS, WITHOUT WARRANTIES OR CONDITIONS OF ANY KIND, either express or implied. See the License for the specific language governing permissions and limitations under the License"
   ]
  }
 ],
 "metadata": {
  "kernelspec": {
   "display_name": "Python 3",
   "language": "python",
   "name": "python3"
  },
  "language_info": {
   "codemirror_mode": {
    "name": "ipython",
    "version": 3
   },
   "file_extension": ".py",
   "mimetype": "text/x-python",
   "name": "python",
   "nbconvert_exporter": "python",
   "pygments_lexer": "ipython3",
   "version": "3.5.6"
  }
 },
 "nbformat": 4,
 "nbformat_minor": 1
}
