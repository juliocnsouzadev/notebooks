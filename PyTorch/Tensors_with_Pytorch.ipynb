{
  "nbformat": 4,
  "nbformat_minor": 0,
  "metadata": {
    "colab": {
      "provenance": [],
      "authorship_tag": "ABX9TyNb75qeqpxSVz7IaB1yQgBw",
      "include_colab_link": true
    },
    "kernelspec": {
      "name": "python3",
      "display_name": "Python 3"
    },
    "language_info": {
      "name": "python"
    }
  },
  "cells": [
    {
      "cell_type": "markdown",
      "metadata": {
        "id": "view-in-github",
        "colab_type": "text"
      },
      "source": [
        "<a href=\"https://colab.research.google.com/github/juliocnsouzadev/notebooks/blob/issue-12-Tensors_with_Pytorch/PyTorch/Tensors_with_Pytorch.ipynb\" target=\"_parent\"><img src=\"https://colab.research.google.com/assets/colab-badge.svg\" alt=\"Open In Colab\"/></a>"
      ]
    },
    {
      "cell_type": "code",
      "source": [
        "import torch"
      ],
      "metadata": {
        "id": "rbjhMORStrSZ"
      },
      "execution_count": 1,
      "outputs": []
    },
    {
      "cell_type": "markdown",
      "source": [
        "## Matrix multiplication\n",
        "There are many important types of matrices which have their uses in neural networks. Some important matrices are matrices of ones (where each entry is set to 1) and the identity matrix (where the diagonal is set to 1 while all other values are 0). The identity matrix is very important in linear algebra: any matrix multiplied with identity matrix is simply the original matrix.\n",
        "\n",
        "Let us experiment with these two types of matrices. You are going to build a matrix of ones with shape 3 by 3 called tensor_of_ones and an identity matrix of the same shape, called identity_tensor. We are going to see what happens when we multiply these two matrices, and what happens if we do an element-wise multiplication of them."
      ],
      "metadata": {
        "id": "zWdtvIUvtl9w"
      }
    },
    {
      "cell_type": "code",
      "execution_count": 2,
      "metadata": {
        "colab": {
          "base_uri": "https://localhost:8080/"
        },
        "id": "sOziHkRtsdcK",
        "outputId": "2cbfcccf-8a5c-4979-8e46-1605bfd41555"
      },
      "outputs": [
        {
          "output_type": "stream",
          "name": "stdout",
          "text": [
            "tensor([[1., 1., 1.],\n",
            "        [1., 1., 1.],\n",
            "        [1., 1., 1.]])\n",
            "tensor([[1., 0., 0.],\n",
            "        [0., 1., 0.],\n",
            "        [0., 0., 1.]])\n"
          ]
        }
      ],
      "source": [
        "# Create a matrix of ones with shape 3 by 3\n",
        "tensor_of_ones = torch.ones(3, 3)\n",
        "\n",
        "# Create an identity matrix with shape 3 by 3\n",
        "identity_tensor = torch.eye(3)\n",
        "\n",
        "# Do a matrix multiplication of tensor_of_ones with identity_tensor\n",
        "matrices_multiplied = torch.mm(tensor_of_ones, identity_tensor)\n",
        "print(matrices_multiplied)\n",
        "\n",
        "# Do an element-wise multiplication of tensor_of_ones with identity_tensor\n",
        "element_multiplication =tensor_of_ones * identity_tensor\n",
        "print(element_multiplication)"
      ]
    },
    {
      "cell_type": "markdown",
      "source": [
        "Forward pass\n",
        "Let's have something resembling more a neural network. The computational graph has been given below. You are going to initialize 3 large random tensors, and then do the operations as given in the computational graph. The final operation is the mean of the tensor, given by torch.mean(your_tensor)."
      ],
      "metadata": {
        "id": "vapnSnTfE_jw"
      }
    },
    {
      "cell_type": "code",
      "source": [
        "# Initialize tensors x, y and z\n",
        "x = torch.rand(1000, 1000)\n",
        "y = torch.rand(1000, 1000)\n",
        "z = torch.rand(1000, 1000)\n",
        "\n",
        "# Multiply x with y\n",
        "q = x * y\n",
        "\n",
        "# Multiply elementwise z with q\n",
        "f = z * q\n",
        "\n",
        "mean_f = torch.mean(f)\n",
        "print(mean_f)"
      ],
      "metadata": {
        "colab": {
          "base_uri": "https://localhost:8080/"
        },
        "id": "O12D1M9UEmVd",
        "outputId": "29bf31ea-34a6-4b88-e651-d3a7303db1f7"
      },
      "execution_count": 3,
      "outputs": [
        {
          "output_type": "stream",
          "name": "stdout",
          "text": [
            "tensor(0.1249)\n"
          ]
        }
      ]
    },
    {
      "cell_type": "markdown",
      "source": [
        "# Backpropagation using PyTorch"
      ],
      "metadata": {
        "id": "tQ5_ChbLyKss"
      }
    },
    {
      "cell_type": "code",
      "source": [
        "# Initialize x, y, and z to values 4, -3, and 5 with requires_grad=True to track computations\n",
        "x = torch.tensor(4.0, requires_grad=True)\n",
        "y = torch.tensor(-3.0, requires_grad=True)\n",
        "z = torch.tensor(5.0, requires_grad=True)\n",
        "\n",
        "# Set q to the sum of x and y, set f to the product of q with z\n",
        "q = x + y\n",
        "f = q * z\n",
        "\n",
        "# Compute the derivatives\n",
        "f.backward()\n",
        "\n",
        "# Print the gradients\n",
        "print(\"Gradient of x is: \" + str(x.grad))\n",
        "print(\"Gradient of y is: \" + str(y.grad))\n",
        "print(\"Gradient of z is: \" + str(z.grad))\n"
      ],
      "metadata": {
        "colab": {
          "base_uri": "https://localhost:8080/"
        },
        "id": "hbeiG7izx3YC",
        "outputId": "28f2547f-6153-486e-c10f-3ced2acf91a8"
      },
      "execution_count": 4,
      "outputs": [
        {
          "output_type": "stream",
          "name": "stdout",
          "text": [
            "Gradient of x is: tensor(5.)\n",
            "Gradient of y is: tensor(5.)\n",
            "Gradient of z is: tensor(1.)\n"
          ]
        }
      ]
    },
    {
      "cell_type": "code",
      "source": [
        "# Multiply tensors x and y\n",
        "q = torch.mul(x,y)\n",
        "\n",
        "# Elementwise multiply tensors z with q\n",
        "f = z * q\n",
        "\n",
        "mean_f = torch.mean(f)\n",
        "\n",
        "# Calculate the gradients\n",
        "mean_f.backward()\n",
        "\n",
        "# The gradients are stored in the .grad attribute of tensors\n",
        "print(f\"Gradient of x: {x.grad}\")\n",
        "print(f\"Gradient of y: {y.grad}\")\n",
        "print(f\"Gradient of z: {z.grad}\")"
      ],
      "metadata": {
        "colab": {
          "base_uri": "https://localhost:8080/"
        },
        "id": "ITZBl9Le0oqb",
        "outputId": "099ce0ee-a80b-4b28-80a1-89ffc40f3013"
      },
      "execution_count": 5,
      "outputs": [
        {
          "output_type": "stream",
          "name": "stdout",
          "text": [
            "Gradient of x: -10.0\n",
            "Gradient of y: 25.0\n",
            "Gradient of z: -11.0\n"
          ]
        }
      ]
    },
    {
      "cell_type": "markdown",
      "source": [
        "# Neural Network The Hard Way"
      ],
      "metadata": {
        "id": "X5nbXof_klxQ"
      }
    },
    {
      "cell_type": "code",
      "source": [
        "input_layer = torch.rand(200,784)\n",
        "\n",
        "# Initialize the weights of the neural network\n",
        "weight_1 = torch.rand(784, 200)\n",
        "weight_2 = torch.rand(200, 10)\n",
        "\n",
        "# Multiply input_layer with weight_1\n",
        "hidden_1 = torch.matmul(input_layer, weight_1)\n",
        "\n",
        "# Multiply hidden_1 with weight_2\n",
        "output_layer = torch.matmul(hidden_1, weight_2)\n",
        "print(output_layer)"
      ],
      "metadata": {
        "colab": {
          "base_uri": "https://localhost:8080/"
        },
        "id": "zow-GwzOkje_",
        "outputId": "3d5c4ab3-19b0-4935-9a9a-3d9567ae29ec"
      },
      "execution_count": 6,
      "outputs": [
        {
          "output_type": "stream",
          "name": "stdout",
          "text": [
            "tensor([[21688.5996, 19725.2051, 20340.0273,  ..., 20458.7168, 20434.6289,\n",
            "         19357.4355],\n",
            "        [21582.0137, 19600.8398, 20221.3750,  ..., 20355.8828, 20316.5703,\n",
            "         19281.7129],\n",
            "        [21878.2949, 19862.1992, 20505.1797,  ..., 20641.1680, 20601.7441,\n",
            "         19546.0977],\n",
            "        ...,\n",
            "        [21533.7148, 19542.9980, 20184.5098,  ..., 20321.6250, 20260.3652,\n",
            "         19212.0879],\n",
            "        [21323.2031, 19370.6074, 19989.3887,  ..., 20114.3027, 20076.8008,\n",
            "         19025.1641],\n",
            "        [21642.1289, 19671.7344, 20280.6895,  ..., 20424.2344, 20409.3887,\n",
            "         19336.6133]])\n"
          ]
        }
      ]
    },
    {
      "cell_type": "code",
      "source": [
        "# Neural Network - First with Pytorch"
      ],
      "metadata": {
        "id": "Orq9KBUAojgi"
      },
      "execution_count": 7,
      "outputs": []
    },
    {
      "cell_type": "code",
      "source": [
        "from torch import nn\n",
        "\n",
        "class Net(nn.Module):\n",
        "    def __init__(self):\n",
        "        super(Net, self).__init__()\n",
        "\n",
        "        # Instantiate all 2 linear layers\n",
        "        self.fc1 = nn.Linear(784, 200)\n",
        "        self.fc2 = nn.Linear(200, 10)\n",
        "\n",
        "    def forward(self, x):\n",
        "\n",
        "        # Use the instantiated layers and return x\n",
        "        x = self.fc1(x)\n",
        "        x = self.fc2(x)\n",
        "        return self.output(x)"
      ],
      "metadata": {
        "id": "pfVWj953ktof"
      },
      "execution_count": 9,
      "outputs": []
    },
    {
      "cell_type": "code",
      "source": [],
      "metadata": {
        "id": "Tb3wy52NFRDh"
      },
      "execution_count": null,
      "outputs": []
    }
  ]
}