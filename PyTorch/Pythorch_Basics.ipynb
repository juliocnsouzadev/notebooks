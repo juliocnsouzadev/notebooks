{
 "cells": [
  {
   "metadata": {},
   "cell_type": "markdown",
   "source": "## Simple Tensor",
   "id": "268f485ef6353c77"
  },
  {
   "cell_type": "code",
   "execution_count": null,
   "id": "initial_id",
   "metadata": {
    "collapsed": true
   },
   "outputs": [],
   "source": [
    "import torch\n",
    "temperatures = [[72, 75, 78], [70, 73, 76]]\n",
    "temp_tensor = torch.tensor(temperatures)\n"
   ]
  },
  {
   "metadata": {},
   "cell_type": "markdown",
   "source": "## Simple 2 layer Neural Network",
   "id": "5b1872cc05ec708b"
  },
  {
   "metadata": {
    "ExecuteTime": {
     "end_time": "2025-02-04T06:55:43.181580Z",
     "start_time": "2025-02-04T06:55:38.898745Z"
    }
   },
   "cell_type": "code",
   "source": [
    "import torch\n",
    "import torch.nn as nn\n",
    "\n",
    "# Creating an input tensor with shape (1, 8), meaning one sample with eight features\n",
    "input_tensor = torch.Tensor([[2, 3, 6, 7, 9, 3, 2, 1]])\n",
    "\n",
    "# Implement a small neural network with two linear layers\n",
    "model = nn.Sequential(\n",
    "    nn.Linear(8, 4),  # First layer: transforms 8-dimensional input into 4-dimensional output\n",
    "    nn.ReLU(),        # Activation function: introduces non-linearity\n",
    "    nn.Linear(4, 1)   # Second layer: transforms 4-dimensional input into a single output value\n",
    ")\n",
    "\n",
    "# Forward pass: passing the input through the model\n",
    "output = model(input_tensor)\n",
    "print(output)  # Printing the final output"
   ],
   "id": "515e9d6e56f411a4",
   "outputs": [
    {
     "name": "stdout",
     "output_type": "stream",
     "text": [
      "tensor([[0.4068]], grad_fn=<AddmmBackward0>)\n"
     ]
    }
   ],
   "execution_count": 1
  },
  {
   "metadata": {},
   "cell_type": "code",
   "outputs": [],
   "execution_count": null,
   "source": "",
   "id": "9e971b59408be318"
  }
 ],
 "metadata": {
  "kernelspec": {
   "display_name": "Python 3",
   "language": "python",
   "name": "python3"
  },
  "language_info": {
   "codemirror_mode": {
    "name": "ipython",
    "version": 2
   },
   "file_extension": ".py",
   "mimetype": "text/x-python",
   "name": "python",
   "nbconvert_exporter": "python",
   "pygments_lexer": "ipython2",
   "version": "2.7.6"
  }
 },
 "nbformat": 4,
 "nbformat_minor": 5
}
