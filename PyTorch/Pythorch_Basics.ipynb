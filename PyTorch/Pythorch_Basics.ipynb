{
 "cells": [
  {
   "metadata": {
    "ExecuteTime": {
     "end_time": "2025-02-07T17:21:22.777761Z",
     "start_time": "2025-02-07T17:21:18.634296Z"
    }
   },
   "cell_type": "code",
   "source": [
    "# imports\n",
    "import torch\n",
    "import torch.nn as nn"
   ],
   "id": "13e4e9db0933bc1b",
   "outputs": [],
   "execution_count": 3
  },
  {
   "metadata": {},
   "cell_type": "markdown",
   "source": "## Simple Tensor",
   "id": "268f485ef6353c77"
  },
  {
   "cell_type": "code",
   "id": "initial_id",
   "metadata": {
    "collapsed": true,
    "ExecuteTime": {
     "end_time": "2025-02-07T17:22:24.740284Z",
     "start_time": "2025-02-07T17:22:24.736623Z"
    }
   },
   "source": [
    "temperatures = [[72, 75, 78], [70, 73, 76]]\n",
    "temp_tensor = torch.tensor(temperatures)\n",
    "print(f\"temp_tensor: {temp_tensor}\")"
   ],
   "outputs": [
    {
     "name": "stdout",
     "output_type": "stream",
     "text": [
      "temp_tensor: tensor([[72, 75, 78],\n",
      "        [70, 73, 76]])\n"
     ]
    }
   ],
   "execution_count": 6
  },
  {
   "metadata": {},
   "cell_type": "markdown",
   "source": "## Simple 2 layer Neural Network",
   "id": "5b1872cc05ec708b"
  },
  {
   "metadata": {
    "ExecuteTime": {
     "end_time": "2025-02-07T17:26:53.103166Z",
     "start_time": "2025-02-07T17:26:53.083867Z"
    }
   },
   "cell_type": "code",
   "source": [
    "# Creating an input tensor with shape (1, 8), meaning one sample with eight features\n",
    "input_tensor = torch.Tensor([[2, 3, 6, 7, 9, 3, 2, 1]])\n",
    "\n",
    "# Implement a small neural network with two linear layers\n",
    "model = nn.Sequential(\n",
    "    nn.Linear(8, 4),  # First layer: transforms 8-dimensional input into 4-dimensional output\n",
    "    nn.ReLU(),        # Activation function: introduces non-linearity\n",
    "    nn.Linear(4, 1)   # Second layer: transforms 4-dimensional input into a single output value\n",
    ")\n",
    "\n",
    "# Forward pass: passing the input through the model\n",
    "output = model(input_tensor)\n",
    "print(f\"Output: {output} given the input: {input_tensor} after the forward pass with the model with 2 layers and ReLU activation\")"
   ],
   "id": "515e9d6e56f411a4",
   "outputs": [
    {
     "name": "stdout",
     "output_type": "stream",
     "text": [
      "Given the input tensor representing student grades in 8 subjects: tensor([[2., 3., 6., 7., 9., 3., 2., 1.]]), the predicted final score after passing through the neural network is: 0.2786370515823364\n"
     ]
    }
   ],
   "execution_count": 9
  },
  {
   "metadata": {},
   "cell_type": "markdown",
   "source": "## Simple 2 layer Neural Network with Sigmoid Activation",
   "id": "dc50b6cfbf4edb45"
  },
  {
   "metadata": {
    "ExecuteTime": {
     "end_time": "2025-02-07T17:28:07.866823Z",
     "start_time": "2025-02-07T17:28:07.827608Z"
    }
   },
   "cell_type": "code",
   "source": [
    "input_tensor = torch.Tensor([[3, 4, 6, 2, 3, 6, 8, 9]])\n",
    "\n",
    "# Implement a small neural network for binary classification\n",
    "model = nn.Sequential(\n",
    "    nn.Linear(8,1), # First layer: transforms 8-dimensional input into a single output value\n",
    "    nn.Sigmoid() # Activation function: Sigmoid function. Meaning the output will be a value between 0 and 1\n",
    ")\n",
    "\n",
    "output = model(input_tensor)\n",
    "print(f\"Output: {output} given the input: {input_tensor} after the forward pass with the model with 2 layers and Sigmoid activation\")"
   ],
   "id": "898bd75741404d76",
   "outputs": [
    {
     "name": "stdout",
     "output_type": "stream",
     "text": [
      "Output: tensor([[0.0249]], grad_fn=<SigmoidBackward0>) given the input: tensor([[3., 4., 6., 2., 3., 6., 8., 9.]]) after the forward pass with the model with 2 layers and Sigmoid activation\n"
     ]
    }
   ],
   "execution_count": 11
  },
  {
   "metadata": {},
   "cell_type": "code",
   "outputs": [],
   "execution_count": null,
   "source": "",
   "id": "eae25b831d525342"
  }
 ],
 "metadata": {
  "kernelspec": {
   "display_name": "Python 3",
   "language": "python",
   "name": "python3"
  },
  "language_info": {
   "codemirror_mode": {
    "name": "ipython",
    "version": 2
   },
   "file_extension": ".py",
   "mimetype": "text/x-python",
   "name": "python",
   "nbconvert_exporter": "python",
   "pygments_lexer": "ipython2",
   "version": "2.7.6"
  }
 },
 "nbformat": 4,
 "nbformat_minor": 5
}
