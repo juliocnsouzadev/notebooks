{
 "cells": [
  {
   "metadata": {},
   "cell_type": "markdown",
   "source": "# Working with Hugging Faces",
   "id": "9a5e1ddf7beaf920"
  },
  {
   "metadata": {},
   "cell_type": "markdown",
   "source": "## Listing Models",
   "id": "8f6b8b5b596f83b"
  },
  {
   "cell_type": "code",
   "id": "initial_id",
   "metadata": {
    "collapsed": true
   },
   "source": [
    "from huggingface_hub import HfApi\n",
    "\n",
    "# Create an instance of the HfApi class\n",
    "api = HfApi()\n",
    "\n",
    "# List only the first 2 models available on the Hub\n",
    "models = list(api.list_models(limit=2))\n",
    "\n",
    "# Print the first 2 models\n",
    "for model in models:\n",
    "    print(model)"
   ],
   "outputs": [],
   "execution_count": null
  },
  {
   "metadata": {},
   "cell_type": "markdown",
   "source": "## Building a Text Pipeline",
   "id": "8359b4c96c53165f"
  },
  {
   "metadata": {},
   "cell_type": "code",
   "source": [
    "from transformers import pipeline\n",
    "\n",
    "my_pipeline = pipeline(task=\"text-generation\", model=\"gpt2\")\n",
    "\n",
    "# Generate three text outputs with a maximum length of 10 tokens\n",
    "results = my_pipeline(\"one, two, three\", max_length=10, num_return_sequences=3)\n",
    "\n",
    "# Display each result\n",
    "for result in results:\n",
    "    print(result['generated_text'])"
   ],
   "id": "520b175e624208f",
   "outputs": [],
   "execution_count": null
  },
  {
   "metadata": {},
   "cell_type": "markdown",
   "source": "",
   "id": "e5272c07455e4fb6"
  }
 ],
 "metadata": {
  "kernelspec": {
   "display_name": "Python 3",
   "language": "python",
   "name": "python3"
  },
  "language_info": {
   "codemirror_mode": {
    "name": "ipython",
    "version": 2
   },
   "file_extension": ".py",
   "mimetype": "text/x-python",
   "name": "python",
   "nbconvert_exporter": "python",
   "pygments_lexer": "ipython2",
   "version": "2.7.6"
  }
 },
 "nbformat": 4,
 "nbformat_minor": 5
}
